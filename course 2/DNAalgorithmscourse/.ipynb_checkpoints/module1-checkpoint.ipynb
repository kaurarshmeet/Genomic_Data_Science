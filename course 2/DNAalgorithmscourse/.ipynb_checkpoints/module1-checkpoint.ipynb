{
 "cells": [
  {
   "cell_type": "markdown",
   "id": "df0d0a64-daa9-42ac-a284-ce3f13569c56",
   "metadata": {
    "jp-MarkdownHeadingCollapsed": true
   },
   "source": [
    "## write a function to find longest common prefix between two strings "
   ]
  },
  {
   "cell_type": "code",
   "execution_count": 2,
   "id": "4ec0bb5e-f651-4b15-9a93-cf33b706f97f",
   "metadata": {},
   "outputs": [],
   "source": [
    "def longestCommonPrefix(s1,s2): \n",
    "    #indicate the index, will help with iterating through loops\n",
    "\ti = 0 \n",
    "\t#while i is less than the lengths of both strings respectively (meaning until they've reached the end\n",
    "\t#and where the nucleotidefor both s1 and s2 is the same \n",
    "\twhile i < len(s1) and i < len(s2) and s1[i] == s2[i]: \n",
    "\t\t#add one more iteration to the loop, keep going until we hit the end of either string or until s1 and s2 don't match  \n",
    "\t\ti += 1 \n",
    "\t#loop terminates at some value i, where they either don't match or one string ends, so the last index i should not be included \n",
    "\treturn s1[:i] "
   ]
  },
  {
   "cell_type": "code",
   "execution_count": 3,
   "id": "ce587481-2ccf-4339-983b-b5ad394bc251",
   "metadata": {},
   "outputs": [
    {
     "data": {
      "text/plain": [
       "'ACCA'"
      ]
     },
     "execution_count": 3,
     "metadata": {},
     "output_type": "execute_result"
    }
   ],
   "source": [
    "longestCommonPrefix('ACCATGT', 'ACCAGAC') #should return ACCA "
   ]
  },
  {
   "cell_type": "markdown",
   "id": "922abe2f-c025-4134-9362-c972966075f6",
   "metadata": {
    "jp-MarkdownHeadingCollapsed": true
   },
   "source": [
    "## write a function to find whether two sequences match exactly "
   ]
  },
  {
   "cell_type": "code",
   "execution_count": 61,
   "id": "50b4bab0-8559-43c0-917c-7e311c89727e",
   "metadata": {},
   "outputs": [],
   "source": [
    "def match(s1,s2): \n",
    "    i=0\n",
    "    if len(s1) == len(s2):\n",
    "        for i in range(len(s1)):\n",
    "            if s1[i] == s2[i]:\n",
    "                i += 1\n",
    "            else:\n",
    "                print(\"The strings do not match completely. They match until:\", s1[:i])   \n",
    "                return False\n",
    "        print(\"matched\") \n",
    "        return True\n",
    "    else:\n",
    "        print(\"mismatching lengths\") \n",
    "        return False"
   ]
  },
  {
   "cell_type": "code",
   "execution_count": 62,
   "id": "87ea11c1-bc61-4ec0-b714-6e0e614b4213",
   "metadata": {},
   "outputs": [
    {
     "name": "stdout",
     "output_type": "stream",
     "text": [
      "mismatching lengths\n"
     ]
    },
    {
     "data": {
      "text/plain": [
       "False"
      ]
     },
     "execution_count": 62,
     "metadata": {},
     "output_type": "execute_result"
    }
   ],
   "source": [
    "#test it \n",
    "match('ACC', 'ACCA') "
   ]
  },
  {
   "cell_type": "code",
   "execution_count": 63,
   "id": "2e1a8d7c-fcb2-4faa-b75b-9838c3df6c67",
   "metadata": {},
   "outputs": [
    {
     "name": "stdout",
     "output_type": "stream",
     "text": [
      "The strings do not match completely. They match until: AC\n"
     ]
    },
    {
     "data": {
      "text/plain": [
       "False"
      ]
     },
     "execution_count": 63,
     "metadata": {},
     "output_type": "execute_result"
    }
   ],
   "source": [
    "#test it \n",
    "match('ACC', 'ACA') "
   ]
  },
  {
   "cell_type": "code",
   "execution_count": 64,
   "id": "9754557b-806b-461a-a921-f5b441fd7b18",
   "metadata": {},
   "outputs": [
    {
     "name": "stdout",
     "output_type": "stream",
     "text": [
      "matched\n"
     ]
    },
    {
     "data": {
      "text/plain": [
       "True"
      ]
     },
     "execution_count": 64,
     "metadata": {},
     "output_type": "execute_result"
    }
   ],
   "source": [
    "#test it \n",
    "match('ACC', 'ACC') "
   ]
  },
  {
   "cell_type": "markdown",
   "id": "689e6a06-d734-4493-b479-d54adb2a7b1a",
   "metadata": {
    "jp-MarkdownHeadingCollapsed": true
   },
   "source": [
    "## write a function to get a reverse compliment of a DNA string "
   ]
  },
  {
   "cell_type": "code",
   "execution_count": 65,
   "id": "baee7edd-3519-4e8d-a412-a70bc1fb6af5",
   "metadata": {},
   "outputs": [],
   "source": [
    "def reverseComplement(s):\n",
    "\tcomplement = {'a':'t', 'c':'g', 'g':'c', 't':'a'} \n",
    "\tt = '' \n",
    "\tfor base in s:\n",
    "\t\t#adding complement[base] + t instead of t + complement[base] adds bases to the string backwards (reverse compliment)\n",
    "\t\tt = complement[base] + t \n",
    "\treturn t "
   ]
  },
  {
   "cell_type": "code",
   "execution_count": 67,
   "id": "478d087b-4722-4a34-8bb0-8f7cb7b05c6c",
   "metadata": {},
   "outputs": [
    {
     "data": {
      "text/plain": [
       "'acacacgt'"
      ]
     },
     "execution_count": 67,
     "metadata": {},
     "output_type": "execute_result"
    }
   ],
   "source": [
    "reverseComplement('acgtgtgt') "
   ]
  },
  {
   "cell_type": "markdown",
   "id": "522fdb95-21de-4c88-9332-4b0686345f33",
   "metadata": {
    "jp-MarkdownHeadingCollapsed": true
   },
   "source": [
    "## Downloading and parsing a genome "
   ]
  },
  {
   "cell_type": "code",
   "execution_count": 5,
   "id": "44bad771-52bb-48b0-9610-326ca52a1a82",
   "metadata": {},
   "outputs": [],
   "source": [
    "#write a function to read a genome from a .fa file \n",
    "\n",
    "#define the funnction, the argument will be the file you give\n",
    "def read_genome(filename):\n",
    "\t#initialize an empty string to add nucleotides to from the .fa file later \n",
    "\tgenome = ''\n",
    "\t#read in the file 'r' for read \n",
    "\t#give it a name (as f) \n",
    "\twith open(filename, 'r') as f:\n",
    "\t\t#now we're going to go through line by line\n",
    "\t\tfor line in f: \n",
    "\t\t\t#first condition: making sure it's not one of the introductory lines that starts with > \n",
    "\t\t\tif not line[0] == '>':\n",
    "\t\t\t\t#add the line to the genome string \n",
    "\t\t\t\t#rstrip => gets rid of whitespace at the end of a line \n",
    "\t\t\t\tgenome += line.rstrip()\n",
    "\t#when the for loop and everything is done, return the genome string\n",
    "\treturn genome "
   ]
  },
  {
   "cell_type": "code",
   "execution_count": 9,
   "id": "10a6d74d-365f-43e3-a217-e586c7ed6bb5",
   "metadata": {},
   "outputs": [],
   "source": [
    "genome = read_genome('lambda_virus.fa')\n",
    "#print(genome)"
   ]
  },
  {
   "cell_type": "code",
   "execution_count": 10,
   "id": "2f92b8cb-f89e-4744-9b5b-ba80a5e6372b",
   "metadata": {},
   "outputs": [
    {
     "data": {
      "text/plain": [
       "48502"
      ]
     },
     "execution_count": 10,
     "metadata": {},
     "output_type": "execute_result"
    }
   ],
   "source": [
    "len(genome)"
   ]
  },
  {
   "cell_type": "code",
   "execution_count": 18,
   "id": "2843b402-ab87-40ad-9216-0841f214c974",
   "metadata": {},
   "outputs": [
    {
     "name": "stdout",
     "output_type": "stream",
     "text": [
      "{'A': 12334, 'C': 11362, 'G': 12820, 'T': 11986}\n"
     ]
    }
   ],
   "source": [
    "#count the frequency of each base \n",
    "\n",
    "#initialize a dictionary, initialize a value of 0 for each base's counts and then create a for loop that updates it as goes \n",
    "counts = {'A': 0, 'C': 0, 'G':0, 'T':0} \n",
    "#run through each base in the genome, one nucleotide at a time \n",
    "for base in genome:\n",
    "\t#counts['A'] for example, will add 1 to the value for the A key in the counts dictionary everytime the base is A \n",
    "\tcounts[base] += 1\n",
    "#return the dictionary with the counts\n",
    "print(counts) "
   ]
  },
  {
   "cell_type": "code",
   "execution_count": 19,
   "id": "6ad49b4a-7e38-4097-8255-1c19b11c8ef0",
   "metadata": {},
   "outputs": [
    {
     "data": {
      "text/plain": [
       "Counter({'G': 12820, 'A': 12334, 'T': 11986, 'C': 11362})"
      ]
     },
     "execution_count": 19,
     "metadata": {},
     "output_type": "execute_result"
    }
   ],
   "source": [
    "#can also use a python module \n",
    "import collections \n",
    "collections.Counter(genome)"
   ]
  },
  {
   "cell_type": "markdown",
   "id": "cf96833a-945c-4000-9828-59955928dde1",
   "metadata": {
    "jp-MarkdownHeadingCollapsed": true
   },
   "source": [
    "## Working with Sequencing Reads"
   ]
  },
  {
   "cell_type": "code",
   "execution_count": 5,
   "id": "43ee5562-b3d6-465f-8793-a2b22a887fc4",
   "metadata": {},
   "outputs": [],
   "source": [
    "def readFastq(filename):\n",
    "    #save the sequences\n",
    "    sequences = []\n",
    "    #save their qualities\n",
    "    qualities = []\n",
    "    with open(filename) as fh:\n",
    "        while True:\n",
    "            #.readline() goes one line at a time\n",
    "            #.rstrip() to strip empty whitespace \n",
    "            #read in the first line => doesn't really matter so you don't have to store it anywhere\n",
    "            fh.readline()\n",
    "            seq = fh.readline().rstrip()\n",
    "            fh.readline()\n",
    "            qual = fh.readline().rstrip()\n",
    "            #did I reach the end? \n",
    "            #if you've reached end, seq is done\n",
    "            if len(seq) == 0: \n",
    "                #break out of the while loop\n",
    "                break \n",
    "            #or else append values to list \n",
    "            else: \n",
    "                sequences.append(seq)\n",
    "                qualities.append(qual) \n",
    "    return sequences, qualities        "
   ]
  },
  {
   "cell_type": "code",
   "execution_count": 8,
   "id": "6b9a415c-2bc6-466a-9750-bde2b0897d29",
   "metadata": {},
   "outputs": [
    {
     "name": "stdout",
     "output_type": "stream",
     "text": [
      "['TAACCCTAACCCTAACCCTAACCCTAACCCTAACCCTAACCCTAACCCTAACCCTCACCCTAACCCTAACCCTAACCGTATCCGTCACCCTAACCCTAAC', 'TAACCCTAACCCTAACCCTAACCCTAACCCTAACCCTAACCCTAACCCTAACCCTACCCTAACCCTAACCCTAACCCTAACCCTAACCCTAACCCTAACC', 'TAGGGTTAGGGTTAGGGTTAGGGTTAGGGTTAGGGTTAGGGTTAGGGTTAGGGTTAGGGTTAGGGTTAGGGTTAGGGTTAGGGTTAGGGTTAGGGTTAGG', 'TAGGGTTAGGGTTAGGGTTAGGGTTAGGGTTAGGGTTAGGGTTAGGGTTAGGGTTAGGGTTAGGGTTAAGGGTTGGGGGTTAGGGGTAGGGGTAGGGTTA', 'CTAACCCTAACCCTAACCCTAACCCTACCCTAACCCTAACCCTAACCCTAACCCTAACCCTAACCCTAACCCTAACCCAACCCTAACCCTAACCCTCACC']\n",
      "['???B1ADDD8??BB+C?B+:AA883CEE8?C3@DDD3)?D2;DC?8?=BAD=@C@(.6.6=A?=?@##################################', 'CCCFFFFFGHHGHJJJJJIJGIIJJJJJJJIJIJJJJJFJJFGIIIIH=CBFCF=CCEG)=>EHB2@@DEC>;;?=;(=?BBD?59?BA###########', '@@<DD?DDHHH<CBHII:CFGIGAGHIIG?CCGGE0BDHIIHIGICH8=FHGI=@EHGGGEEHH>);?CC@.;(=;?59,5<A599?CB>ABBCB><88A', '@CCFFDDFHHHDFHIJJCGGIJJHIIHJC?DHHIJ0?DGHI9BBFHICGGIGI=CDEGI=?AAEF7@?################################', '@<@FDFDDBBFHH@EBGGGEH@FFHE;EHIEGGBHG?)9?8BDGGBGGBCDGI=93=C6==C;CCD(?@>@#############################']\n"
     ]
    }
   ],
   "source": [
    "seqs, quals = readFastq('SRR835775_1.first1000.fastq') \n",
    "print(seqs[:5]) \n",
    "print(quals[:5])"
   ]
  },
  {
   "cell_type": "code",
   "execution_count": 54,
   "id": "165240c4-5d3f-4367-a67b-f9c4836f3547",
   "metadata": {},
   "outputs": [],
   "source": [
    "# Getting Quality score (Q) from ascii score (phred 33 encoded)\n",
    "\n",
    "def phred33_toQ(qual):\n",
    "    #ord => converts character to ascii score value\n",
    "    return ord(qual) - 33"
   ]
  },
  {
   "cell_type": "code",
   "execution_count": 27,
   "id": "b100b8f4-b7bc-4c36-9ca9-e61b038f6b89",
   "metadata": {},
   "outputs": [],
   "source": [
    "def phred33_toQ_list(qualities_list):\n",
    "    scores = []  # Initialize an empty list to store the numerical quality scores\n",
    "    for qual_string in qualities_list:\n",
    "        for qual in qual_string:\n",
    "            score = ord(qual) - 33\n",
    "            scores.append(score)\n",
    "    return scores"
   ]
  },
  {
   "cell_type": "code",
   "execution_count": 30,
   "id": "43b294b7-cc7c-498a-9e16-37ad4e3d0a5f",
   "metadata": {},
   "outputs": [
    {
     "name": "stdout",
     "output_type": "stream",
     "text": [
      "[30, 30, 30, 33, 16]\n"
     ]
    }
   ],
   "source": [
    "scores = phred33_toQ_list(quals)\n",
    "print(scores[:5]) "
   ]
  },
  {
   "cell_type": "code",
   "execution_count": 55,
   "id": "02beed1d-2f54-47a8-8265-a13ca41a2c05",
   "metadata": {},
   "outputs": [],
   "source": [
    "#histogram of quality scores \n",
    "def createHist(qualities):\n",
    "    # Define range 0 to 50\n",
    "    hist = [0] * 50\n",
    "    for qual in qualities:\n",
    "        for phred in qual:\n",
    "            q = phred33_toQ(phred)\n",
    "            hist[q] += 1\n",
    "    return hist"
   ]
  },
  {
   "cell_type": "code",
   "execution_count": 56,
   "id": "5985b659-2281-4bcf-9e5c-d503240b580b",
   "metadata": {},
   "outputs": [
    {
     "name": "stdout",
     "output_type": "stream",
     "text": [
      "[0, 0, 6178, 0, 0, 54, 108, 574, 345, 83, 193, 124, 79, 165, 49, 236, 184, 327, 514, 238, 531, 254, 313, 798, 992, 888, 1396, 1488, 993, 1752, 3387, 4487, 3248, 5476, 8375, 11814, 4243, 7827, 6579, 8179, 9349, 8180, 0, 0, 0, 0, 0, 0, 0, 0]\n"
     ]
    }
   ],
   "source": [
    "hist = createHist(quals)\n",
    "print(hist)"
   ]
  },
  {
   "cell_type": "code",
   "execution_count": 57,
   "id": "745f0882-0dfc-4200-8764-970613b581cc",
   "metadata": {},
   "outputs": [
    {
     "name": "stdout",
     "output_type": "stream",
     "text": [
      "Requirement already satisfied: matplotlib in ./venv/lib/python3.11/site-packages (3.7.2)\n",
      "Requirement already satisfied: contourpy>=1.0.1 in ./venv/lib/python3.11/site-packages (from matplotlib) (1.1.0)\n",
      "Requirement already satisfied: cycler>=0.10 in ./venv/lib/python3.11/site-packages (from matplotlib) (0.11.0)\n",
      "Requirement already satisfied: fonttools>=4.22.0 in ./venv/lib/python3.11/site-packages (from matplotlib) (4.42.0)\n",
      "Requirement already satisfied: kiwisolver>=1.0.1 in ./venv/lib/python3.11/site-packages (from matplotlib) (1.4.4)\n",
      "Requirement already satisfied: numpy>=1.20 in ./venv/lib/python3.11/site-packages (from matplotlib) (1.25.2)\n",
      "Requirement already satisfied: packaging>=20.0 in ./venv/lib/python3.11/site-packages (from matplotlib) (23.1)\n",
      "Requirement already satisfied: pillow>=6.2.0 in ./venv/lib/python3.11/site-packages (from matplotlib) (10.0.0)\n",
      "Requirement already satisfied: pyparsing<3.1,>=2.3.1 in ./venv/lib/python3.11/site-packages (from matplotlib) (3.0.9)\n",
      "Requirement already satisfied: python-dateutil>=2.7 in ./venv/lib/python3.11/site-packages (from matplotlib) (2.8.2)\n",
      "Requirement already satisfied: six>=1.5 in ./venv/lib/python3.11/site-packages (from python-dateutil>=2.7->matplotlib) (1.16.0)\n"
     ]
    }
   ],
   "source": [
    "!pip install matplotlib"
   ]
  },
  {
   "cell_type": "code",
   "execution_count": 58,
   "id": "55bce950-2308-41fa-a7fb-21ddfc031e3d",
   "metadata": {},
   "outputs": [
    {
     "name": "stdout",
     "output_type": "stream",
     "text": [
      "[0, 0, 6178, 0, 0, 54, 108, 574, 345, 83, 193, 124, 79, 165, 49, 236, 184, 327, 514, 238, 531, 254, 313, 798, 992, 888, 1396, 1488, 993, 1752, 3387, 4487, 3248, 5476, 8375, 11814, 4243, 7827, 6579, 8179, 9349, 8180, 0, 0, 0, 0, 0, 0, 0, 0]\n"
     ]
    },
    {
     "data": {
      "image/png": "[encoded data removed]",
      "text/plain": [
       "<Figure size 640x480 with 1 Axes>"
      ]
     },
     "metadata": {},
     "output_type": "display_data"
    }
   ],
   "source": [
    "hist = createHist(quals)\n",
    "print(hist)\n",
    "import matplotlib.pyplot as plt \n",
    "plt.bar(range(len(hist)),hist)\n",
    "plt.show()"
   ]
  },
  {
   "cell_type": "markdown",
   "id": "319ca784-d67f-4623-ba9d-c4d60afd0707",
   "metadata": {
    "jp-MarkdownHeadingCollapsed": true
   },
   "source": [
    "## Getting GC Percentage "
   ]
  },
  {
   "cell_type": "code",
   "execution_count": 70,
   "id": "5d4f84cb-af1c-4a85-b5d1-857ec23d6b50",
   "metadata": {},
   "outputs": [],
   "source": [
    "#get gc percents \n",
    "#pass in sequencing reads\n",
    "def findGCByPos(reads):\n",
    "    #range from 0 to 100 (how long each read is)\n",
    "    #gc content \n",
    "    gc = [0] * 100\n",
    "    #totals\n",
    "    totals = [0] * 100\n",
    "\n",
    "    #get each string\n",
    "    for read in reads: \n",
    "        #get each nucleotide in each read\n",
    "        for i in range(len(read)):\n",
    "            #check if i = c or g\n",
    "            if read[i] == 'C' or read[i] == 'G':\n",
    "                #get the gs and cs \n",
    "                gc[i] += 1\n",
    "            #get totals \n",
    "            totals[i] += 1 \n",
    "\n",
    "    for i in range(len(gc)):\n",
    "        if totals[i] > 0:\n",
    "            #divide gc over totals \n",
    "            gc[i] /= float(totals[i]) \n",
    "\n",
    "    return gc "
   ]
  },
  {
   "cell_type": "code",
   "execution_count": 72,
   "id": "a1ed555c-6278-498c-96af-c23f1ec3657b",
   "metadata": {},
   "outputs": [
    {
     "name": "stdout",
     "output_type": "stream",
     "text": [
      "Counter({'G': 28742, 'C': 28272, 'T': 21836, 'A': 21132, 'N': 18})\n"
     ]
    }
   ],
   "source": [
    "import collections \n",
    "#count \n",
    "count = collections.Counter() \n",
    "for seq in seqs:\n",
    "    count.update(seq)\n",
    "print(count) "
   ]
  }
 ],
 "metadata": {
  "kernelspec": {
   "display_name": "Python 3 (ipykernel)",
   "language": "python",
   "name": "python3"
  },
  "language_info": {
   "codemirror_mode": {
    "name": "ipython",
    "version": 3
   },
   "file_extension": ".py",
   "mimetype": "text/x-python",
   "name": "python",
   "nbconvert_exporter": "python",
   "pygments_lexer": "ipython3",
   "version": "3.11.4"
  }
 },
 "nbformat": 4,
 "nbformat_minor": 5
}
