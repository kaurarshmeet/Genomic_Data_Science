{
 "cells": [
  {
   "cell_type": "markdown",
   "metadata": {},
   "source": [
    "# Project 2: Read Alignment and Genome Assembly with Dynamic Programming"
   ]
  },
  {
   "cell_type": "markdown",
   "metadata": {},
   "source": [
    "## Module 3 Introduction"
   ]
  },
  {
   "cell_type": "markdown",
   "metadata": {},
   "source": [
    "Dynamic Programming Algorithms \n",
    "- flexible\n",
    "- allow us to look for approximate matches considering insertions/deletions \n",
    "- find similar substrings between strings \n",
    "\n",
    "And then we move onto genome assembly without a reference genome\n",
    "- begin to discuss concepts related to that. "
   ]
  },
  {
   "cell_type": "markdown",
   "metadata": {},
   "source": [
    "## Solving Edit Distance Problem "
   ]
  },
  {
   "cell_type": "markdown",
   "metadata": {},
   "source": [
    "Two different ways to measure difference betwen two strings \n",
    "\n",
    "Hamming distance = minimum # of substitutions needed to turn one string to another (both strings are of the same length). \n",
    "- pretty easy to find the Hamming Distance \n",
    "\n",
    "Edit distance = mimumum # of substitutions/insertions/deletions needed to turn one string to another (both strings do not have to be the same length). \n",
    "- pretty hard to find the edit distance\n",
    "\n",
    "Have to approach edit distance with a couple steps: \n",
    "\n",
    "If we have strings, x and y, of the same length, we can say the following about the hamming_distance and edit_distance between x and y \n",
    "\n",
    "1. edit_distance <= hamming_distance\n",
    "- in the case there are only substitution differences, they'll be equal\n",
    "- if there's an indel, edit_distance will be less because you don't have to make all those substituions, you can just shift it. \n",
    "\n",
    "If we have strings, x and y, of different length, we can say the following about the edit_distance between x and y \n",
    "\n",
    "1. edit_distance >= abs(len(x)-len(y))\n",
    "- we always have to fill the gap in lengths. so if there are no substitutions, adding those characters will be the = edit_distance \n",
    "- if there are substitutions, adding those characters will be > edit distance. \n",
    "\n",
    "Algorithm to correct the edit distance: \n",
    "\n",
    "- Take two very long strings\n",
    "- Consider the prefix of the strings (everything but the last base)\n",
    "- C and A are more generally represented as X and Y, differing bases. \n",
    "\n",
    "Fig. 1\n",
    "\n",
    "- Take the edit distance between the two prefixes \n",
    "\n",
    "- The mimumum of these three numbers is the edit distance between the two strings: \n",
    "\n",
    "delta = 0 if x = y or 1 otherwise.\n",
    "ed(changing alpha to beta) + (delta)\n",
    "ed(changing alpha(x) to beta) + (adding one base to beta)\n",
    "ed(changing alpha to ( beta(y)) ) + (adding one base to alpha)\n",
    "\n",
    "Fig. 2 \n",
    "\n",
    "- all of this can be represented by a recursive function (below)\n",
    "problem : recursion is slow. super slow.\n",
    "solution: use dynamic programming. "
   ]
  },
  {
   "cell_type": "markdown",
   "metadata": {},
   "source": [
    "Fig. 1 \n",
    "<img src=\"/Users/arshmeetkaur/Genomic_Data_Science/course3_algorithms/images/prefixes.png\" alt=\"Local Image\" width=\"300\">\n",
    "\n",
    "Fig. 2\n",
    "<img src=\"/Users/arshmeetkaur/Genomic_Data_Science/course 3 /images/edit_distance_formula.png\" alt=\"Local Image\" width=\"300\">"
   ]
  },
  {
   "cell_type": "code",
   "execution_count": 1,
   "metadata": {},
   "outputs": [],
   "source": [
    "def hamming_distance(x, y): \n",
    "    \"\"\" returns hamming distance (subs only). \"\"\"\n",
    "    subs = 0\n",
    "    for i in range(len(x)):\n",
    "        if x[i] != y[i]: \n",
    "            subs += 1 \n",
    "    return subs "
   ]
  },
  {
   "cell_type": "code",
   "execution_count": 12,
   "metadata": {},
   "outputs": [],
   "source": [
    "def edit_distance_recursion(a, b): \n",
    "    \"\"\" returns edit distance recursively (slow). \"\"\"\n",
    "\n",
    "    # base case - one empty string means edit distance between them is equal to the other string. \n",
    "    if len(a) == 0: \n",
    "        return len(b) \n",
    "    if len(b) == 0:\n",
    "        return len(a)\n",
    "\n",
    "    delt = 1 if a[-1] != b[-1] else 0\n",
    "    return min(edit_distance_recursion(a[:-1], b[:-1]) + delt, \n",
    "               edit_distance_recursion(a, b[:-1]) + 1, \n",
    "               edit_distance_recursion(a[:-1], b) + 1)"
   ]
  },
  {
   "cell_type": "markdown",
   "metadata": {},
   "source": [
    "## Using dynamic programming for edit distance"
   ]
  },
  {
   "cell_type": "markdown",
   "metadata": {},
   "source": [
    "- need to rewrite the recursive function \n",
    "- characters of string x label rows, characters of string y label columns (fig 1)\n",
    "- first row and first column are labeled with epsilon, for the empty string\n",
    "- fill in each position in the matrix with the edit distance\n",
    "- the total edit distance is in the bottom right corner (fig 2)\n",
    "\n",
    "How this works: \n",
    "- initialize 1rst row to 0... len(x), initialize 1rst column to 0... len(y), this makes sense if you think about the edit distance. \n",
    "- think of each of the edit distance terms as one position in the matrix (see fig 3). the edist( alpha(x) + beta(y) ) = min (three other cells)\n",
    "\n",
    "- this dynamic programming approach is good for a lot of things. "
   ]
  },
  {
   "cell_type": "markdown",
   "metadata": {},
   "source": [
    "Fig 1 \n",
    "<img src=\"/Users/arshmeetkaur/Genomic_Data_Science/course 3 /images/matrix.png\" alt=\"Local Image\" width=\"500\">\n",
    "\n",
    "Fig 2\n",
    "<img src=\"/Users/arshmeetkaur/Genomic_Data_Science/course 3 /images/corner_matrix.png\" alt=\"Local Image\" width=\"500\">\n",
    "\n",
    "Fig 3 \n",
    "<img src=\"/Users/arshmeetkaur/Genomic_Data_Science/course 3 /images/boxes.jpeg\" alt=\"Local Image\" width=\"500\">\n",
    "<img src=\"/Users/arshmeetkaur/Genomic_Data_Science/course 3 /images/fill_in.png\" alt=\"Local Image\" width=\"500\">\n",
    "<img src=\"/Users/arshmeetkaur/Genomic_Data_Science/course 3 /images/final_matrix.png\" alt=\"Local Image\" width=\"500\">"
   ]
  },
  {
   "cell_type": "markdown",
   "metadata": {},
   "source": [
    "## Practical: Implementing dynamic programming for edit distance"
   ]
  },
  {
   "cell_type": "code",
   "execution_count": 3,
   "metadata": {},
   "outputs": [],
   "source": [
    "def edit_distance(x, y):\n",
    "    \"\"\" uses dynamic programming to compute edit distance. \"\"\"\n",
    "    D = [] # intial array \n",
    "    \n",
    "    # initialize the array as rows = (x+1) by cols = (y+1) (+1 because we're counting the empty prefix)\n",
    "    for i in range(len(x) + 1):\n",
    "        D.append([0] * (len(y) + 1))\n",
    "\n",
    "    # initialize first row as 0 through y+1\n",
    "    for i in range(len(y) + 1):\n",
    "        D[0][i] = i\n",
    "    # initialize first column as 0 through x+1 \n",
    "    for i in range(len(x) + 1):\n",
    "        D[i][0] = i\n",
    "    \n",
    "    # step through and fill in the rest of the matrix (not going through the top left corner)\n",
    "    # for each row... \n",
    "    for r in range(1, len(x) + 1): \n",
    "        # for each column...\n",
    "        for c in range(1, len(y) + 1): \n",
    "            # check if the strings are equal at the indices corresponding to each character's row/column \n",
    "            delt = 0 if x[r-1] == y[c-1] else 1\n",
    "            # evaluate the values of the top, left and diagonal choices\n",
    "            top = D[r-1][c] + 1\n",
    "            left = D[r][c-1] + 1\n",
    "            diagonal = D[r-1][c-1] + delt \n",
    "            # new spot filled by min of all choices \n",
    "            D[r][c] = min(top, left, diagonal)\n",
    "\n",
    "    # once done filling in the matrix, return bottom right corner value \n",
    "    return D[len(x)][len(y)]\n"
   ]
  },
  {
   "cell_type": "code",
   "execution_count": 15,
   "metadata": {},
   "outputs": [
    {
     "name": "stdout",
     "output_type": "stream",
     "text": [
      "3\n",
      "CPU times: user 95 μs, sys: 4 μs, total: 99 μs\n",
      "Wall time: 116 μs\n"
     ]
    }
   ],
   "source": [
    "%%time \n",
    "x = 'shake spea'\n",
    "y = 'Shakespear'\n",
    "print(edit_distance(x,y))"
   ]
  },
  {
   "cell_type": "code",
   "execution_count": 16,
   "metadata": {},
   "outputs": [
    {
     "name": "stdout",
     "output_type": "stream",
     "text": [
      "3\n",
      "CPU times: user 1.4 s, sys: 4.73 ms, total: 1.41 s\n",
      "Wall time: 1.42 s\n"
     ]
    }
   ],
   "source": [
    "%%time \n",
    "print(edit_distance_recursion(x,y)) # max recursion depth exceeded."
   ]
  },
  {
   "cell_type": "markdown",
   "metadata": {},
   "source": [
    "## Lecture: A new solution to approximate matching"
   ]
  },
  {
   "cell_type": "markdown",
   "metadata": {},
   "source": [
    "Fig 1 - initial matrix of P and T \n",
    "\n",
    "<img src=\"/Users/arshmeetkaur/Genomic_Data_Science/course 3 /images/starting_pt.png\" alt=\"Local Image\" width=\"500\">\n",
    "\n",
    "Fig 2 - initialize values of first row and column \n",
    "\n",
    "<img src=\"/Users/arshmeetkaur/Genomic_Data_Science/course 3 /images/initialize_rc_pt.png\" alt=\"Local Image\" width=\"500\">\n",
    "\n",
    "- we'll create a matrix of P rows and T columns (fig 1)\n",
    "- we will initialize values of the first column to be 0 to len(p)\n",
    "- we will initialize values of the first row to all be 0. \n",
    "Why? Because that first index of P could be at any offset of T, we don't know yet. (fig 2)\n",
    "\n",
    "Fig 3 - fill in matrix same way, get index of best match, find path from best match to top row. \n",
    "\n",
    "<img src=\"/Users/arshmeetkaur/Genomic_Data_Science/course 3 /images/match_offset.png\" alt=\"Local Image\" width=\"500\">\n",
    "\n",
    "- fill in the matrix in exactly the same way. \n",
    "\n",
    "- to identify approx matches: identify the occurence with the lowest edit distance. look in the len(p) row and find the smallest value (smallest edit distance)\n",
    "\n",
    "- to get the index of the best match work backwards. Look at the top bottom and diagonal cells, find the smallest value and go backwards to the min value. At the end, you will end up somewhere in the top row.\n",
    "\n",
    "- look at the column we're in, that's the offset of T that matches with P\n",
    "\n",
    "Fig 4 - The path tells us a bunch of stuff \n",
    "\n",
    "<img src=\"/Users/arshmeetkaur/Genomic_Data_Science/course 3 /images/match_offset_pattern.jpeg\" alt=\"Local Image\" width=\"500\">\n",
    "\n",
    "- big problem = quite slow. O( (len(p)) * len(t) ) because you have to go through the entire matrix. \n",
    "- impractical to use on your own\n",
    "- usually, this technique is combined with others.\n",
    "- by combining this with previous techniques (index/pigeonhole principle), we can have the speed of the previous techniques and the approximate matching which handles gaps and indels"
   ]
  },
  {
   "cell_type": "markdown",
   "metadata": {},
   "source": [
    "## Meet the family: global and local alignment "
   ]
  },
  {
   "cell_type": "markdown",
   "metadata": {},
   "source": [
    "Variations on theme of dynamic programming for edit distance for global and local alignment problems \n",
    "\n",
    "- edit distance penalizes in and del and subs the same. \n",
    "no difference between insertion and deletion \n",
    "no difference between substitution of A/T and A/G\n",
    "\n",
    "- in reality, it might make more sense to penalize less frequent types of mutations more. \n",
    "\n",
    "Global Alignment: \n",
    "\n",
    "Fig 1 - Categories of DNA mutations \n",
    "<img src=\"/Users/arshmeetkaur/Genomic_Data_Science/course 3 /images/purines_pyrm.png\" alt=\"Local Image\" width=\"500\">\n",
    "\n",
    "A and G are purines, C and T are pyrimidines. \n",
    "- going across types is transversion \n",
    "- switching a purine for a purine or pyrimidine for pyrimidine, those are transitions. \n",
    "- in reality, transitions were twice as frequent as tranversions. \n",
    "- want to penalize transversions more than transitions. \n",
    "\n",
    "Fig 2 - rates of subs and indels \n",
    "<img src=\"/Users/arshmeetkaur/Genomic_Data_Science/course 3 /images/sub_indel_rates.png\" alt=\"Local Image\" width=\"500\">\n",
    "'\n",
    "- indels less frequent than subsitutions, so penalize them more.\n",
    "\n",
    "Fig 3- penalty matrix \n",
    "<img src=\"/Users/arshmeetkaur/Genomic_Data_Science/course 3 /images/penalty_matrix.png\" alt=\"Local Image\" width=\"500\">\n",
    "\n",
    "- depends on which species you're working with, this is for humans.\n",
    "\n",
    "Step: Initialize first row and column \n",
    "- top right char is always 0\n",
    "- see the practical code\n",
    "\n",
    "Fig 4 - editing the dynamic programming algo. \n",
    "<img src=\"/Users/arshmeetkaur/Genomic_Data_Science/course 3 /images/penalty_function.png\" alt=\"Local Image\" width=\"500\">\n",
    "\n",
    "- all that has to change is what we add to each edit distance. now we look up what value to add in a penalty matrix function \n",
    "- other than that, the global alignmnet algorithm is the exact same.\n",
    "\n",
    "Local Alignment: \n",
    "\n",
    "Fig 1 - Local Alignment - find the most similar pair of substrings between strings X and Y. \n",
    "<img src=\"/Users/arshmeetkaur/Genomic_Data_Science/course 3 /images/local_alignment.png\" alt=\"Local Image\" width=\"500\">\n",
    "\n",
    "- very difficult because we have to consider all possible pairs of substrings between X and Y: which is like len(p)^2 * len(t)^2 pairs \n",
    "\n",
    "Fig 2 - Scoring Matrix \n",
    "<img src=\"/Users/arshmeetkaur/Genomic_Data_Science/course 3 /images/scoring_matrix.png\" alt=\"Local Image\" width=\"500\">\n",
    "\n",
    "- initialize 0s and 0s for row and column\n",
    "- fill in with the scoring matrix function as the addition \n",
    "(use a scoring matrix: give a + bonus for match and - deduction for each mismatch.)\n",
    " \n",
    "Fig 3 - Dynamic Programming Matrix \n",
    "<img src=\"/Users/arshmeetkaur/Genomic_Data_Science/course 3 /images/la_matrix.png\" alt=\"Local Image\" width=\"500\">\n",
    "\n",
    "- many elements are 0, because the goal of local laignment is to find parts of X and Y that match close enough to highlight the reigons of max\n",
    "- to get the indices: \n",
    "- find the biggest number (anywhere in the matrix) and traceback, stop when you reach and element = 0. \n",
    "- the substrings are the values along x and y across the space that the diagonal is covering. \n",
    "- you can tell shape of the substring match by the traceback path."
   ]
  },
  {
   "cell_type": "markdown",
   "metadata": {},
   "source": [
    "## Practical: Implementing global alignment"
   ]
  },
  {
   "cell_type": "code",
   "execution_count": 20,
   "metadata": {},
   "outputs": [],
   "source": [
    "# global alignment \n",
    "\n",
    "# A and G are purines\n",
    "# C and T are pyrimidines\n",
    "alphabet = ['A', 'C', 'G', 'T']\n",
    "# penalty matrix \n",
    "# nucleotide against A, C, G, T, skip\n",
    "# row A, C, G, T\n",
    "penalty = [ [0, 4, 2, 4, 8], #A \n",
    "            [4, 0, 4, 2, 8], #C\n",
    "            [2, 4, 0, 4, 8], #G\n",
    "            [4, 2, 4, 0, 8], #T \n",
    "            [8, 8, 8, 8, 8] ] #all skips\n",
    "\n",
    "def global_alignment(x, y):\n",
    "    D = [] # intial array \n",
    "    \n",
    "    # initialize the array as rows = (x+1) by cols = (y+1) (+1 because we're counting the empty prefix)\n",
    "    for i in range(len(x) + 1):\n",
    "        D.append([0] * (len(y) + 1))\n",
    "\n",
    "    \"\"\" \n",
    "    Step: Initialize first row and column \n",
    "    - top right char is always 0\n",
    "    - the first column should contain all skips, the penalties for skipping a character.\n",
    "    - for each column value in the first row (after column 1), penalties for skipping a character. \n",
    "    \"\"\"\n",
    "    \n",
    "    # initialize first column \n",
    "    # only 1, len(x) + 1 because top corner should be 0. e\n",
    "    for i in range(1, len(x) + 1):\n",
    "        D[i][0] = D[i-1][0] + penalty[alphabet.index(x[i-1])][-1]\n",
    "     # initialize first row \n",
    "    for i in range(1, len(y) + 1):\n",
    "        # take the character to the current character and add the penalty of a skip for that character\n",
    "        D[0][i] = D[0][i-1] + penalty[-1][alphabet.index(y[i-1])]\n",
    "    \n",
    "    # step through and fill in the rest of the matrix (not going through the top left corner)\n",
    "    # for each row... \n",
    "    for r in range(1, len(x) + 1): \n",
    "        # for each column...\n",
    "        for c in range(1, len(y) + 1): \n",
    "            # evaluate the values of the top, left and diagonal choices\n",
    "            top = D[r-1][c] +  penalty[alphabet.index(x[r-1])][-1] # penalty for skipping a character in y \n",
    "            left = D[r][c-1] + penalty[-1][alphabet.index(y[c-1])] # penalty for skipping a character\n",
    "            diagonal = D[r-1][c-1] + penalty[alphabet.index(x[r-1])][alphabet.index(y[c-1])] # penalty for difference in char\n",
    "            # new spot filled by min of all choices \n",
    "            D[r][c] = min(top, left, diagonal)\n",
    "\n",
    "    # once done filling in the matrix, return bottom right corner value \n",
    "    return D[len(x)][len(y)]"
   ]
  },
  {
   "cell_type": "code",
   "execution_count": 21,
   "metadata": {},
   "outputs": [
    {
     "data": {
      "text/plain": [
       "4"
      ]
     },
     "execution_count": 21,
     "metadata": {},
     "output_type": "execute_result"
    }
   ],
   "source": [
    "x = 'TACCAGATTCGA'\n",
    "y = 'TACCACATTCGA'\n",
    "global_alignment(x, y)"
   ]
  },
  {
   "cell_type": "markdown",
   "metadata": {},
   "source": [
    "## Lecture: Read alignment in the field"
   ]
  },
  {
   "cell_type": "markdown",
   "metadata": {},
   "source": [
    "How does read alignmnet actually happen in the field? \n",
    "\n",
    "- indexing + dynamic programming are a powerful combination \n",
    "\n",
    "Fig 1: Indexing. \n",
    "<img src=\"/Users/arshmeetkaur/Genomic_Data_Science/course 3 /images/indexing.png\" alt=\"Local Image\" width=\"500\">\n",
    "\n",
    "- pros: fast, narrow down a small number of potential matches within a huge genome. \n",
    "- cons: bad at flexibility, doing approximate matches/gaps. \n",
    "\n",
    "Fig 2: Dynamic Programming\n",
    "\n",
    "<img src=\"/Users/arshmeetkaur/Genomic_Data_Science/course 3 /images/dynamic_programming.png\" alt=\"Local Image\" width=\"500\">\n",
    "\n",
    "- pros: naturally good at being flexible, doing approximate matches even with indels. \n",
    "- cons: really slow. Huge table sizes for a P(read) by T(reference genome) table. Would take years to align one genome sequence. \n",
    "\n",
    "Fig 3: work together\n",
    "<img src=\"/Users/arshmeetkaur/Genomic_Data_Science/course 3 /images/combined.png\" alt=\"Local Image\" width=\"500\">\n",
    "\n",
    "- So they have to work together to combine these "
   ]
  },
  {
   "cell_type": "markdown",
   "metadata": {},
   "source": [
    "## Assembly Problem: Working from Scratch"
   ]
  },
  {
   "cell_type": "markdown",
   "metadata": {},
   "source": [
    "- de novo shotgun assembly: putting together a puzzle with no completed puzzle. \n",
    "    - species that has never been studied before and we dont have a reference for like the human genome project. \n",
    "\n",
    "- fundamentally difficult problem, more difficult than read alignment. "
   ]
  },
  {
   "cell_type": "markdown",
   "metadata": {},
   "source": [
    "## Lecture: First and second laws of assembly"
   ]
  },
  {
   "cell_type": "markdown",
   "metadata": {},
   "source": [
    "Fig 1: The assembly problem \n",
    "<img src=\"/Users/arshmeetkaur/Genomic_Data_Science/course 3 /images/assembly_problem.png\" alt=\"Local Image\" width=\"500\">\n",
    "\n",
    "We are given reads from a genome that we would like to assemble. \n",
    "- we dont know where the reads came from. \n",
    "- we also don't know what the genome is. \n",
    "\n",
    "Vocabulary: \n",
    "\n",
    "Fig 2- coverage \n",
    "<img src=\"/Users/arshmeetkaur/Genomic_Data_Science/course 3 /images/coverage.png\" alt=\"Local Image\" width=\"500\">\n",
    "\n",
    "- coverage = the reads per each position. The reads are giving us (coverage) number of votes on one position. \n",
    "    - sometimes, not all reads agree on what base should be there. \n",
    "\n",
    "Fig 3 - average coverage \n",
    "<img src=\"/Users/arshmeetkaur/Genomic_Data_Science/course 3 /images/average_coverage.png\" alt=\"Local Image\" width=\"500\">\n",
    "\n",
    "- average coverage = (total length of all reads)/(total length of the genome)\n",
    "\n",
    "How do you peice together the genome? \n",
    "\n",
    "Fig 4- First law of assembly \n",
    "<img src=\"/Users/arshmeetkaur/Genomic_Data_Science/course 3 /images/first_law.png\" alt=\"Local Image\" width=\"500\">\n",
    "\n",
    "- if two reads come from the same genome and the suffix of one read is very similar to the prefix of another, they are likely to overlap in the genome. \n",
    "\n",
    "Fig 5- sequencing erors, differences in overlapping reads because of polyploidy\n",
    "<img src=\"/Users/arshmeetkaur/Genomic_Data_Science/course 3 /images/differences.png\" alt=\"Local Image\" width=\"500\">\n",
    "\n",
    "- ^^ reasons why two overlapping reads have a couple mismatches. \n",
    "\n",
    "Fig 6 - Second law of assembly \n",
    "\n",
    "<img src=\"/Users/arshmeetkaur/Genomic_Data_Science/course 3 /images/second_law.png\" alt=\"Local Image\" width=\"500\">\n",
    "- more coverage (more reads per base of the genome), more longer overlaps "
   ]
  },
  {
   "cell_type": "markdown",
   "metadata": {},
   "source": [
    "## Overlap Graphs"
   ]
  },
  {
   "cell_type": "markdown",
   "metadata": {},
   "source": [
    "- talked about overlaps in reads that help us glue the genome together\n",
    "- we'll talk about a way to put all the overalps into one structure \n",
    "\n",
    "Fig 1 and 2 - Directed graph:\n",
    "<img src=\"/Users/arshmeetkaur/Genomic_Data_Science/course 3 /images/hamlet.png\" alt=\"Local Image\" width=\"500\">\n",
    "<img src=\"/Users/arshmeetkaur/Genomic_Data_Science/course 3 /images/node_edge.png\" alt=\"Local Image\" width=\"500\">\n",
    "- node \n",
    "- edge \n",
    "- nodes and edges have some meaning\n",
    "- in a directed graph, the edges have a direction. \n",
    "- in this case, nodes are character, edges are killing. \n",
    "\n",
    "Fig 3 - read overlap graphs\n",
    "<img src=\"/Users/arshmeetkaur/Genomic_Data_Science/course 3 /images/read_overlap.png\" alt=\"Local Image\" width=\"500\">\n",
    "- draw an edge from the read that has a suffix that overlaps with the other node's prefix\n",
    "- each edge is labeled with the amount that overlaps: has to be an exact match over 4\n",
    "\n",
    "Fig 5- How to get the genome from this graph\n",
    "<img src=\"/Users/arshmeetkaur/Genomic_Data_Science/course 3 /images/find_genome.png\" alt=\"Local Image\" width=\"500\">\n",
    "- the orignal genome is going to be obtained by walking through one path in this graph. \n",
    "- follow the path of the biggest edge value throughout the tree\n",
    "- in reality, much less idealized"
   ]
  },
  {
   "cell_type": "markdown",
   "metadata": {},
   "source": [
    "## Practical: Overlaps between pairs of reads"
   ]
  },
  {
   "cell_type": "code",
   "execution_count": 26,
   "metadata": {},
   "outputs": [],
   "source": [
    "def overlap(a, b, min_length = 3): # min length of the overlap. \n",
    "    \"\"\" find overlap betwedn suffix of a and prefix of b. \n",
    "    Mimumum overlap must be 3 between the suffix and prefix by default.\n",
    "    If the suffix and prefix overlap by less than min_length, return 0. \n",
    "    If the suffix and prefix overlap by more than min_length, return their max overlap length. \"\"\"\n",
    "    start = 0 # start seaching at index 0\n",
    "    while True:\n",
    "        # search for the first prefix substring of b (length 3) in a \n",
    "        start = a.find(b[:min_length], start) \n",
    "        # if there was no occurence of an overlap of size min_length, return 0. \n",
    "        if start == -1:\n",
    "            return 0 \n",
    "        # if the start is not -1, we found prefix of b in a. \n",
    "        # check that the prefix of a matches with the suffix of a (after the start occurence of b)\n",
    "        if b.startswith(a[start:]):\n",
    "            return len(a) - start \n",
    "        # if the prefix of b didn't match fully with the suffix of a after start, \n",
    "        # increment start so we can start searching at the next place. \n",
    "        start += 1 "
   ]
  },
  {
   "cell_type": "code",
   "execution_count": 32,
   "metadata": {},
   "outputs": [
    {
     "data": {
      "text/plain": [
       "4"
      ]
     },
     "execution_count": 32,
     "metadata": {},
     "output_type": "execute_result"
    }
   ],
   "source": [
    "overlap('TTACGTG', 'CGTGTGC')"
   ]
  },
  {
   "cell_type": "code",
   "execution_count": 33,
   "metadata": {},
   "outputs": [
    {
     "data": {
      "text/plain": [
       "3"
      ]
     },
     "execution_count": 33,
     "metadata": {},
     "output_type": "execute_result"
    }
   ],
   "source": [
    "overlap('TTACGT', 'CGTGTGC')"
   ]
  },
  {
   "cell_type": "code",
   "execution_count": 31,
   "metadata": {},
   "outputs": [
    {
     "data": {
      "text/plain": [
       "0"
      ]
     },
     "execution_count": 31,
     "metadata": {},
     "output_type": "execute_result"
    }
   ],
   "source": [
    "overlap('TTACGT', 'GTGTGC')"
   ]
  },
  {
   "cell_type": "markdown",
   "metadata": {},
   "source": [
    "## Practical: Finding and representing all overlaps"
   ]
  },
  {
   "cell_type": "code",
   "execution_count": 3,
   "metadata": {},
   "outputs": [
    {
     "data": {
      "text/plain": [
       "[(1, 2, 3), (1, 3, 2), (2, 1, 3), (2, 3, 1), (3, 1, 2), (3, 2, 1)]"
      ]
     },
     "execution_count": 3,
     "metadata": {},
     "output_type": "execute_result"
    }
   ],
   "source": [
    "from itertools import permutations\n",
    "\n",
    "list(permutations([1,2,3], 3)) # gives you all possible permutations of the list. "
   ]
  },
  {
   "cell_type": "code",
   "execution_count": 39,
   "metadata": {},
   "outputs": [],
   "source": [
    "def naive_overlap_map(reads, k): \n",
    "    \"\"\" Reads and min overlap length k \"\"\"\n",
    "    olaps = {} # dictionary of overlaps \n",
    "\n",
    "    \"\"\" For all pairs of reads in a set of reads, \n",
    "    calculate the overlap between a and b (with min_length = k)\n",
    "    if the overlap is greater than zero, record that overlap in the dictionary. \n",
    "    \"\"\"\n",
    "    for a, b in permutations(reads, 2):\n",
    "        olen = overlap(a, b, min_length=k)\n",
    "        if olen > 0: \n",
    "            olaps[(a, b)] = olen \n",
    "    \n",
    "    return olaps "
   ]
  },
  {
   "cell_type": "code",
   "execution_count": 42,
   "metadata": {},
   "outputs": [
    {
     "name": "stdout",
     "output_type": "stream",
     "text": [
      "{('ACGGATC', 'GATCAAGT'): 4, ('TTCACGGA', 'ACGGATC'): 5}\n"
     ]
    }
   ],
   "source": [
    "reads = ['ACGGATC', 'GATCAAGT', 'TTCACGGA']\n",
    "print(naive_overlap_map(reads, 3))"
   ]
  }
 ],
 "metadata": {
  "kernelspec": {
   "display_name": "myenv",
   "language": "python",
   "name": "python3"
  },
  "language_info": {
   "codemirror_mode": {
    "name": "ipython",
    "version": 3
   },
   "file_extension": ".py",
   "mimetype": "text/x-python",
   "name": "python",
   "nbconvert_exporter": "python",
   "pygments_lexer": "ipython3",
   "version": "3.12.4"
  }
 },
 "nbformat": 4,
 "nbformat_minor": 2
}
