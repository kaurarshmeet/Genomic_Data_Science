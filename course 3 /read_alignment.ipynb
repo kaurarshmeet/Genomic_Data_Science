{
 "cells": [
  {
   "cell_type": "markdown",
   "id": "556e5c94-1350-460d-947b-7a576b7811ba",
   "metadata": {},
   "source": [
    "## Module 2: Read Alignment Problem \n",
    "\n",
    "- Want faster and more approximate.\n",
    "- Boyer Moore\n",
    "- Indexing\n",
    "- Pigeon Hole Principle - allows us to look for exact and approximate occurences "
   ]
  },
  {
   "cell_type": "code",
   "execution_count": 12,
   "id": "cbbc8821",
   "metadata": {},
   "outputs": [
    {
     "data": {
      "text/plain": [
       "' Added modules to sys.path '"
      ]
     },
     "execution_count": 12,
     "metadata": {},
     "output_type": "execute_result"
    }
   ],
   "source": [
    "\"\"\" Added modules to sys.path \"\"\"\n",
    "# import sys\n",
    "# print(sys.path)\n",
    "# sys.path.append('/Users/arshmeetkaur/Genomic_Data_Science/course 3 /modules')"
   ]
  },
  {
   "cell_type": "code",
   "execution_count": 19,
   "id": "77d86cf2",
   "metadata": {},
   "outputs": [],
   "source": [
    "# Neccessary Modules \n",
    "\n",
    "import modules.all_functions \n",
    "from modules.all_functions import * \n",
    "\n",
    "import modules.boyer_moore\n",
    "from modules.boyer_moore import * \n",
    "\n",
    "import modules.index \n",
    "from modules.index import * \n",
    "\n",
    "import math \n",
    "import bisect "
   ]
  },
  {
   "cell_type": "markdown",
   "id": "8d7202ab-fb9d-49c3-9660-953c613fbc00",
   "metadata": {},
   "source": [
    "## Boyer-Moore Basics"
   ]
  },
  {
   "cell_type": "raw",
   "id": "8bbb7487-9080-4fb1-bfb8-0715b45a4492",
   "metadata": {
    "vscode": {
     "languageId": "raw"
    }
   },
   "source": [
    "file:///Users/arshmeetkaur/_e176b424c072d269c04f0b4f57089612_0220_exactmatch__boyer_moore.pdf\n",
    "- look at the slides and follow along the examples with these notes.\n",
    "\n",
    "Problem: \n",
    "T = string \n",
    "P = substring we want to align to the string. \n",
    "\n",
    "Basic Principles. \n",
    "- we do alignments from right to left. \n",
    "- we do character comparaisions from left to right. \n",
    "\n",
    "When we find a mismatch, there are two rules that we apply \n",
    "to figure out how much we should shift the next alignment to the right: \n",
    "\n",
    "1. The bad character rule: \n",
    "Shift the alignment by x spots until the mismatched character is aligned match \n",
    "or until all of P has passed the cite of the mismatch. \n",
    "You shift x spots, skipping x-1 alignmnets. \n",
    "\n",
    "2. The good suffix rule: \n",
    "Identify the substring of characters (t) that already match between P and T and.\n",
    "find another instance of t (t2) in P or an instance of a substring of t (t3) in P. \n",
    "hift by y spots until t2 or t3 is matched with t. \n",
    "You shift y spots, skipping y-1 alignments. \n",
    "\n",
    "3. Find the bigger number between x and y. Follow the corresponding rule. \n",
    "\n",
    "\n",
    "AAGTAG\n",
    "AAGGA\n",
    "bad character rule: 4 \n",
    "good suffix rule: 3 \n",
    "\n",
    "Can look at Module2.ipnyb for more stuff, or to figure out what each rule\n",
    "would have you shift by. "
   ]
  },
  {
   "cell_type": "markdown",
   "id": "934ead1d-54ba-4c58-aa33-4ecdd82765c3",
   "metadata": {},
   "source": [
    "## Diversion: Repetetive Elements"
   ]
  },
  {
   "cell_type": "raw",
   "id": "caa76ebb-31a4-4e07-b13d-dc345f740ee5",
   "metadata": {},
   "source": [
    "The evolutionary process created patterns in DNA, very different than what you'd get if you randomly generated a genome. \n",
    "\n",
    "- one example of this is how repetetive DNA is as a result of transposable elements.\n",
    "- 45 percent of the human genome is from transposable elements. \n",
    "- one type is Alus, they occur a million times. (10 percent of genome)\n",
    "\n",
    "Why does repetive portions matter? \n",
    "- because it causes ambiguity \n",
    "- which Alu did a read come from? \n",
    "- creates a bunch of issues for our algorithms "
   ]
  },
  {
   "cell_type": "markdown",
   "id": "20f253c2-2d61-47a3-bc0d-f2311a0a4e47",
   "metadata": {},
   "source": [
    "## Practical: Implementing Boyer Moore "
   ]
  },
  {
   "cell_type": "raw",
   "id": "e624ba68",
   "metadata": {
    "vscode": {
     "languageId": "raw"
    }
   },
   "source": [
    "# implemented in the boyer_moore module, tested here. \n",
    "\n",
    "There were some preprocessing rules. We didn't learn how to implement them in this course, just the algorithm, so all we need to know is which functions do what within the BoyerMoore class. \n",
    "\n",
    "class BoyerMoore: \n",
    "\n",
    "    # Preprocesses the p phrase to make all the tables.\n",
    "    constructor(p, alphabet = 'ACGT'): \n",
    "        creates map from alphabet characters to integers.\n",
    "        Make bad character rule table.\n",
    "        Make good suffix rule table. \n",
    "\n",
    "    bad_character_rule(index of mismatch, character): \n",
    "        returns the number of shifts given at that index.\n",
    "    \n",
    "    good_suffix_rule(index of mistmatch):\n",
    "        returns number of shifts at that index\n",
    "\n",
    "    match_skip(self): \n",
    "        amount to shift when P matches T."
   ]
  },
  {
   "cell_type": "code",
   "execution_count": 28,
   "id": "e039db3b",
   "metadata": {},
   "outputs": [
    {
     "name": "stdout",
     "output_type": "stream",
     "text": [
      "2\n",
      "1\n"
     ]
    }
   ],
   "source": [
    "\"\"\"\n",
    "GCTAGCTC\n",
    "TCAA \n",
    "\n",
    "expect\n",
    "bad character rule: shift 2 \n",
    "good suffix rule: shift 1 (only suffix matching would be 'A' \n",
    "from the lower string.)\n",
    "\"\"\"\n",
    "p = 'TCAA'\n",
    "\"\"\" Need to create a BoyerMoore Object \"\"\"\n",
    "p_bm = BoyerMoore(p)\n",
    "\"\"\" Calculate shifts as per the bad character rule.\n",
    "Bad character at index 2, in T it's 'T'\n",
    "We would expect a shift of 2. \"\"\"\n",
    "print(p_bm.bad_character_rule(2, 'T'))\n",
    "print(p_bm.good_suffix_rule(2))"
   ]
  },
  {
   "cell_type": "code",
   "execution_count": 16,
   "id": "2a898b06",
   "metadata": {},
   "outputs": [
    {
     "name": "stdout",
     "output_type": "stream",
     "text": [
      "4\n",
      "3\n"
     ]
    }
   ],
   "source": [
    "\"\"\" \n",
    "AAGTAG\n",
    "AAGGA\n",
    "mismatch at 3\n",
    "\n",
    "bad character rule: 4 \n",
    "good suffix rule: 3 \n",
    "\"\"\"\n",
    "\n",
    "p = 'AAGGA' \n",
    "\n",
    "p_bm = BoyerMoore(p)\n",
    "print(p_bm.bad_character_rule(3, 'T'))\n",
    "print(p_bm.good_suffix_rule(3))"
   ]
  },
  {
   "cell_type": "code",
   "execution_count": 29,
   "id": "e16e894c",
   "metadata": {},
   "outputs": [
    {
     "name": "stdout",
     "output_type": "stream",
     "text": [
      "1\n",
      "3\n"
     ]
    }
   ],
   "source": [
    "\"\"\" \n",
    "GCTAGCTC \n",
    "ACTA\n",
    "\n",
    "With bad character, expect shift 1 \n",
    "\n",
    "with good suffix, expect 3: \n",
    "Need A in GCTA to match with A from the start of ACTA. \n",
    "\"\"\"\n",
    "\n",
    "p2 = 'ACTA' \n",
    "p_bm2 = BoyerMoore(p2)\n",
    "\n",
    "print(p_bm2.bad_character_rule(0, 'G'))\n",
    "print(p_bm2.good_suffix_rule(0))"
   ]
  },
  {
   "cell_type": "code",
   "execution_count": 30,
   "id": "5ede8174",
   "metadata": {},
   "outputs": [
    {
     "name": "stdout",
     "output_type": "stream",
     "text": [
      "4\n"
     ]
    }
   ],
   "source": [
    "\"\"\"\n",
    "GCTAGCTA\n",
    "GCTA\n",
    "\n",
    "Case: when the pattern matches entirely. \n",
    "It's essentially just doing the good suffix rule, special case.\n",
    "When it's a match_skip, it should shift by the length of P. \n",
    "\"\"\"\n",
    "\n",
    "p3 = 'GCTA'\n",
    "p3_bm = BoyerMoore(p3)\n",
    "print(p3_bm.match_skip())"
   ]
  },
  {
   "cell_type": "markdown",
   "id": "eb000626",
   "metadata": {},
   "source": [
    "## Preprocessing"
   ]
  },
  {
   "cell_type": "markdown",
   "id": "5c35f8fc",
   "metadata": {
    "vscode": {
     "languageId": "juliamarkdown"
    }
   },
   "source": [
    "No preprocessing needed for the naive Bayes algorithm. \n",
    "\n",
    "For the Boyer Moore algorithm, when you're given P, you can preprocess: make lookup tables for bad character and good suffix rules. \n",
    "\n",
    "You can reuse the preprocessed P object over any T. \n",
    "The preprocessing for P may be computationally expensive, but we only have to do it once for many tasks. \n",
    "\n",
    "What about preprocessing T? \n",
    "If we want to do many problems where we're matching different Ps to \n",
    "a single T, we would want to store \n",
    "\n",
    "Preprocessing T = offline\n",
    "Not preprocessing T = online\n",
    "\n",
    "Boyer Moore and Naive Bayes are both online. \n",
    "\n",
    "For the read alignment problem, we need to preprocess T (reference genome). It'll be computationally expensive once, but for the most part, we're working with a static reference genome. "
   ]
  },
  {
   "cell_type": "markdown",
   "id": "b22a4774",
   "metadata": {},
   "source": [
    "## Indexing and k-mer index "
   ]
  },
  {
   "cell_type": "markdown",
   "id": "fc7203ec",
   "metadata": {},
   "source": [
    "Preprocess T: \n",
    "\n",
    "Indexing a book (ordering): \n",
    "- index is a list of key terms and pages in the book where the term is mentioned. \n",
    "- allows you to \"query\" the index, look up wher the key term occurs. \n",
    "\n",
    "Indexing by grocery store (grouping): \n",
    "- look for x in the x section. \n",
    "\n",
    "Indexing DNA like a book (Merging): \n",
    "\n",
    "C G T G C G T G C\n",
    "k-mer index: take every substring of length k from the genome. Store it and the offset where it occurs in the genome. Alphabetize the index by the first, then second, then third, etc characters. \n",
    "\n",
    "5-mer index: \n",
    "C G T G C: 0, 4\n",
    "G C G T G: 3 \n",
    "G T G C G: 1\n",
    "T G C G T: 2 \n",
    "\n",
    "How do you use this? \n",
    "P: G T G C G T\n",
    "Take the first 5-mer of P: G T G C G\n",
    "Look it in the 5-mer index for the index hit: 1 \n",
    "Verification: Look at pos 1 in T and ensure that P[6] = T[7] = 'T'\n",
    "\n",
    "Any 5mer from P should work. \n",
    "If any 5mer does not exist within P, P cannot have a match in T, since T has every 5mer from T. "
   ]
  },
  {
   "cell_type": "markdown",
   "id": "3461b7da",
   "metadata": {},
   "source": [
    "## Ordered structures for Indexing"
   ]
  },
  {
   "cell_type": "markdown",
   "id": "9b7896c6",
   "metadata": {
    "vscode": {
     "languageId": "raw"
    }
   },
   "source": [
    "multimap - associates key with values\n",
    "one key can have multiple values \n",
    "\n",
    "Data structures to implement multimap \n",
    "\n",
    "By ordering: \n",
    "\n",
    "<img src=\"a_kmer.png\" alt=\"Local Image\" width=\"300\">\n",
    "\n",
    "- make a table of the kmer and associated offset \n",
    "- sort the table by the alphabetical order of kmer strings.\n",
    "- have to use binary search **O(log n)** to find the kmer so you can get the offset value. \n",
    "\n",
    "Python provides functions that help with binary search: \n",
    "bisect module\n",
    "<img src=\"bisect.png\" alt=\"Local Image\" width=\"300\">\n",
    "\n",
    "- we could use the bisect_left function to look up where we woluld place a certain kmer string in our index. We know then that all actual instances of that kmer are above that index and that will help us find all instances. "
   ]
  },
  {
   "cell_type": "code",
   "execution_count": 32,
   "id": "9ded5479",
   "metadata": {},
   "outputs": [
    {
     "data": {
      "text/plain": [
       "1"
      ]
     },
     "execution_count": 32,
     "metadata": {},
     "output_type": "execute_result"
    }
   ],
   "source": [
    "import bisect \n",
    "# takes an ascending ordered list, and item \n",
    "# returns the leftmost position where the item could be inserted\n",
    "bisect.bisect_left([1,2], 2) # you would insert 2 at the 1th index.\n",
    "# another way to look at it: it also tells you that 2 is above the 1th index."
   ]
  },
  {
   "cell_type": "markdown",
   "id": "615eeae2",
   "metadata": {},
   "source": [
    "## Hash Tables for Indexing"
   ]
  },
  {
   "cell_type": "markdown",
   "id": "dd4b02a0",
   "metadata": {},
   "source": [
    "The basic shtick: \n",
    "\n",
    "<img src=\"hash_table.png\" alt=\"Local Image\" width=\"300\">\n",
    "\n",
    "- hash_index = hash_function('kmer string')\n",
    "- Each hash index is an index in an array of \"buckets\" \n",
    "- Each \"bucket\" is actually List<Entry<k-mer,offsets>> = linked lists of entries of (key: 'kmer string', value: offsets). \n",
    "- There can occasionally be collisions, where distinct kmers end up in the same bucket. \n",
    "\n",
    "- when we want to query the hash table, we use the hash_function again.\n",
    "we want to receive a list of indices where the kmer_string occurs at. So we should loop through the linked list, and collect the offset values for all Entries whose key == kmer_string. \n",
    "\n",
    "- python dictionaries are implementations of a hash map, so we don't have to worry about implementing a hashmap \n",
    "\n",
    "<img src=\"dict.png\" alt=\"Local Image\" width=\"300\">"
   ]
  },
  {
   "cell_type": "markdown",
   "id": "ce732987",
   "metadata": {},
   "source": [
    "## Implementing a kmer index table"
   ]
  },
  {
   "cell_type": "code",
   "execution_count": 33,
   "id": "82384505",
   "metadata": {},
   "outputs": [
    {
     "data": {
      "text/plain": [
       "[7, 14]"
      ]
     },
     "execution_count": 33,
     "metadata": {},
     "output_type": "execute_result"
    }
   ],
   "source": [
    "# implmented in the index module, tested here. \n",
    "t = 'GCTACGATCTACAATCTA'\n",
    "p = 'TCTA'\n",
    "\n",
    "table = Index(t, 2) # creates an index table\n",
    "query_index(p, t, table) "
   ]
  },
  {
   "cell_type": "markdown",
   "id": "6f963a66",
   "metadata": {},
   "source": [
    "## Variations on kmer index"
   ]
  },
  {
   "cell_type": "markdown",
   "id": "c6662489",
   "metadata": {},
   "source": [
    "Two variations: \n",
    "\n",
    "Variation 1: \n",
    "\n",
    "What if you only took the kmers at even offsets? \n",
    "- why do this: the index table is smaller, which means easier binary search.\n",
    "- concern: what if we can't find hits for p? \n",
    "- fix: just query from p with different/more kmers.\n",
    "Take two kmers, one at even offset and one at odd offset like so: \n",
    "\n",
    "<img src=\"each_2.png\" alt=\"Local Image\" width=\"300\">\n",
    "\n",
    "If you do every third kmer, do the first 3 kmers of p.\n",
    "\n",
    "<img src=\"each_n.png\" alt=\"Local Image\" width=\"300\">\n",
    "\n",
    "Variation 2: \n",
    "\n",
    "Use subsequences. \n",
    "\n",
    "AACCGGTT \n",
    "AAGT \n",
    "- subsequence of the string = a string of chars also occuring in S, in the same order. \n",
    "- a substring is always a subsequence\n",
    "\n",
    "1. Take a subsequence of a \"shape\" (2 chars, skip 1, 1 char, skip 1, 2 chars)- basically some sort of pattern \n",
    "2. Take the same subsequence \"shape\" for each offset \n",
    "3. When you want to query P, extract a subsequence of the same \"shape\" and look up that string. \n",
    "\n",
    "Advantages: Increases specificity of the index. Leads to a succesfull verification more of the time. "
   ]
  },
  {
   "cell_type": "markdown",
   "id": "1e080e4d",
   "metadata": {},
   "source": [
    "## Genome Indexes Used in Research"
   ]
  },
  {
   "cell_type": "markdown",
   "id": "15bccc6a",
   "metadata": {},
   "source": [
    "\n",
    "Indexing is super duper powerful.\n",
    "How can we fit the genome into an index? \n",
    "\n",
    "k-mer indexing\n",
    "every-n-kmer indexing\n",
    "subsequences\n",
    "\n",
    "Suffix index:\n",
    "\n",
    "<img src=\"suffix_table.png\" alt=\"Local Image\" width=\"300\">\n",
    "\n",
    "make a list of all suffixes of the genome. \n",
    "- idea: take all the suffixes and put them in alphabetical order.\n",
    "- now you can use binary search to find all suffixes which have a certain P as a prefix.\n",
    "\n",
    "is this data structure too big? \n",
    "- genome of length n => n(n+1)/2 space needed.\n",
    "                - 3B => super huge number. not practical.\n",
    "- but you can fix the size issue: instead of storing the suffixes, store a list of integers which correspond to a suffixes offset. These integers are ordered in order of the alphabetical order of each suffix. \n",
    "\n",
    "<img src=\"index_array.png\" alt=\"Local Image\" width=\"300\">\n",
    "\n",
    "- advantage: the array of indices is equal to the length of the genome, which is like n size instead of n^2 \n",
    "\n",
    "<img src=\"compression_algos.png\" alt=\"Local Image\" width=\"300\">\n",
    "\n",
    "Suffix array - uses ordering, like a book index\n",
    "\n",
    "Suffix tree- uses grouping\n",
    "\n",
    "FM Index- Based on Burrows Wheeler Transform for compression"
   ]
  },
  {
   "cell_type": "markdown",
   "id": "4bef60b8",
   "metadata": {},
   "source": [
    "## Approximate Matching"
   ]
  },
  {
   "cell_type": "markdown",
   "id": "93da0d8a",
   "metadata": {},
   "source": [
    "\n",
    "- all the algos tried so far are exact. \n",
    "- we want approx matching algos because reads dont perfectly align with the ref genome.\n",
    "- reasons for differences: \n",
    "1. sequencing errors\n",
    "2. not all genomes of a species are the same (differences betweeen humnas for example)\n",
    "\n",
    "Types of genetic mutations: \n",
    "1. mismatch / substitution\n",
    "2. Insertion or deletion (frameshift)\n",
    "\n",
    "Want to be able to define how different two strains are, the genetic distances. \n",
    "for strings X and Y...\n",
    "- Hamming Distance: # of substitutions needed to turn one into the other.\n",
    "- - assumes strings of equal length\n",
    "- - The edit distance between the empty string and a string of length 3 is 3\n",
    "- - It is possible for the Hamming distance between two equal length strings to equal the edit distance\n",
    "- Levenshtein Distance / Edit distanc : minimum # edits (substitituion, insertion, deletion) to turn one string into another\n",
    "- stick to Hammming distance for now. \n",
    "\n",
    "- adapt naive exact matching algo to allow Approximate matching: allow a certain amount of mismatched bases between two strings. Allow some Hamming Distance. "
   ]
  },
  {
   "cell_type": "code",
   "execution_count": 36,
   "id": "6d6b2ea6",
   "metadata": {},
   "outputs": [
    {
     "name": "stdout",
     "output_type": "stream",
     "text": [
      "[0, 1]\n"
     ]
    }
   ],
   "source": [
    "print(naive_hamming('GGGG', 'ACTGG', 3)) # allows 3 mismatches, should give [0, 1]"
   ]
  },
  {
   "cell_type": "markdown",
   "id": "673f4c46",
   "metadata": {},
   "source": [
    "## Approximate Matching"
   ]
  },
  {
   "cell_type": "markdown",
   "id": "87f96c0c",
   "metadata": {},
   "source": [
    "Wanted = a way to apply exact matching algos to approx matching. \n",
    "\n",
    "Approach: Want to match P with T. \n",
    "1. Partition P into U and V: if P occurs in T with a Hamming distance of 1, either U or V appears with no edits. \n",
    "\n",
    "General: if P occurs in T with up to k edits, at least one of k+1 partitions of P appears in T with 0 edits \n",
    "\n",
    "<img src=\"edits.png\" alt=\"Local Image\" width=\"300\">\n",
    "\n",
    "<img src=\"partitions.png\" alt=\"Local Image\" width=\"300\">\n",
    "\n",
    "Essentially: To find occurences of P with up to k edits in T: \n",
    "1. Partition P into k+1 peices. \n",
    "2. Use an exact matching algo on each peice. \n",
    "3. At least one of those peices must be an exact match. \n",
    "\n",
    "Pigeonhole principle: if you have 10 pigeons to put in 9 holes, one hole has to have 2 pigeons. Ours is slightly different. \n",
    "\n",
    "1. divide P into k+1 \n",
    "2. use an exact matching algorithm. \n",
    "3. if you find one match, need a verification step to determine if the other partitions match with only a couple offsets to T. \n",
    "\n",
    "<img src=\"pidge_hole_map.png\" alt=\"Local Image\" width=\"300\">"
   ]
  },
  {
   "cell_type": "markdown",
   "id": "6aee7be0",
   "metadata": {},
   "source": [
    "## Implementing Approximate Matching "
   ]
  },
  {
   "cell_type": "code",
   "execution_count": 95,
   "id": "6603a9a5",
   "metadata": {},
   "outputs": [],
   "source": [
    "def approximate_match_official(p,t,n):\n",
    "    \"\"\" This is their code, I used my own algorithm later because couldn't understand how start and end worked.\"\"\"\n",
    "    segment_length = int(round(len(p) / (n+1)))\n",
    "    all_matches = set()\n",
    "    for i in range(n+1):\n",
    "        start = i*segment_length\n",
    "        end = min((i+1)*segment_length, len(p))\n",
    "        # print(p[start:end])\n",
    "        p_bm = BoyerMoore(p[start:end], alphabet='ACGT')\n",
    "        matches = boyer_moore(p[start:end], p_bm, t)\n",
    "        # Extend matching segments to see if whole p matches\n",
    "        for m in matches:\n",
    "            if m < start or m-start+len(p) > len(t):\n",
    "                continue\n",
    "            mismatches = 0\n",
    "            for j in range(0, start):\n",
    "                if not p[j] == t[m-start+j]:\n",
    "                    mismatches += 1\n",
    "                    if mismatches > n:\n",
    "                        break\n",
    "            for j in range(end, len(p)):\n",
    "                if not p[j] == t[m-start+j]:\n",
    "                    mismatches += 1\n",
    "                    if mismatches > n:\n",
    "                        break\n",
    "            if mismatches <= n:\n",
    "                all_matches.add(m - start)\n",
    "    return list(all_matches)"
   ]
  },
  {
   "cell_type": "code",
   "execution_count": 97,
   "id": "a34d9c1d",
   "metadata": {},
   "outputs": [],
   "source": [
    "def approximate_match(p, t, k): \n",
    "    \"\"\" \n",
    "    Steps to approximate matching: \n",
    "    1. Split the P string into k + 1 substrings. \n",
    "    2. Compares each substring of the P substring to T.\n",
    "    3. If at least one of those substrings have a match or matches with boyer moore, you can inspect the rest of it. \n",
    "    4. Inspect rest to see if it's a match, then append the place of the match in T. \n",
    "    \"\"\"\n",
    "\n",
    "    # split P string into k+1 substrings \n",
    "    # 32 // 3 = 10 \n",
    "    length_of_partition = len(p) // (k+1) \n",
    "\n",
    "    actual_matches = set() # making it a set eliminates possibility of duplicates.\n",
    "\n",
    "    # Compare each substring of P to T using the Boyer Moore algorithm.\n",
    "    for i in range(k+1): \n",
    "        # instead of creating substrings, use indices \n",
    "        start = i * length_of_partition\n",
    "        end = start + length_of_partition \n",
    "        if (len(p) - end < length_of_partition):\n",
    "            end = len(p) \n",
    "        \n",
    "        # apply the Boyer Moore algorithm to each substring of P. \n",
    "        p_bm = BoyerMoore(p[start:end])\n",
    "        possible_matches = boyer_moore(p[start:end], p_bm, t)\n",
    "        \n",
    "        if len(possible_matches) == 0: \n",
    "            continue \n",
    "\n",
    "        # for every possible match index, check if p really matches. \n",
    "        for m in possible_matches:\n",
    "\n",
    "            # to deal with the case that the match to the segment was found at the very end of t so p would span beyond t\n",
    "            if m < start or m-start+len(p) > len(t):\n",
    "                continue\n",
    "\n",
    "            mismatches = 0 \n",
    "            \n",
    "            # check from the start of p to the start of the matching fragment \n",
    "            for j in range(start):\n",
    "                if p[j] != t[m - start + j]:\n",
    "                    mismatches += 1\n",
    "                    # break \n",
    "                    if mismatches > k: \n",
    "                        break \n",
    "            \n",
    "            # check from the end of the matching fragment to end of p \n",
    "            for j in range(end, len(p)):\n",
    "\n",
    "                if p[j] != t[m - start + j]:\n",
    "                    mismatches += 1\n",
    "                    if mismatches > k: \n",
    "                        break \n",
    "\n",
    "            # if the number of mistmatics is tolerated, add it to the set \n",
    "            if mismatches <= k:\n",
    "                actual_matches.add(m - start)\n",
    "\n",
    "    return list(actual_matches)"
   ]
  },
  {
   "cell_type": "code",
   "execution_count": 99,
   "id": "15e68b89",
   "metadata": {},
   "outputs": [
    {
     "name": "stdout",
     "output_type": "stream",
     "text": [
      "[]\n",
      "[]\n"
     ]
    }
   ],
   "source": [
    "p = 'CCCTAAATTC'\n",
    "t = 'CACTTAATTT'\n",
    "print(approximate_match(p, t, 2))\n",
    "print(approximate_match_official(p, t, 2))"
   ]
  },
  {
   "cell_type": "code",
   "execution_count": 106,
   "id": "74e07861",
   "metadata": {},
   "outputs": [
    {
     "name": "stdout",
     "output_type": "stream",
     "text": [
      "Good suffix: 4\n"
     ]
    }
   ],
   "source": [
    "p = 'TAATTAA'\n",
    "p_bm = BoyerMoore(p)\n",
    "#print(\"Bad character:\", p_bm.bad_character_rule(4, 'T'))\n",
    "print(\"Good suffix:\", p_bm.good_suffix_rule(3))"
   ]
  }
 ],
 "metadata": {
  "kernelspec": {
   "display_name": "Python 3 (ipykernel)",
   "language": "python",
   "name": "python3"
  },
  "language_info": {
   "codemirror_mode": {
    "name": "ipython",
    "version": 3
   },
   "file_extension": ".py",
   "mimetype": "text/x-python",
   "name": "python",
   "nbconvert_exporter": "python",
   "pygments_lexer": "ipython3",
   "version": "3.12.4"
  }
 },
 "nbformat": 4,
 "nbformat_minor": 5
}
