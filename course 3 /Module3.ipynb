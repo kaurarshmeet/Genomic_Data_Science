{
 "cells": [
  {
   "cell_type": "markdown",
   "metadata": {},
   "source": [
    "# Module 3: Completing Read Alignment Problem "
   ]
  },
  {
   "cell_type": "markdown",
   "metadata": {},
   "source": [
    "## Module 3 Introduction"
   ]
  },
  {
   "cell_type": "markdown",
   "metadata": {},
   "source": [
    "Dynamic Programming Algorithms \n",
    "- flexible\n",
    "- allow us to look for approximate matches considering insertions/deletions \n",
    "- find similar substrings between strings \n",
    "\n",
    "And then we move onto genome assembly without a reference genome\n",
    "- begin to discuss concepts related to that. "
   ]
  },
  {
   "cell_type": "markdown",
   "metadata": {},
   "source": [
    "## Solving Edit Distance Problem "
   ]
  },
  {
   "cell_type": "markdown",
   "metadata": {},
   "source": [
    "Two different ways to measure difference betwen two strings \n",
    "\n",
    "Hamming distance = minimum # of substitutions needed to turn one string to another (both strings are of the same length). \n",
    "- pretty easy to find the Hamming Distance \n",
    "\n",
    "Edit distance = mimumum # of substitutions/insertions/deletions needed to turn one string to another (both strings do not have to be the same length). \n",
    "- pretty hard to find the edit distance\n",
    "\n",
    "Have to approach edit distance with a couple steps: \n",
    "\n",
    "If we have strings, x and y, of the same length, we can say the following about the hamming_distance and edit_distance between x and y \n",
    "\n",
    "1. edit_distance <= hamming_distance\n",
    "- in the case there are only substitution differences, they'll be equal\n",
    "- if there's an indel, edit_distance will be less because you don't have to make all those substituions, you can just shift it. \n",
    "\n",
    "If we have strings, x and y, of different length, we can say the following about the edit_distance between x and y \n",
    "\n",
    "1. edit_distance >= abs(len(x)-len(y))\n",
    "- we always have to fill the gap in lengths. so if there are no substitutions, adding those characters will be the = edit_distance \n",
    "- if there are substitutions, adding those characters will be > edit distance. \n",
    "\n",
    "Algorithm to correct the edit distance: \n",
    "\n",
    "- Take two very long strings\n",
    "- Consider the prefix of the strings (everything but the last base)\n",
    "- C and A are more generally represented as X and Y, differing bases. \n",
    "\n",
    "Fig. 1\n",
    "\n",
    "- Take the edit distance between the two prefixes \n",
    "\n",
    "- The mimumum of these three numbers is the edit distance between the two strings: \n",
    "\n",
    "delta = 0 if x = y or 1 otherwise.\n",
    "ed(changing alpha to beta) + (delta)\n",
    "ed(changing alpha(x) to beta) + (adding one base to beta)\n",
    "ed(changing alpha to ( beta(y)) ) + (adding one base to alpha)\n",
    "\n",
    "Fig. 2 \n",
    "\n",
    "- all of this can be represented by a recursive function (below)\n",
    "problem : recursion is slow. super slow.\n",
    "solution: use dynamic programming. "
   ]
  },
  {
   "cell_type": "markdown",
   "metadata": {},
   "source": [
    "Fig. 1 \n",
    "<img src=\"/Users/arshmeetkaur/Genomic_Data_Science/course 3 /images/prefixes.png\" alt=\"Local Image\" width=\"300\">\n",
    "\n",
    "Fig. 2\n",
    "<img src=\"/Users/arshmeetkaur/Genomic_Data_Science/course 3 /images/edit_distance_formula.png\" alt=\"Local Image\" width=\"300\">"
   ]
  },
  {
   "cell_type": "code",
   "execution_count": null,
   "metadata": {},
   "outputs": [],
   "source": [
    "def hamming_distance(x, y): \n",
    "    \"\"\" returns hamming distance (subs only). \"\"\"\n",
    "    subs = 0\n",
    "    for i in range(len(x)):\n",
    "        if x[i] != y[i]: \n",
    "            subs += 1 \n",
    "    return subs "
   ]
  },
  {
   "cell_type": "code",
   "execution_count": null,
   "metadata": {},
   "outputs": [],
   "source": [
    "def edit_distance_recursion(a, b): \n",
    "    \"\"\" returns edit distance recursively (slow). \"\"\"\n",
    "\n",
    "    # base case - one empty string means edit distance between them is equal to the other string. \n",
    "    if len(a) == 0: \n",
    "        return len(b) \n",
    "    if len(b) == 0:\n",
    "        return len(a)\n",
    "\n",
    "    delt = 1 if a[-1] != b[-1] else 0\n",
    "    return min(edit_distance_recursion(a[:-1], b[:-1]) + delt, \n",
    "               edit_distance_recursion(a, b[:-1]) + 1, \n",
    "               edit_distance_recursion(a[:-1], b) + 1)"
   ]
  },
  {
   "cell_type": "markdown",
   "metadata": {},
   "source": [
    "## Using dynamic programming for edit distance"
   ]
  },
  {
   "cell_type": "markdown",
   "metadata": {},
   "source": [
    "- need to rewrite the recursive function \n",
    "- characters of string x label rows, characters of string y label columns (fig 1)\n",
    "- first row and first column are labeled with epsilon, for the empty string\n",
    "- fill in each position in the matrix with the edit distance\n",
    "- the total edit distance is in the bottom right corner (fig 2)\n",
    "\n",
    "How this works: \n",
    "- initialize 1rst row to 0... len(x), initialize 1rst column to 0... len(y), this makes sense if you think about the edit distance. \n",
    "- think of each of the edit distance terms as one position in the matrix (see fig 3). the edist( alpha(x) + beta(y) ) = min (three other cells)\n",
    "\n",
    "- this dynamic programming approach is good for a lot of things. "
   ]
  },
  {
   "cell_type": "markdown",
   "metadata": {},
   "source": [
    "Fig 1 \n",
    "<img src=\"/Users/arshmeetkaur/Genomic_Data_Science/course 3 /images/matrix.png\" alt=\"Local Image\" width=\"500\">\n",
    "\n",
    "Fig 2\n",
    "<img src=\"/Users/arshmeetkaur/Genomic_Data_Science/course 3 /images/corner_matrix.png\" alt=\"Local Image\" width=\"500\">\n",
    "\n",
    "Fig 3 \n",
    "<img src=\"/Users/arshmeetkaur/Genomic_Data_Science/course 3 /images/boxes.jpeg\" alt=\"Local Image\" width=\"500\">\n",
    "<img src=\"/Users/arshmeetkaur/Genomic_Data_Science/course 3 /images/fill_in.png\" alt=\"Local Image\" width=\"500\">\n",
    "<img src=\"/Users/arshmeetkaur/Genomic_Data_Science/course 3 /images/final_matrix.png\" alt=\"Local Image\" width=\"500\">"
   ]
  },
  {
   "cell_type": "markdown",
   "metadata": {},
   "source": []
  }
 ],
 "metadata": {
  "kernelspec": {
   "display_name": "myenv",
   "language": "python",
   "name": "python3"
  },
  "language_info": {
   "name": "python",
   "version": "3.12.4"
  }
 },
 "nbformat": 4,
 "nbformat_minor": 2
}
