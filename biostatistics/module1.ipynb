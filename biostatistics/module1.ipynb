{
 "cells": [
  {
   "cell_type": "markdown",
   "metadata": {
    "vscode": {
     "languageId": "r"
    }
   },
   "source": [
    "# Module 1"
   ]
  },
  {
   "cell_type": "code",
   "execution_count": 1,
   "metadata": {
    "vscode": {
     "languageId": "r"
    }
   },
   "outputs": [
    {
     "ename": "ERROR",
     "evalue": "Error in loadNamespace(x): there is no package called ‘BiocManager’\n",
     "output_type": "error",
     "traceback": [
      "Error in loadNamespace(x): there is no package called ‘BiocManager’\nTraceback:\n",
      "1. loadNamespace(x)",
      "2. withRestarts(stop(cond), retry_loadNamespace = function() NULL)",
      "3. withOneRestart(expr, restarts[[1L]])",
      "4. doWithOneRestart(return(expr), restart)"
     ]
    }
   ],
   "source": [
    "# load the class packages \n",
    "library(BiocManager)\n",
    "library(devtools)\n",
    "library(RSkittleBrewer)\n",
    "library(genstats)\n",
    "\n",
    "vignette(package = \"genstats\")\n",
    "vignette(\"01_13_clustering\") # how to access a package "
   ]
  },
  {
   "cell_type": "markdown",
   "metadata": {},
   "source": [
    "## What is Statistics? \n",
    "\n",
    "statistics - generalizable knowledge from data\n",
    "* study design - what should we measure and how \n",
    "* data visualization - plotting/exploring data \n",
    "* preprocessing - normalizing, performing statsitical calculations, remove bias \n",
    "* statistical inference - how can we generalize stuff from sample to population \n",
    "* communication - reproducible analysis "
   ]
  },
  {
   "cell_type": "markdown",
   "metadata": {},
   "source": [
    "## Finding Statistical Software You Can Trust \n",
    "\n",
    "* website that is not vetted => don't trust this \n",
    "* github => a lil more reliable \n",
    "    * STAR to see the rating\n",
    "    * see how recently commits are being made and software is being updated \n",
    "* CRAN => a lil more reliable, will probably be functioning. \n",
    "* Bioconductor => probably peer reviewed, more documentation \n",
    "    * give you info on the downloads stats => top percentile, trustworthy\n",
    "    * gives you info on how much the author responds to comments "
   ]
  },
  {
   "cell_type": "markdown",
   "metadata": {},
   "source": [
    "## What is Data? \n",
    "\n",
    "* qualatative\n",
    "* quantatative\n",
    "* already went over the sequencing stuff a long time ago => sequencing base calls are relevant in this course.\n",
    "* want to compress the big data "
   ]
  },
  {
   "cell_type": "markdown",
   "metadata": {},
   "source": [
    "## How to Represent Data? \n",
    "* sample from the population ad make inference to generalize findings ot the population \n",
    "* parameter = a characteristic of the population (theta = color) for example\n",
    "* want to quantify values of the samples for the population parameter. c1 = pink, c2 = grey for example. \n",
    "* measure something about that parameter for the sample => make inferences about the population. \n",
    "\n",
    "theta = population parameter \n",
    "theta(hat) = sample estimate of parameter \n",
    "y = outcome \n",
    "x = predictors "
   ]
  },
  {
   "cell_type": "markdown",
   "metadata": {},
   "source": [
    "## Overview: \n",
    "\n",
    "1. Bioconductor - how is bioconductor used.\n",
    "2. backgroung of statistics \n",
    "3. exploratory data analysis "
   ]
  },
  {
   "cell_type": "markdown",
   "metadata": {},
   "source": [
    "## Reproducible Research \n",
    "\n",
    "* talked about some research that had good results but was not reproducible -> and that research lead to clinical trials, which was dangerous \n",
    "\n",
    "## Acheiving Reproducible Research \n",
    "\n",
    "* raw data (whatever you get at the start)\n",
    "* script that preprocesses everything, or recipe document \n",
    "* tidy preprocessed dataset \n",
    "* code book describing each variable -> use notebooks or use copious comments"
   ]
  },
  {
   "cell_type": "markdown",
   "metadata": {},
   "source": []
  }
 ],
 "metadata": {
  "kernelspec": {
   "display_name": "R",
   "language": "R",
   "name": "ir"
  },
  "language_info": {
   "codemirror_mode": "r",
   "file_extension": ".r",
   "mimetype": "text/x-r-source",
   "name": "R",
   "pygments_lexer": "r",
   "version": "4.4.1"
  }
 },
 "nbformat": 4,
 "nbformat_minor": 2
}
