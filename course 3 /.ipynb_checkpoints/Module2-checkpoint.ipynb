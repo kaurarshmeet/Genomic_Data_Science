{
 "cells": [
  {
   "cell_type": "markdown",
   "id": "556e5c94-1350-460d-947b-7a576b7811ba",
   "metadata": {},
   "source": [
    "## Module 2: Read Alignment Problem \n",
    "\n",
    "- Want faster and more approximate.\n",
    "- Boyer Moore\n",
    "- Indexing\n",
    "- Pigeon Hole Principle - allows us to look for exact and approximate occurences "
   ]
  },
  {
   "cell_type": "markdown",
   "id": "8d7202ab-fb9d-49c3-9660-953c613fbc00",
   "metadata": {},
   "source": [
    "## Boyer-Moore Basics"
   ]
  },
  {
   "cell_type": "raw",
   "id": "8bbb7487-9080-4fb1-bfb8-0715b45a4492",
   "metadata": {},
   "source": [
    "file:///Users/arshmeetkaur/_e176b424c072d269c04f0b4f57089612_0220_exactmatch__boyer_moore.pdf\n",
    "- look at the slides and follow along the examples with these notes.\n",
    "\n",
    "Problem: \n",
    "T = string \n",
    "P = substring we want to align to the string. \n",
    "\n",
    "Basic Principles. \n",
    "- we do alignments from right to left. \n",
    "- we do character comparaisions from left to right. \n",
    "\n",
    "When we find a mismatch, there are two rules that we apply to figure out how much we should shift the next alignment to the right: \n",
    "\n",
    "1. The bad character rule: Shift the alignment by x spots until the mismatched character is aligned with a match or until all of P has passed the cite of the mismatch. \n",
    "You shift x spots, skipping x-1 alignmnets. \n",
    "\n",
    "2. The good suffix rule: \n",
    "Identify the substring of characters (t) that already match between P and T and.\n",
    "find another instance of t (t2) in P or an instance of a substring of t (t3) in P. \n",
    "hift by y spots until t2 or t3 is matched with t. \n",
    "You shift y spots, skipping y-1 alignments. \n",
    "\n",
    "3. Find the bigger number between x and y. Follow the corresponding rule. "
   ]
  },
  {
   "cell_type": "markdown",
   "id": "934ead1d-54ba-4c58-aa33-4ecdd82765c3",
   "metadata": {},
   "source": [
    "## Diversion: Repetetive Elements"
   ]
  },
  {
   "cell_type": "raw",
   "id": "caa76ebb-31a4-4e07-b13d-dc345f740ee5",
   "metadata": {},
   "source": [
    "The evolutionary process created patterns in DNA, very different than what you'd get if you randomly generated a genome. \n",
    "\n",
    "- one example of this is how repetetive DNA is as a result of transposable elements.\n",
    "- 45 percent of the human genome is from transposable elements. \n",
    "- one type is Alus, they occur a million times. (10 percent of genome)\n",
    "\n",
    "Why does repetive portions matter? \n",
    "- because it causes ambiguity \n",
    "- which Alu did a read come from? \n",
    "- creates a bunch of issues for our algorithms "
   ]
  },
  {
   "cell_type": "markdown",
   "id": "20f253c2-2d61-47a3-bc0d-f2311a0a4e47",
   "metadata": {},
   "source": [
    "## Practical: Implementing Boyer Moore "
   ]
  }
 ],
 "metadata": {
  "kernelspec": {
   "display_name": "Python 3 (ipykernel)",
   "language": "python",
   "name": "python3"
  },
  "language_info": {
   "codemirror_mode": {
    "name": "ipython",
    "version": 3
   },
   "file_extension": ".py",
   "mimetype": "text/x-python",
   "name": "python",
   "nbconvert_exporter": "python",
   "pygments_lexer": "ipython3",
   "version": "3.12.0"
  }
 },
 "nbformat": 4,
 "nbformat_minor": 5
}
