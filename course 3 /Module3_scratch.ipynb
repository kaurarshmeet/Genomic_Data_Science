{
 "cells": [
  {
   "cell_type": "markdown",
   "metadata": {},
   "source": [
    "# Module 3: Completing Read Alignment Problem "
   ]
  },
  {
   "cell_type": "markdown",
   "metadata": {},
   "source": [
    "## Module 3 Introduction"
   ]
  },
  {
   "cell_type": "markdown",
   "metadata": {},
   "source": [
    "Dynamic Programming Algorithms \n",
    "- flexible\n",
    "- allow us to look for approximate matches considering insertions/deletions \n",
    "- find similar substrings between strings \n",
    "\n",
    "And then we move onto genome assembly without a reference genome\n",
    "- begin to discuss concepts related to that. "
   ]
  },
  {
   "cell_type": "markdown",
   "metadata": {},
   "source": [
    "## Solving Edit Distance Problem "
   ]
  },
  {
   "cell_type": "markdown",
   "metadata": {},
   "source": [
    "Two different ways to measure difference betwen two strings \n",
    "\n",
    "Hamming distance = minimum # of substitutions needed to turn one string to another (both strings are of the same length). \n",
    "- pretty easy to find the Hamming Distance \n",
    "\n",
    "Edit distance = mimumum # of substitutions/insertions/deletions needed to turn one string to another (both strings do not have to be the same length). \n",
    "- pretty hard to find the edit distance\n",
    "\n",
    "Have to approach edit distance with a couple steps: \n",
    "\n",
    "If we have strings, x and y, of the same length, we can say the following about the hamming_distance and edit_distance between x and y \n",
    "\n",
    "1. edit_distance <= hamming_distance\n",
    "- in the case there are only substitution differences, they'll be equal\n",
    "- if there's an indel, edit_distance will be less because you don't have to make all those substituions, you can just shift it. \n",
    "\n",
    "If we have strings, x and y, of different length, we can say the following about the edit_distance between x and y \n",
    "\n",
    "1. edit_distance >= abs(len(x)-len(y))\n",
    "- we always have to fill the gap in lengths. so if there are no substitutions, adding those characters will be the = edit_distance \n",
    "- if there are substitutions, adding those characters will be > edit distance. \n",
    "\n",
    "Algorithm to correct the edit distance: \n",
    "\n",
    "- Take two very long strings\n",
    "- Consider the prefix of the strings (everything but the last base)\n",
    "- C and A are more generally represented as X and Y, differing bases. \n",
    "\n",
    "Fig. 1\n",
    "\n",
    "- Take the edit distance between the two prefixes \n",
    "\n",
    "- The mimumum of these three numbers is the edit distance between the two strings: \n",
    "\n",
    "delta = 0 if x = y or 1 otherwise.\n",
    "ed(changing alpha to beta) + (delta)\n",
    "ed(changing alpha(x) to beta) + (adding one base to beta)\n",
    "ed(changing alpha to ( beta(y)) ) + (adding one base to alpha)\n",
    "\n",
    "Fig. 2 \n",
    "\n",
    "- all of this can be represented by a recursive function (below)\n",
    "problem : recursion is slow. super slow.\n",
    "solution: use dynamic programming. "
   ]
  },
  {
   "cell_type": "markdown",
   "metadata": {},
   "source": [
    "Fig. 1 \n",
    "<img src=\"/Users/arshmeetkaur/Genomic_Data_Science/course 3 /images/prefixes.png\" alt=\"Local Image\" width=\"300\">\n",
    "\n",
    "Fig. 2\n",
    "<img src=\"/Users/arshmeetkaur/Genomic_Data_Science/course 3 /images/edit_distance_formula.png\" alt=\"Local Image\" width=\"300\">"
   ]
  },
  {
   "cell_type": "code",
   "execution_count": 1,
   "metadata": {},
   "outputs": [],
   "source": [
    "def hamming_distance(x, y): \n",
    "    \"\"\" returns hamming distance (subs only). \"\"\"\n",
    "    subs = 0\n",
    "    for i in range(len(x)):\n",
    "        if x[i] != y[i]: \n",
    "            subs += 1 \n",
    "    return subs "
   ]
  },
  {
   "cell_type": "code",
   "execution_count": 12,
   "metadata": {},
   "outputs": [],
   "source": [
    "def edit_distance_recursion(a, b): \n",
    "    \"\"\" returns edit distance recursively (slow). \"\"\"\n",
    "\n",
    "    # base case - one empty string means edit distance between them is equal to the other string. \n",
    "    if len(a) == 0: \n",
    "        return len(b) \n",
    "    if len(b) == 0:\n",
    "        return len(a)\n",
    "\n",
    "    delt = 1 if a[-1] != b[-1] else 0\n",
    "    return min(edit_distance_recursion(a[:-1], b[:-1]) + delt, \n",
    "               edit_distance_recursion(a, b[:-1]) + 1, \n",
    "               edit_distance_recursion(a[:-1], b) + 1)"
   ]
  },
  {
   "cell_type": "markdown",
   "metadata": {},
   "source": [
    "## Using dynamic programming for edit distance"
   ]
  },
  {
   "cell_type": "markdown",
   "metadata": {},
   "source": [
    "- need to rewrite the recursive function \n",
    "- characters of string x label rows, characters of string y label columns (fig 1)\n",
    "- first row and first column are labeled with epsilon, for the empty string\n",
    "- fill in each position in the matrix with the edit distance\n",
    "- the total edit distance is in the bottom right corner (fig 2)\n",
    "\n",
    "How this works: \n",
    "- initialize 1rst row to 0... len(x), initialize 1rst column to 0... len(y), this makes sense if you think about the edit distance. \n",
    "- think of each of the edit distance terms as one position in the matrix (see fig 3). the edist( alpha(x) + beta(y) ) = min (three other cells)\n",
    "\n",
    "- this dynamic programming approach is good for a lot of things. "
   ]
  },
  {
   "cell_type": "markdown",
   "metadata": {},
   "source": [
    "Fig 1 \n",
    "<img src=\"/Users/arshmeetkaur/Genomic_Data_Science/course 3 /images/matrix.png\" alt=\"Local Image\" width=\"500\">\n",
    "\n",
    "Fig 2\n",
    "<img src=\"/Users/arshmeetkaur/Genomic_Data_Science/course 3 /images/corner_matrix.png\" alt=\"Local Image\" width=\"500\">\n",
    "\n",
    "Fig 3 \n",
    "<img src=\"/Users/arshmeetkaur/Genomic_Data_Science/course 3 /images/boxes.jpeg\" alt=\"Local Image\" width=\"500\">\n",
    "<img src=\"/Users/arshmeetkaur/Genomic_Data_Science/course 3 /images/fill_in.png\" alt=\"Local Image\" width=\"500\">\n",
    "<img src=\"/Users/arshmeetkaur/Genomic_Data_Science/course 3 /images/final_matrix.png\" alt=\"Local Image\" width=\"500\">"
   ]
  },
  {
   "cell_type": "markdown",
   "metadata": {},
   "source": [
    "## Practical: Implementing dynamic programming for edit distance"
   ]
  },
  {
   "cell_type": "code",
   "execution_count": 5,
   "metadata": {},
   "outputs": [],
   "source": [
    "def edit_distance(x, y):\n",
    "    \"\"\" uses dynamic programming to compute edit distance. \"\"\"\n",
    "    D = [] # intial array \n",
    "    \n",
    "    # initialize the array as rows = (x+1) by cols = (y+1) (+1 because we're counting the empty prefix)\n",
    "    for i in range(len(x) + 1):\n",
    "        D.append([0] * (len(y) + 1))\n",
    "\n",
    "    # initialize first row as 0 through y+1\n",
    "    for i in range(len(y) + 1):\n",
    "        D[0][i] = i\n",
    "    # initialize first column as 0 through x+1 \n",
    "    for i in range(len(x) + 1):\n",
    "        D[i][0] = i\n",
    "    \n",
    "    # step through and fill in the rest of the matrix (not going through the top left corner)\n",
    "    # for each row... \n",
    "    for r in range(1, len(x) + 1): \n",
    "        # for each column...\n",
    "        for c in range(1, len(y) + 1): \n",
    "            # check if the strings are equal at the indices corresponding to each character's row/column \n",
    "            delt = 0 if x[r-1] == y[c-1] else 1\n",
    "            # evaluate the values of the top, left and diagonal choices\n",
    "            top = D[r-1][c] + 1\n",
    "            left = D[r][c-1] + 1\n",
    "            diagonal = D[r-1][c-1] + delt \n",
    "            # new spot filled by min of all choices \n",
    "            D[r][c] = min(top, left, diagonal)\n",
    "\n",
    "    # once done filling in the matrix, return bottom right corner value \n",
    "    return D[len(x)][len(y)]\n"
   ]
  },
  {
   "cell_type": "code",
   "execution_count": 15,
   "metadata": {},
   "outputs": [
    {
     "name": "stdout",
     "output_type": "stream",
     "text": [
      "3\n",
      "CPU times: user 95 μs, sys: 4 μs, total: 99 μs\n",
      "Wall time: 116 μs\n"
     ]
    }
   ],
   "source": [
    "%%time \n",
    "x = 'shake spea'\n",
    "y = 'Shakespear'\n",
    "print(edit_distance(x,y))"
   ]
  },
  {
   "cell_type": "code",
   "execution_count": 16,
   "metadata": {},
   "outputs": [
    {
     "name": "stdout",
     "output_type": "stream",
     "text": [
      "3\n",
      "CPU times: user 1.4 s, sys: 4.73 ms, total: 1.41 s\n",
      "Wall time: 1.42 s\n"
     ]
    }
   ],
   "source": [
    "%%time \n",
    "print(edit_distance_recursion(x,y)) # max recursion depth exceeded."
   ]
  },
  {
   "cell_type": "markdown",
   "metadata": {},
   "source": [
    "## Lecture: A new solution to approximate matching"
   ]
  },
  {
   "cell_type": "markdown",
   "metadata": {},
   "source": [
    "Fig 1 - initial matrix of P and T \n",
    "\n",
    "<img src=\"/Users/arshmeetkaur/Genomic_Data_Science/course 3 /images/starting_pt.png\" alt=\"Local Image\" width=\"500\">\n",
    "\n",
    "Fig 2 - initialize values of first row and column \n",
    "\n",
    "<img src=\"/Users/arshmeetkaur/Genomic_Data_Science/course 3 /images/initialize_rc_pt.png\" alt=\"Local Image\" width=\"500\">\n",
    "\n",
    "- we'll create a matrix of P rows and T columns (fig 1)\n",
    "- we will initialize values of the first column to be 0 to len(p)\n",
    "- we will initialize values of the first row to all be 0. \n",
    "Why? Because that first index of P could be at any offset of T, we don't know yet. (fig 2)\n",
    "\n",
    "Fig 3 - fill in matrix same way, get index of best match, find path from best match to top row. \n",
    "\n",
    "<img src=\"/Users/arshmeetkaur/Genomic_Data_Science/course 3 /images/match_offset.png\" alt=\"Local Image\" width=\"500\">\n",
    "\n",
    "- fill in the matrix in exactly the same way. \n",
    "\n",
    "- to identify approx matches: identify the occurence with the lowest edit distance. look in the len(p) row and find the smallest value (smallest edit distance)\n",
    "\n",
    "- to get the index of the best match work backwards. Look at the top bottom and diagonal cells, find the smallest value and go backwards to the min value. At the end, you will end up somewhere in the top row.\n",
    "\n",
    "- look at the column we're in, that's the offset of T that matches with P\n",
    "\n",
    "Fig 4 - The path tells us a bunch of stuff \n",
    "\n",
    "<img src=\"/Users/arshmeetkaur/Genomic_Data_Science/course 3 /images/match_offset_pattern.jpeg\" alt=\"Local Image\" width=\"500\">\n",
    "\n",
    "- big problem = quite slow. O( (len(p)) * len(t) ) because you have to go through the entire matrix. \n",
    "- impractical to use on your own\n",
    "- usually, this technique is combined with others.\n",
    "- by combining this with previous techniques (index/pigeonhole principle), we can have the speed of the previous techniques and the approximate matching which handles gaps and indels"
   ]
  },
  {
   "cell_type": "markdown",
   "metadata": {},
   "source": [
    "# Meet the family: global and local alignment "
   ]
  },
  {
   "cell_type": "markdown",
   "metadata": {},
   "source": [
    "Variations on theme of dynamic programming for edit distance for global and local alignment problems \n",
    "\n",
    "- edit distance penalizes in and del and subs the same. \n",
    "no difference between insertion and deletion \n",
    "no difference between substitution of A/T and A/G\n",
    "\n",
    "- in reality, it might make more sense to penalize less frequent types of mutations more. \n",
    "\n",
    "Global Alignment: \n",
    "\n",
    "Fig 1 - Categories of DNA mutations \n",
    "<img src=\"/Users/arshmeetkaur/Genomic_Data_Science/course 3 /images/purines_pyrm.png\" alt=\"Local Image\" width=\"500\">\n",
    "\n",
    "A and G are purines, C and T are pyrimidines. \n",
    "- going across types is transversion \n",
    "- switching a purine for a purine or pyrimidine for pyrimidine, those are transitions. \n",
    "- in reality, transitions were twice as frequent as tranversions. \n",
    "- want to penalize transversions more than transitions. \n",
    "\n",
    "Fig 2 - rates of subs and indels \n",
    "<img src=\"/Users/arshmeetkaur/Genomic_Data_Science/course 3 /images/sub_indel_rates.png\" alt=\"Local Image\" width=\"500\">\n",
    "'\n",
    "- indels less frequent than subsitutions, so penalize them more.\n",
    "\n",
    "Fig 3- penalty matrix \n",
    "<img src=\"/Users/arshmeetkaur/Genomic_Data_Science/course 3 /images/penalty_matrix.png\" alt=\"Local Image\" width=\"500\">\n",
    "\n",
    "- depends on which species you're working with, this is for humans. \n",
    "\n",
    "Fig 4 - editing the dynamic programming algo. \n",
    "<img src=\"/Users/arshmeetkaur/Genomic_Data_Science/course 3 /images/penalty_function.png\" alt=\"Local Image\" width=\"500\">\n",
    "\n",
    "- all that has to change is what we add to each edit distance. now we look up what value to add in a penalty matrix function \n",
    "- other than that, the global alignmnet algorithm is the exact same.\n",
    "\n",
    "Local Alignment: \n",
    "\n",
    "Fig 1 - Local Alignment - find the most similar pair of substrings between strings X and Y. \n",
    "<img src=\"/Users/arshmeetkaur/Genomic_Data_Science/course 3 /images/local_alignment.png\" alt=\"Local Image\" width=\"500\">\n",
    "\n",
    "- very difficult because we have to consider all possible pairs of substrings between X and Y: which is like len(p)^2 * len(t)^2 pairs \n",
    "\n",
    "Fig 2 - Scoring Matrix \n",
    "<img src=\"/Users/arshmeetkaur/Genomic_Data_Science/course 3 /images/scoring_matrix.png\" alt=\"Local Image\" width=\"500\">\n",
    "\n",
    "- initialize 0s and 0s for row and column\n",
    "- fill in with the scoring matrix function as the addition \n",
    "(use a scoring matrix: give a + bonus for match and - deduction for each mismatch.)\n",
    " \n",
    "Fig 3 - Dynamic Programming Matrix \n",
    "<img src=\"/Users/arshmeetkaur/Genomic_Data_Science/course 3 /images/la_matrix.png\" alt=\"Local Image\" width=\"500\">\n",
    "\n",
    "- many elements are 0, because the goal of local laignment is to find parts of X and Y that match close enough to highlight the reigons of max\n",
    "- to get the indices: \n",
    "- find the biggest number (anywhere in the matrix) and traceback, stop when you reach and element = 0. \n",
    "- the substrings are the values along x and y across the space that the diagonal is covering. \n",
    "- you can tell shape of the substring match by the traceback path."
   ]
  },
  {
   "cell_type": "markdown",
   "metadata": {},
   "source": []
  }
 ],
 "metadata": {
  "kernelspec": {
   "display_name": "myenv",
   "language": "python",
   "name": "python3"
  },
  "language_info": {
   "codemirror_mode": {
    "name": "ipython",
    "version": 3
   },
   "file_extension": ".py",
   "mimetype": "text/x-python",
   "name": "python",
   "nbconvert_exporter": "python",
   "pygments_lexer": "ipython3",
   "version": "3.12.4"
  }
 },
 "nbformat": 4,
 "nbformat_minor": 2
}
