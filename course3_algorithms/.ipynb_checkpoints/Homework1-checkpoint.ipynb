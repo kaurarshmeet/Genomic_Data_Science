{
 "cells": [
  {
   "cell_type": "markdown",
   "id": "c4c541be-6882-4975-81df-4050c73b3af1",
   "metadata": {},
   "source": [
    "## Programming Homework"
   ]
  },
  {
   "cell_type": "raw",
   "id": "b197b583-bc2a-4481-bd25-fb6cba437b45",
   "metadata": {},
   "source": [
    "Instructions: \n",
    "\n",
    "First, implement a version of the naive exact matching algorithm that is strand-aware. That is, instead of looking only for occurrences of P in T, additionally look for occurrences of the reverse complement of P in T. If P is ACT, your function should find occurrences of both ACT and its reverse complement AGT in T.\n",
    "\n",
    "If P and its reverse complement are identical (e.g. AACGTT), then a given match offset should be reported only once. So if your new function is called naive_with_rc, then the old naive function and your new naive_with_rc function should return the same results when P equals its reverse complement.\n",
    "\n",
    "Test examples here: https://nbviewer.org/github/BenLangmead/ads1-hw-examples/blob/master/hw1_naive_with_rc.ipynb"
   ]
  },
  {
   "cell_type": "code",
   "execution_count": 2,
   "id": "1be9d9d9-0ab6-4df8-a971-54d3d4dccf1b",
   "metadata": {},
   "outputs": [],
   "source": [
    "import m1_functions\n",
    "from m1_functions import *"
   ]
  },
  {
   "cell_type": "code",
   "execution_count": 3,
   "id": "d3241dec-e1bb-436d-bc5e-00458c8e4348",
   "metadata": {},
   "outputs": [],
   "source": [
    "\"\"\" data needed \"\"\" \n",
    "lambda_virus = read_genome_fasta('lambda_virus.fa')"
   ]
  },
  {
   "cell_type": "code",
   "execution_count": 5,
   "id": "b2946a43-1f24-437b-8abd-1db060a44a05",
   "metadata": {},
   "outputs": [],
   "source": [
    "\"\"\" naive with reverse complement \"\"\" \n",
    "\n",
    "def naive_with_rc(p, t): \n",
    "    occurences = []\n",
    "    \"\"\" i is every index until the last one we search. \"\"\"\n",
    "    for i in range(len(t) - len(p) + 1):\n",
    "        \"\"\" at every i, we search a substring of t starting at i, equivalent to the length of p. \n",
    "        For a length of p = 4, we compare indices 0 1 2 3 of p and indices i+0, i+1, i+2, i+3 of t.\n",
    "        As soon as we find the first dissimilar character, stop the comparision and move to the next index of i.\"\"\" \n",
    "        for j in range(len(p)):\n",
    "            match = True\n",
    "            if p[j] != t[i+j]: \n",
    "                match = False \n",
    "                break\n",
    "\n",
    "        \"\"\" at every i, check for the reverse complement as well. \"\"\"\n",
    "        rc = reverse_complement(p)\n",
    "        for r in range(len(rc)):\n",
    "            match = True\n",
    "            if rc[r] != t[i+r]:\n",
    "                match = False\n",
    "                break\n",
    "            \n",
    "        \"\"\" If we found no dissimilar characters, append i to occurences. \"\"\" \n",
    "        if match:\n",
    "            occurences.append(i)\n",
    "    \n",
    "    return occurences"
   ]
  },
  {
   "cell_type": "code",
   "execution_count": 6,
   "id": "d77b6174-0dbf-4fa8-976a-f71009e45591",
   "metadata": {},
   "outputs": [
    {
     "ename": "NameError",
     "evalue": "name 'complement' is not defined",
     "output_type": "error",
     "traceback": [
      "\u001b[0;31m---------------------------------------------------------------------------\u001b[0m",
      "\u001b[0;31mNameError\u001b[0m                                 Traceback (most recent call last)",
      "Cell \u001b[0;32mIn[6], line 4\u001b[0m\n\u001b[1;32m      2\u001b[0m ten_as \u001b[38;5;241m=\u001b[39m \u001b[38;5;124m'\u001b[39m\u001b[38;5;124mAAAAAAAAAA\u001b[39m\u001b[38;5;124m'\u001b[39m\n\u001b[1;32m      3\u001b[0m t \u001b[38;5;241m=\u001b[39m ten_as \u001b[38;5;241m+\u001b[39m \u001b[38;5;124m'\u001b[39m\u001b[38;5;124mCCC\u001b[39m\u001b[38;5;124m'\u001b[39m \u001b[38;5;241m+\u001b[39m ten_as \u001b[38;5;241m+\u001b[39m \u001b[38;5;124m'\u001b[39m\u001b[38;5;124mGGG\u001b[39m\u001b[38;5;124m'\u001b[39m \u001b[38;5;241m+\u001b[39m ten_as\n\u001b[0;32m----> 4\u001b[0m occurrences \u001b[38;5;241m=\u001b[39m \u001b[43mnaive_with_rc\u001b[49m\u001b[43m(\u001b[49m\u001b[43mp\u001b[49m\u001b[43m,\u001b[49m\u001b[43m \u001b[49m\u001b[43mt\u001b[49m\u001b[43m)\u001b[49m\n\u001b[1;32m      5\u001b[0m \u001b[38;5;28mprint\u001b[39m(occurrences)\n",
      "Cell \u001b[0;32mIn[5], line 17\u001b[0m, in \u001b[0;36mnaive_with_rc\u001b[0;34m(p, t)\u001b[0m\n\u001b[1;32m     14\u001b[0m         \u001b[38;5;28;01mbreak\u001b[39;00m\n\u001b[1;32m     16\u001b[0m \u001b[38;5;250m\u001b[39m\u001b[38;5;124;03m\"\"\" at every i, check for the reverse complement as well. \"\"\"\u001b[39;00m\n\u001b[0;32m---> 17\u001b[0m rc \u001b[38;5;241m=\u001b[39m \u001b[43mreverse_complement\u001b[49m\u001b[43m(\u001b[49m\u001b[43mp\u001b[49m\u001b[43m)\u001b[49m\n\u001b[1;32m     18\u001b[0m \u001b[38;5;28;01mfor\u001b[39;00m r \u001b[38;5;129;01min\u001b[39;00m \u001b[38;5;28mrange\u001b[39m(\u001b[38;5;28mlen\u001b[39m(rc)):\n\u001b[1;32m     19\u001b[0m     match \u001b[38;5;241m=\u001b[39m \u001b[38;5;28;01mTrue\u001b[39;00m\n",
      "File \u001b[0;32m~/Genomic_Data_Science/course 3 /m1_functions.py:27\u001b[0m, in \u001b[0;36mreverse_complement\u001b[0;34m(dna)\u001b[0m\n\u001b[1;32m     25\u001b[0m dna \u001b[38;5;241m=\u001b[39m dna\u001b[38;5;241m.\u001b[39mupper()\n\u001b[1;32m     26\u001b[0m \u001b[38;5;28;01mfor\u001b[39;00m base \u001b[38;5;129;01min\u001b[39;00m dna:\n\u001b[0;32m---> 27\u001b[0m     rc \u001b[38;5;241m+\u001b[39m\u001b[38;5;241m=\u001b[39m \u001b[43mcomplement\u001b[49m[base]\n\u001b[1;32m     28\u001b[0m \u001b[38;5;28;01mreturn\u001b[39;00m rc[::\u001b[38;5;241m-\u001b[39m\u001b[38;5;241m1\u001b[39m]\n",
      "\u001b[0;31mNameError\u001b[0m: name 'complement' is not defined"
     ]
    }
   ],
   "source": [
    "p = 'CCC'\n",
    "ten_as = 'AAAAAAAAAA'\n",
    "t = ten_as + 'CCC' + ten_as + 'GGG' + ten_as\n",
    "occurrences = naive_with_rc(p, t)\n",
    "print(occurrences)"
   ]
  }
 ],
 "metadata": {
  "kernelspec": {
   "display_name": "Python 3 (ipykernel)",
   "language": "python",
   "name": "python3"
  },
  "language_info": {
   "codemirror_mode": {
    "name": "ipython",
    "version": 3
   },
   "file_extension": ".py",
   "mimetype": "text/x-python",
   "name": "python",
   "nbconvert_exporter": "python",
   "pygments_lexer": "ipython3",
   "version": "3.12.0"
  }
 },
 "nbformat": 4,
 "nbformat_minor": 5
}
