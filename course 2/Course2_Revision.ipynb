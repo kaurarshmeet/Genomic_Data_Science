{
 "cells": [
  {
   "cell_type": "markdown",
   "id": "56a4fcd6-dbd2-4750-9534-316714038a26",
   "metadata": {},
   "source": [
    "# Review of Python For Genomic Data Science "
   ]
  },
  {
   "cell_type": "markdown",
   "id": "0db88de7-a603-44eb-86a5-4f893c1c2836",
   "metadata": {
    "jp-MarkdownHeadingCollapsed": true
   },
   "source": [
    "## 2.1 Strings and Numbers\n",
    "- reviewed numbers and strings\n",
    "// integer division"
   ]
  },
  {
   "cell_type": "code",
   "execution_count": 1,
   "id": "017a3555-4a22-41d3-9284-42027ae24340",
   "metadata": {},
   "outputs": [
    {
     "data": {
      "text/plain": [
       "float"
      ]
     },
     "execution_count": 1,
     "metadata": {},
     "output_type": "execute_result"
    }
   ],
   "source": [
    "type(3.5)"
   ]
  },
  {
   "cell_type": "code",
   "execution_count": 2,
   "id": "cfc0f660-1840-4b07-85a8-3e35d3df2f3d",
   "metadata": {},
   "outputs": [
    {
     "data": {
      "text/plain": [
       "int"
      ]
     },
     "execution_count": 2,
     "metadata": {},
     "output_type": "execute_result"
    }
   ],
   "source": [
    "type(3)"
   ]
  },
  {
   "cell_type": "code",
   "execution_count": 3,
   "id": "8ae13f32-c1db-4a94-b61a-91011d11d4db",
   "metadata": {},
   "outputs": [
    {
     "data": {
      "text/plain": [
       "2.4"
      ]
     },
     "execution_count": 3,
     "metadata": {},
     "output_type": "execute_result"
    }
   ],
   "source": [
    "12/5"
   ]
  },
  {
   "cell_type": "code",
   "execution_count": 4,
   "id": "2ab723c5-f1b1-4b8a-8fad-94daa589a48f",
   "metadata": {},
   "outputs": [
    {
     "data": {
      "text/plain": [
       "2"
      ]
     },
     "execution_count": 4,
     "metadata": {},
     "output_type": "execute_result"
    }
   ],
   "source": [
    "12//5"
   ]
  },
  {
   "cell_type": "code",
   "execution_count": 5,
   "id": "c8680f04-a4c7-4808-8a7f-7893fe658076",
   "metadata": {},
   "outputs": [
    {
     "data": {
      "text/plain": [
       "2.4"
      ]
     },
     "execution_count": 5,
     "metadata": {},
     "output_type": "execute_result"
    }
   ],
   "source": [
    "float(12)/5"
   ]
  },
  {
   "cell_type": "code",
   "execution_count": 6,
   "id": "87c43b1b-636e-4e22-90b8-3bc00ad39232",
   "metadata": {},
   "outputs": [
    {
     "data": {
      "text/plain": [
       "complex"
      ]
     },
     "execution_count": 6,
     "metadata": {},
     "output_type": "execute_result"
    }
   ],
   "source": [
    "type(2 + 3j) "
   ]
  },
  {
   "cell_type": "code",
   "execution_count": 7,
   "id": "463e8659-a12a-437e-b2fe-65016793c831",
   "metadata": {},
   "outputs": [
    {
     "data": {
      "text/plain": [
       "'atg'"
      ]
     },
     "execution_count": 7,
     "metadata": {},
     "output_type": "execute_result"
    }
   ],
   "source": [
    "'atg'"
   ]
  },
  {
   "cell_type": "code",
   "execution_count": 8,
   "id": "3fdeea69-ebb0-440f-9621-7ecd73fc6ff2",
   "metadata": {},
   "outputs": [
    {
     "data": {
      "text/plain": [
       "'atg'"
      ]
     },
     "execution_count": 8,
     "metadata": {},
     "output_type": "execute_result"
    }
   ],
   "source": [
    "\"atg\""
   ]
  },
  {
   "cell_type": "code",
   "execution_count": 10,
   "id": "3ba5b99b-81e7-48e4-9e21-6c9858f153e7",
   "metadata": {},
   "outputs": [
    {
     "data": {
      "text/plain": [
       "\"apostrophie is allowed can't\""
      ]
     },
     "execution_count": 10,
     "metadata": {},
     "output_type": "execute_result"
    }
   ],
   "source": [
    "\"apostrophie is allowed can't\""
   ]
  },
  {
   "cell_type": "code",
   "execution_count": 11,
   "id": "0a8ee8b8-be42-4655-a933-6ac51aa8bcf8",
   "metadata": {},
   "outputs": [
    {
     "ename": "SyntaxError",
     "evalue": "unterminated string literal (detected at line 1) (1785868723.py, line 1)",
     "output_type": "error",
     "traceback": [
      "\u001b[0;36m  Cell \u001b[0;32mIn[11], line 1\u001b[0;36m\u001b[0m\n\u001b[0;31m    'apostrophie is not allowed can't'\u001b[0m\n\u001b[0m                                     ^\u001b[0m\n\u001b[0;31mSyntaxError\u001b[0m\u001b[0;31m:\u001b[0m unterminated string literal (detected at line 1)\n"
     ]
    }
   ],
   "source": [
    "'apostrophie is not allowed can't'"
   ]
  },
  {
   "cell_type": "code",
   "execution_count": 12,
   "id": "3096c611-b766-411f-aa27-78fbd548e340",
   "metadata": {},
   "outputs": [
    {
     "data": {
      "text/plain": [
       "\"apostrophie is not allowed can't\""
      ]
     },
     "execution_count": 12,
     "metadata": {},
     "output_type": "execute_result"
    }
   ],
   "source": [
    "'apostrophie is not allowed can\\'t'"
   ]
  },
  {
   "cell_type": "code",
   "execution_count": 14,
   "id": "3e4f6405-53aa-4cfe-9ff0-74049aff672c",
   "metadata": {},
   "outputs": [
    {
     "data": {
      "text/plain": [
       "'\\\\'"
      ]
     },
     "execution_count": 14,
     "metadata": {},
     "output_type": "execute_result"
    }
   ],
   "source": [
    "\"\\\\\""
   ]
  },
  {
   "cell_type": "code",
   "execution_count": 15,
   "id": "7160e2f7-653a-4b99-b163-4bebe1c6f1c4",
   "metadata": {},
   "outputs": [
    {
     "data": {
      "text/plain": [
       "'\\n'"
      ]
     },
     "execution_count": 15,
     "metadata": {},
     "output_type": "execute_result"
    }
   ],
   "source": [
    "'\\n'"
   ]
  },
  {
   "cell_type": "code",
   "execution_count": 16,
   "id": "0503351d-cf74-49b4-9b17-cf0d1ae6eb57",
   "metadata": {},
   "outputs": [
    {
     "data": {
      "text/plain": [
       "'\\t thing'"
      ]
     },
     "execution_count": 16,
     "metadata": {},
     "output_type": "execute_result"
    }
   ],
   "source": [
    "'\\t thing'"
   ]
  },
  {
   "cell_type": "code",
   "execution_count": 17,
   "id": "903146bd-6052-40f4-a1a2-86100a54c037",
   "metadata": {},
   "outputs": [
    {
     "data": {
      "text/plain": [
       "' Triple quotes\\nleave a backslash n '"
      ]
     },
     "execution_count": 17,
     "metadata": {},
     "output_type": "execute_result"
    }
   ],
   "source": [
    "\"\"\" Triple quotes\n",
    "leave a backslash n \"\"\""
   ]
  },
  {
   "cell_type": "code",
   "execution_count": 33,
   "id": "0275cd58-0110-4165-9db4-8defa91af312",
   "metadata": {},
   "outputs": [
    {
     "name": "stdout",
     "output_type": "stream",
     "text": [
      " \n",
      "The backslash \n",
      "tells is not to put a newline in between them \n",
      "but instead print the line as is with enters.\n",
      "\n",
      "But it seems to work here without it. \n",
      "\n",
      "Hahah\n",
      "\n",
      "\t any special characters like a tab or new line \n",
      " are shown \n",
      "\n",
      "I'm fine with\n",
      "my spite\n",
      "\tand my years\n",
      "\t\tand my tears\n",
      "\t\t\tand my candles\n"
     ]
    }
   ],
   "source": [
    "# printing strings nicely \n",
    "# whatever version of python this seems to do it fine without the backslash she was\n",
    "# talking about in the video. \n",
    "\n",
    "print(\"\"\" \n",
    "The backslash \n",
    "tells is not to put a newline in between them \n",
    "but instead print the line as is with enters.\n",
    "\n",
    "But it seems to work here without it. \n",
    "\n",
    "Hahah\n",
    "\"\"\")\n",
    "\n",
    "print(\"\"\"\\t any special characters like a tab or new line \\n are shown \"\"\") \n",
    "\n",
    "print(\"\"\"\\nI'm fine with\\nmy spite\\n\\tand my years\\n\\t\\tand my tears\\n\\t\\t\\tand my candles\"\"\")"
   ]
  },
  {
   "cell_type": "code",
   "execution_count": 34,
   "id": "f7a32e90-bc21-4c83-a507-80ce6fdec0ea",
   "metadata": {},
   "outputs": [
    {
     "data": {
      "text/plain": [
       "'atgga'"
      ]
     },
     "execution_count": 34,
     "metadata": {},
     "output_type": "execute_result"
    }
   ],
   "source": [
    "# concatenate strings\n",
    "\n",
    "'atg' + 'ga'"
   ]
  },
  {
   "cell_type": "code",
   "execution_count": 39,
   "id": "95f1062d-e67b-4e20-982d-b8e6e350cfda",
   "metadata": {},
   "outputs": [],
   "source": [
    "# multiply strings\n",
    "stringo = 'atg' * 2 "
   ]
  },
  {
   "cell_type": "code",
   "execution_count": 40,
   "id": "fefcfe8f-c784-44c5-81c2-bb42187b454f",
   "metadata": {},
   "outputs": [
    {
     "data": {
      "text/plain": [
       "True"
      ]
     },
     "execution_count": 40,
     "metadata": {},
     "output_type": "execute_result"
    }
   ],
   "source": [
    "# see compostion \n",
    "'a' in stringo"
   ]
  },
  {
   "cell_type": "markdown",
   "id": "7255ef87-dffa-4057-87f6-9df08411f543",
   "metadata": {
    "jp-MarkdownHeadingCollapsed": true
   },
   "source": [
    "## 2.2 Strings + Variables\n",
    "- reviewed string basics, variable basics by watching video "
   ]
  },
  {
   "cell_type": "code",
   "execution_count": 77,
   "id": "132630f6-d650-44ad-a7eb-dade847a08ad",
   "metadata": {},
   "outputs": [
    {
     "name": "stdout",
     "output_type": "stream",
     "text": [
      "atcga\n",
      "First index: a\n",
      "Last index: a\n",
      "First and second: at\n",
      "Until the second index: at\n",
      "Until the end: cga\n",
      "Length 5\n",
      "As 2\n",
      "counting substrings 0\n",
      "ATCGA\n",
      "atcga\n",
      ".find() (doesn't exist) -1\n",
      ".find() (doesn't exist) -1\n",
      "4\n",
      "True\n",
      "False\n"
     ]
    }
   ],
   "source": [
    "# string operators \n",
    "dna_sequence = 'atcga'\n",
    "print(dna_sequence)\n",
    "print(\"First index:\", dna_sequence[0])\n",
    "print(\"Last index:\", dna_sequence[-1])\n",
    "print(\"First and second:\", dna_sequence[0:2])\n",
    "print(\"Until the second index:\", dna_sequence[:2])\n",
    "print(\"Until the end:\", dna_sequence[2:])\n",
    "print(\"Length\", len(dna_sequence))\n",
    "\n",
    "# counting number of characters or substrings \n",
    "print(\"As\", dna_sequence.count('a'))\n",
    "print(\"counting substrings\", dna_sequence.count('tg'))\n",
    "\n",
    "# uppercasing or lowercasing the whole string \n",
    "print(dna_sequence.upper())\n",
    "print(dna_sequence.lower())\n",
    "\n",
    "# find a string or substring\n",
    "print(\".find() (doesn't exist)\", dna_sequence.find('x'))\n",
    "print(\".find() (doesn't exist)\", dna_sequence.find('xx'))\n",
    "# finding more than the first occurence\n",
    "print(dna_sequence.find('a', 3))\n",
    "\n",
    "# figure out if it was lower or uppercase \n",
    "print(dna_sequence.islower())\n",
    "print(dna_sequence.isupper())"
   ]
  },
  {
   "cell_type": "markdown",
   "id": "3219b918-2ec1-4885-9377-14d45e79c74d",
   "metadata": {},
   "source": [
    "## 2.3 Using Stuff"
   ]
  },
  {
   "cell_type": "code",
   "execution_count": 78,
   "id": "c8008e15-963b-4a2b-b0fc-add47c656ade",
   "metadata": {},
   "outputs": [
    {
     "name": "stdout",
     "output_type": "stream",
     "text": [
      "GC Content: 44.44444444444444\n"
     ]
    }
   ],
   "source": [
    "# compute the GC content of a squence \n",
    "\n",
    "dna = \"actgaactgactgaactgactgaactgactgaactgactgaactgactgaactg\"\n",
    "print(\"GC Content:\", ((dna.count('g') + dna.count('c'))/len(dna) * 100.0))"
   ]
  },
  {
   "cell_type": "markdown",
   "id": "77c5496a-9a09-47cf-9061-7d3fa5a009bd",
   "metadata": {},
   "source": [
    "## 2.4 Getting Input"
   ]
  },
  {
   "cell_type": "code",
   "execution_count": 84,
   "id": "119934ff-04fa-427f-b6a2-6916d49552b3",
   "metadata": {},
   "outputs": [
    {
     "name": "stdin",
     "output_type": "stream",
     "text": [
      "enter a dna! actgtaga\n"
     ]
    },
    {
     "data": {
      "text/plain": [
       "str"
      ]
     },
     "execution_count": 84,
     "metadata": {},
     "output_type": "execute_result"
    }
   ],
   "source": [
    "dna = input(\"enter a dna!\")\n",
    "type(dna) # always a string, no matter what you put in. "
   ]
  },
  {
   "cell_type": "code",
   "execution_count": 86,
   "id": "4006a368-6ea8-4d9e-ac1e-49db247808ec",
   "metadata": {},
   "outputs": [
    {
     "name": "stdin",
     "output_type": "stream",
     "text": [
      "enter 1\n"
     ]
    },
    {
     "data": {
      "text/plain": [
       "int"
      ]
     },
     "execution_count": 86,
     "metadata": {},
     "output_type": "execute_result"
    }
   ],
   "source": [
    "# typecasting, int float, complex, st\n",
    "dna = int(input(\"enter\"))\n",
    "type(dna)"
   ]
  },
  {
   "cell_type": "code",
   "execution_count": 98,
   "id": "0badd952-cf6d-4d13-851d-4ddf07abede7",
   "metadata": {},
   "outputs": [
    {
     "name": "stdin",
     "output_type": "stream",
     "text": [
      "hey 400\n"
     ]
    },
    {
     "name": "stdout",
     "output_type": "stream",
     "text": [
      "Ɛ\n"
     ]
    },
    {
     "data": {
      "text/plain": [
       "str"
      ]
     },
     "execution_count": 98,
     "metadata": {},
     "output_type": "execute_result"
    }
   ],
   "source": [
    "dna = chr(int(input('hey')))\n",
    "print(dna)\n",
    "type(dna) # python has no characters"
   ]
  },
  {
   "cell_type": "code",
   "execution_count": 107,
   "id": "ede4002d-f2a5-457b-b0b3-2c0cc95be480",
   "metadata": {},
   "outputs": [
    {
     "name": "stdout",
     "output_type": "stream",
     "text": [
      "DNA sequence GC content is 45.0809898 %\n",
      "DNA sequence GC content is 45.081 %\n"
     ]
    }
   ],
   "source": [
    "# fancier output formatting \n",
    "gc_percent = 45.0809898\n",
    "print(\"DNA sequence GC content is\", gc_percent, \"%\")\n",
    "\n",
    "# print 5 digits \n",
    "# number of digits following the dot \n",
    "print(\"DNA sequence GC content is %5.3f %%\" % gc_percent)\n"
   ]
  }
 ],
 "metadata": {
  "kernelspec": {
   "display_name": "Python 3 (ipykernel)",
   "language": "python",
   "name": "python3"
  },
  "language_info": {
   "codemirror_mode": {
    "name": "ipython",
    "version": 3
   },
   "file_extension": ".py",
   "mimetype": "text/x-python",
   "name": "python",
   "nbconvert_exporter": "python",
   "pygments_lexer": "ipython3",
   "version": "3.12.0"
  }
 },
 "nbformat": 4,
 "nbformat_minor": 5
}
