{
 "cells": [
  {
   "cell_type": "markdown",
   "id": "56a4fcd6-dbd2-4750-9534-316714038a26",
   "metadata": {},
   "source": [
    "# Review of Python For Genomic Data Science "
   ]
  },
  {
   "cell_type": "markdown",
   "id": "0db88de7-a603-44eb-86a5-4f893c1c2836",
   "metadata": {
    "jp-MarkdownHeadingCollapsed": true
   },
   "source": [
    "## 2.1 Strings and Numbers\n",
    "- reviewed numbers and strings\n",
    "// integer division"
   ]
  },
  {
   "cell_type": "code",
   "execution_count": 1,
   "id": "017a3555-4a22-41d3-9284-42027ae24340",
   "metadata": {},
   "outputs": [
    {
     "data": {
      "text/plain": [
       "float"
      ]
     },
     "execution_count": 1,
     "metadata": {},
     "output_type": "execute_result"
    }
   ],
   "source": [
    "type(3.5)"
   ]
  },
  {
   "cell_type": "code",
   "execution_count": 2,
   "id": "cfc0f660-1840-4b07-85a8-3e35d3df2f3d",
   "metadata": {},
   "outputs": [
    {
     "data": {
      "text/plain": [
       "int"
      ]
     },
     "execution_count": 2,
     "metadata": {},
     "output_type": "execute_result"
    }
   ],
   "source": [
    "type(3)"
   ]
  },
  {
   "cell_type": "code",
   "execution_count": 3,
   "id": "8ae13f32-c1db-4a94-b61a-91011d11d4db",
   "metadata": {},
   "outputs": [
    {
     "data": {
      "text/plain": [
       "2.4"
      ]
     },
     "execution_count": 3,
     "metadata": {},
     "output_type": "execute_result"
    }
   ],
   "source": [
    "12/5"
   ]
  },
  {
   "cell_type": "code",
   "execution_count": 4,
   "id": "2ab723c5-f1b1-4b8a-8fad-94daa589a48f",
   "metadata": {},
   "outputs": [
    {
     "data": {
      "text/plain": [
       "2"
      ]
     },
     "execution_count": 4,
     "metadata": {},
     "output_type": "execute_result"
    }
   ],
   "source": [
    "12//5"
   ]
  },
  {
   "cell_type": "code",
   "execution_count": 5,
   "id": "c8680f04-a4c7-4808-8a7f-7893fe658076",
   "metadata": {},
   "outputs": [
    {
     "data": {
      "text/plain": [
       "2.4"
      ]
     },
     "execution_count": 5,
     "metadata": {},
     "output_type": "execute_result"
    }
   ],
   "source": [
    "float(12)/5"
   ]
  },
  {
   "cell_type": "code",
   "execution_count": 6,
   "id": "87c43b1b-636e-4e22-90b8-3bc00ad39232",
   "metadata": {},
   "outputs": [
    {
     "data": {
      "text/plain": [
       "complex"
      ]
     },
     "execution_count": 6,
     "metadata": {},
     "output_type": "execute_result"
    }
   ],
   "source": [
    "type(2 + 3j) "
   ]
  },
  {
   "cell_type": "code",
   "execution_count": 7,
   "id": "463e8659-a12a-437e-b2fe-65016793c831",
   "metadata": {},
   "outputs": [
    {
     "data": {
      "text/plain": [
       "'atg'"
      ]
     },
     "execution_count": 7,
     "metadata": {},
     "output_type": "execute_result"
    }
   ],
   "source": [
    "'atg'"
   ]
  },
  {
   "cell_type": "code",
   "execution_count": 8,
   "id": "3fdeea69-ebb0-440f-9621-7ecd73fc6ff2",
   "metadata": {},
   "outputs": [
    {
     "data": {
      "text/plain": [
       "'atg'"
      ]
     },
     "execution_count": 8,
     "metadata": {},
     "output_type": "execute_result"
    }
   ],
   "source": [
    "\"atg\""
   ]
  },
  {
   "cell_type": "code",
   "execution_count": 10,
   "id": "3ba5b99b-81e7-48e4-9e21-6c9858f153e7",
   "metadata": {},
   "outputs": [
    {
     "data": {
      "text/plain": [
       "\"apostrophie is allowed can't\""
      ]
     },
     "execution_count": 10,
     "metadata": {},
     "output_type": "execute_result"
    }
   ],
   "source": [
    "\"apostrophie is allowed can't\""
   ]
  },
  {
   "cell_type": "code",
   "execution_count": 11,
   "id": "0a8ee8b8-be42-4655-a933-6ac51aa8bcf8",
   "metadata": {},
   "outputs": [
    {
     "ename": "SyntaxError",
     "evalue": "unterminated string literal (detected at line 1) (1785868723.py, line 1)",
     "output_type": "error",
     "traceback": [
      "\u001b[0;36m  Cell \u001b[0;32mIn[11], line 1\u001b[0;36m\u001b[0m\n\u001b[0;31m    'apostrophie is not allowed can't'\u001b[0m\n\u001b[0m                                     ^\u001b[0m\n\u001b[0;31mSyntaxError\u001b[0m\u001b[0;31m:\u001b[0m unterminated string literal (detected at line 1)\n"
     ]
    }
   ],
   "source": [
    "'apostrophie is not allowed can't'"
   ]
  },
  {
   "cell_type": "code",
   "execution_count": 12,
   "id": "3096c611-b766-411f-aa27-78fbd548e340",
   "metadata": {},
   "outputs": [
    {
     "data": {
      "text/plain": [
       "\"apostrophie is not allowed can't\""
      ]
     },
     "execution_count": 12,
     "metadata": {},
     "output_type": "execute_result"
    }
   ],
   "source": [
    "'apostrophie is not allowed can\\'t'"
   ]
  },
  {
   "cell_type": "code",
   "execution_count": 14,
   "id": "3e4f6405-53aa-4cfe-9ff0-74049aff672c",
   "metadata": {},
   "outputs": [
    {
     "data": {
      "text/plain": [
       "'\\\\'"
      ]
     },
     "execution_count": 14,
     "metadata": {},
     "output_type": "execute_result"
    }
   ],
   "source": [
    "\"\\\\\""
   ]
  },
  {
   "cell_type": "code",
   "execution_count": 15,
   "id": "7160e2f7-653a-4b99-b163-4bebe1c6f1c4",
   "metadata": {},
   "outputs": [
    {
     "data": {
      "text/plain": [
       "'\\n'"
      ]
     },
     "execution_count": 15,
     "metadata": {},
     "output_type": "execute_result"
    }
   ],
   "source": [
    "'\\n'"
   ]
  },
  {
   "cell_type": "code",
   "execution_count": 16,
   "id": "0503351d-cf74-49b4-9b17-cf0d1ae6eb57",
   "metadata": {},
   "outputs": [
    {
     "data": {
      "text/plain": [
       "'\\t thing'"
      ]
     },
     "execution_count": 16,
     "metadata": {},
     "output_type": "execute_result"
    }
   ],
   "source": [
    "'\\t thing'"
   ]
  },
  {
   "cell_type": "code",
   "execution_count": 17,
   "id": "903146bd-6052-40f4-a1a2-86100a54c037",
   "metadata": {},
   "outputs": [
    {
     "data": {
      "text/plain": [
       "' Triple quotes\\nleave a backslash n '"
      ]
     },
     "execution_count": 17,
     "metadata": {},
     "output_type": "execute_result"
    }
   ],
   "source": [
    "\"\"\" Triple quotes\n",
    "leave a backslash n \"\"\""
   ]
  },
  {
   "cell_type": "code",
   "execution_count": 33,
   "id": "0275cd58-0110-4165-9db4-8defa91af312",
   "metadata": {},
   "outputs": [
    {
     "name": "stdout",
     "output_type": "stream",
     "text": [
      " \n",
      "The backslash \n",
      "tells is not to put a newline in between them \n",
      "but instead print the line as is with enters.\n",
      "\n",
      "But it seems to work here without it. \n",
      "\n",
      "Hahah\n",
      "\n",
      "\t any special characters like a tab or new line \n",
      " are shown \n",
      "\n",
      "I'm fine with\n",
      "my spite\n",
      "\tand my years\n",
      "\t\tand my tears\n",
      "\t\t\tand my candles\n"
     ]
    }
   ],
   "source": [
    "# printing strings nicely \n",
    "# whatever version of python this seems to do it fine without the backslash she was\n",
    "# talking about in the video. \n",
    "\n",
    "print(\"\"\" \n",
    "The backslash \n",
    "tells is not to put a newline in between them \n",
    "but instead print the line as is with enters.\n",
    "\n",
    "But it seems to work here without it. \n",
    "\n",
    "Hahah\n",
    "\"\"\")\n",
    "\n",
    "print(\"\"\"\\t any special characters like a tab or new line \\n are shown \"\"\") \n",
    "\n",
    "print(\"\"\"\\nI'm fine with\\nmy spite\\n\\tand my years\\n\\t\\tand my tears\\n\\t\\t\\tand my candles\"\"\")"
   ]
  },
  {
   "cell_type": "code",
   "execution_count": 34,
   "id": "f7a32e90-bc21-4c83-a507-80ce6fdec0ea",
   "metadata": {},
   "outputs": [
    {
     "data": {
      "text/plain": [
       "'atgga'"
      ]
     },
     "execution_count": 34,
     "metadata": {},
     "output_type": "execute_result"
    }
   ],
   "source": [
    "# concatenate strings\n",
    "\n",
    "'atg' + 'ga'"
   ]
  },
  {
   "cell_type": "code",
   "execution_count": 39,
   "id": "95f1062d-e67b-4e20-982d-b8e6e350cfda",
   "metadata": {},
   "outputs": [],
   "source": [
    "# multiply strings\n",
    "stringo = 'atg' * 2 "
   ]
  },
  {
   "cell_type": "code",
   "execution_count": 40,
   "id": "fefcfe8f-c784-44c5-81c2-bb42187b454f",
   "metadata": {},
   "outputs": [
    {
     "data": {
      "text/plain": [
       "True"
      ]
     },
     "execution_count": 40,
     "metadata": {},
     "output_type": "execute_result"
    }
   ],
   "source": [
    "# see compostion \n",
    "'a' in stringo"
   ]
  },
  {
   "cell_type": "code",
   "execution_count": 112,
   "id": "83d4f7b9-db8c-44d4-be11-fafcad1e5426",
   "metadata": {},
   "outputs": [
    {
     "data": {
      "text/plain": [
       "'\\t a'"
      ]
     },
     "execution_count": 112,
     "metadata": {},
     "output_type": "execute_result"
    }
   ],
   "source": [
    "'\\t a'"
   ]
  },
  {
   "cell_type": "markdown",
   "id": "7255ef87-dffa-4057-87f6-9df08411f543",
   "metadata": {
    "jp-MarkdownHeadingCollapsed": true
   },
   "source": [
    "## 2.2 Strings + Variables\n",
    "- reviewed string basics, variable basics by watching video "
   ]
  },
  {
   "cell_type": "code",
   "execution_count": 77,
   "id": "132630f6-d650-44ad-a7eb-dade847a08ad",
   "metadata": {},
   "outputs": [
    {
     "name": "stdout",
     "output_type": "stream",
     "text": [
      "atcga\n",
      "First index: a\n",
      "Last index: a\n",
      "First and second: at\n",
      "Until the second index: at\n",
      "Until the end: cga\n",
      "Length 5\n",
      "As 2\n",
      "counting substrings 0\n",
      "ATCGA\n",
      "atcga\n",
      ".find() (doesn't exist) -1\n",
      ".find() (doesn't exist) -1\n",
      "4\n",
      "True\n",
      "False\n"
     ]
    }
   ],
   "source": [
    "# string operators \n",
    "dna_sequence = 'atcga'\n",
    "print(dna_sequence)\n",
    "print(\"First index:\", dna_sequence[0])\n",
    "print(\"Last index:\", dna_sequence[-1])\n",
    "print(\"First and second:\", dna_sequence[0:2])\n",
    "print(\"Until the second index:\", dna_sequence[:2])\n",
    "print(\"Until the end:\", dna_sequence[2:])\n",
    "print(\"Length\", len(dna_sequence))\n",
    "\n",
    "# counting number of characters or substrings \n",
    "print(\"As\", dna_sequence.count('a'))\n",
    "print(\"counting substrings\", dna_sequence.count('tg'))\n",
    "\n",
    "# uppercasing or lowercasing the whole string \n",
    "print(dna_sequence.upper())\n",
    "print(dna_sequence.lower())\n",
    "\n",
    "# find a string or substring\n",
    "print(\".find() (doesn't exist)\", dna_sequence.find('x'))\n",
    "print(\".find() (doesn't exist)\", dna_sequence.find('xx'))\n",
    "# finding more than the first occurence\n",
    "print(dna_sequence.find('a', 3))\n",
    "\n",
    "# figure out if it was lower or uppercase \n",
    "print(dna_sequence.islower())\n",
    "print(dna_sequence.isupper())"
   ]
  },
  {
   "cell_type": "markdown",
   "id": "3219b918-2ec1-4885-9377-14d45e79c74d",
   "metadata": {
    "jp-MarkdownHeadingCollapsed": true
   },
   "source": [
    "## 2.3 Using Stuff"
   ]
  },
  {
   "cell_type": "code",
   "execution_count": 78,
   "id": "c8008e15-963b-4a2b-b0fc-add47c656ade",
   "metadata": {},
   "outputs": [
    {
     "name": "stdout",
     "output_type": "stream",
     "text": [
      "GC Content: 44.44444444444444\n"
     ]
    }
   ],
   "source": [
    "# compute the GC content of a squence \n",
    "\n",
    "dna = \"actgaactgactgaactgactgaactgactgaactgactgaactgactgaactg\"\n",
    "print(\"GC Content:\", ((dna.count('g') + dna.count('c'))/len(dna) * 100.0))"
   ]
  },
  {
   "cell_type": "markdown",
   "id": "77c5496a-9a09-47cf-9061-7d3fa5a009bd",
   "metadata": {
    "jp-MarkdownHeadingCollapsed": true
   },
   "source": [
    "## 2.4 Getting Input"
   ]
  },
  {
   "cell_type": "code",
   "execution_count": 84,
   "id": "119934ff-04fa-427f-b6a2-6916d49552b3",
   "metadata": {},
   "outputs": [
    {
     "name": "stdin",
     "output_type": "stream",
     "text": [
      "enter a dna! actgtaga\n"
     ]
    },
    {
     "data": {
      "text/plain": [
       "str"
      ]
     },
     "execution_count": 84,
     "metadata": {},
     "output_type": "execute_result"
    }
   ],
   "source": [
    "dna = input(\"enter a dna!\")\n",
    "type(dna) # always a string, no matter what you put in. "
   ]
  },
  {
   "cell_type": "code",
   "execution_count": 86,
   "id": "4006a368-6ea8-4d9e-ac1e-49db247808ec",
   "metadata": {},
   "outputs": [
    {
     "name": "stdin",
     "output_type": "stream",
     "text": [
      "enter 1\n"
     ]
    },
    {
     "data": {
      "text/plain": [
       "int"
      ]
     },
     "execution_count": 86,
     "metadata": {},
     "output_type": "execute_result"
    }
   ],
   "source": [
    "# typecasting, int float, complex, st\n",
    "dna = int(input(\"enter\"))\n",
    "type(dna)"
   ]
  },
  {
   "cell_type": "code",
   "execution_count": 114,
   "id": "0badd952-cf6d-4d13-851d-4ddf07abede7",
   "metadata": {},
   "outputs": [
    {
     "name": "stdin",
     "output_type": "stream",
     "text": [
      "hey 1200\n"
     ]
    },
    {
     "name": "stdout",
     "output_type": "stream",
     "text": [
      "Ұ\n"
     ]
    },
    {
     "data": {
      "text/plain": [
       "str"
      ]
     },
     "execution_count": 114,
     "metadata": {},
     "output_type": "execute_result"
    }
   ],
   "source": [
    "dna = chr(int(input('hey')))\n",
    "print(dna)\n",
    "type(dna) # python has no characters"
   ]
  },
  {
   "cell_type": "code",
   "execution_count": 115,
   "id": "ede4002d-f2a5-457b-b0b3-2c0cc95be480",
   "metadata": {},
   "outputs": [
    {
     "name": "stdout",
     "output_type": "stream",
     "text": [
      "DNA sequence GC content is 4 %\n",
      "DNA sequence GC content is 4.000%\n",
      "4\n",
      "  4\n",
      "12\n",
      "1.060000e+01\n",
      "<class 'str'>\n",
      "Ұ\n",
      "Ұ\n",
      "4.000\n"
     ]
    }
   ],
   "source": [
    "# fancier output formatting \n",
    "\n",
    "# %a.bf means\n",
    "# a minimum of \"a\" outputted characters in the output, pads with 0s if needed.\n",
    "# a maximum of \"b\" outputted characters after the decimal place in the output.\n",
    "gc_percent = 4\n",
    "print(\"DNA sequence GC content is\", gc_percent, \"%\")\n",
    "\n",
    "# print 5 digits \n",
    "# number of digits following the dot \n",
    "print(\"DNA sequence GC content is %5.3f%%\" % gc_percent)\n",
    "\n",
    "# more formatting \n",
    "\n",
    "print(\"%d\" % gc_percent) # truncates the decimal portion\n",
    "print(\"%3d\" % gc_percent) # fills at least 3 characters, pads with spaces \n",
    "print(\"%o\" % 10) # hexadec rep\n",
    "print(\"%e\" % 10.6) # e, scientific notation\n",
    "print(type(dna))\n",
    "print(\"%s\" % dna)\n",
    "\n",
    "# or use f strings\n",
    "print(f'{dna}')\n",
    "# you can do the same formatting here.\n",
    "print(f'{gc_percent:5.3f}')"
   ]
  },
  {
   "cell_type": "markdown",
   "id": "01b42b71-813d-4627-ad77-053e93086b84",
   "metadata": {
    "jp-MarkdownHeadingCollapsed": true
   },
   "source": [
    "## 3.1 Data Structures: Lists "
   ]
  },
  {
   "cell_type": "code",
   "execution_count": 117,
   "id": "3d980de0-7831-49c3-8594-0ff359daf026",
   "metadata": {},
   "outputs": [],
   "source": [
    "list_of_diff_types = ['gene', 3, 0.00]"
   ]
  },
  {
   "cell_type": "code",
   "execution_count": 88,
   "id": "b43e44e3-068b-45bf-ad18-16edf84ebb30",
   "metadata": {},
   "outputs": [
    {
     "name": "stdout",
     "output_type": "stream",
     "text": [
      "['gene', 3, 0.0]\n"
     ]
    }
   ],
   "source": [
    "print(list_of_diff_types)"
   ]
  },
  {
   "cell_type": "code",
   "execution_count": 89,
   "id": "9d3e4627-fc48-4497-ac5b-2da8c643a6d9",
   "metadata": {},
   "outputs": [
    {
     "data": {
      "text/plain": [
       "[3, 0.0]"
      ]
     },
     "execution_count": 89,
     "metadata": {},
     "output_type": "execute_result"
    }
   ],
   "source": [
    "# strings are immutable \n",
    "\n",
    "# you can slice lists.\n",
    "list_of_diff_types[1:]"
   ]
  },
  {
   "cell_type": "code",
   "execution_count": 90,
   "id": "7af7ebed-ae7e-4683-ab38-de1e836ecf93",
   "metadata": {},
   "outputs": [
    {
     "data": {
      "text/plain": [
       "['a', 3, 0.0]"
      ]
     },
     "execution_count": 90,
     "metadata": {},
     "output_type": "execute_result"
    }
   ],
   "source": [
    "# lists are mutable.\n",
    "list_of_diff_types[0] = 'a'\n",
    "list_of_diff_types"
   ]
  },
  {
   "cell_type": "code",
   "execution_count": 91,
   "id": "b7d82aa8-a44f-4530-b4dc-4acd0d3f2002",
   "metadata": {},
   "outputs": [
    {
     "data": {
      "text/plain": [
       "['a', 'b', 0.0]"
      ]
     },
     "execution_count": 91,
     "metadata": {},
     "output_type": "execute_result"
    }
   ],
   "source": [
    "list_of_diff_types[0:2] = ['a', 'b'] # up to but not including\n",
    "list_of_diff_types"
   ]
  },
  {
   "cell_type": "code",
   "execution_count": 92,
   "id": "78f88e35-0573-405b-8b7c-032bc0ea71f0",
   "metadata": {},
   "outputs": [
    {
     "name": "stdout",
     "output_type": "stream",
     "text": [
      "['a', 'b', 0.0, 'hey', 'there']\n",
      "['a', 'b', 0.0, 'hey', 'there', 'a']\n",
      "1\n",
      "['there', 'hey', 0.0, 'b', 'a']\n"
     ]
    }
   ],
   "source": [
    "# list methods \n",
    "\n",
    "list_of_diff_types.extend(['hey', 'there'])\n",
    "print(list_of_diff_types)\n",
    "# concatenate directly \n",
    "print(list_of_diff_types + ['a'])\n",
    "# count number of times\n",
    "print(list_of_diff_types.count('a'))\n",
    "# reverse\n",
    "list_of_diff_types.reverse()\n",
    "print(list_of_diff_types)"
   ]
  },
  {
   "cell_type": "code",
   "execution_count": 97,
   "id": "54653e34-6d3c-4ce6-8a5d-9203432b9173",
   "metadata": {},
   "outputs": [
    {
     "name": "stdout",
     "output_type": "stream",
     "text": [
      "[1, 2, 3, 4]\n",
      "4\n",
      "[1, 2, 3]\n"
     ]
    }
   ],
   "source": [
    "# lists as stacks \n",
    "\n",
    "# append \n",
    "# pop \n",
    "\n",
    "stack = [1, 2, 3] \n",
    "stack.append(4)\n",
    "print(stack)\n",
    "\n",
    "# returns anre removes \n",
    "returns = stack.pop()\n",
    "print(returns)\n",
    "print(stack)"
   ]
  },
  {
   "cell_type": "code",
   "execution_count": 111,
   "id": "c1ca87a3-74c7-45a0-8159-d72ae7cef5f4",
   "metadata": {},
   "outputs": [
    {
     "name": "stdout",
     "output_type": "stream",
     "text": [
      "[1, 2, 4, 5, 7, 8]\n",
      "[1, 2, 4, 5, 8, 7]\n",
      "[1, 2, 4, 5, 7, 8]\n",
      "['A', 'a']\n"
     ]
    }
   ],
   "source": [
    "# sorting lists \n",
    "\n",
    "stack = [1, 2, 4, 5, 8, 7]\n",
    "\n",
    "# doesn't change list \n",
    "print(sorted(stack))\n",
    "print(stack)\n",
    "\n",
    "# changes list \n",
    "stack.sort()\n",
    "print(stack)\n",
    "\n",
    "alpha_stack = ['a', 'A'] \n",
    "print(sorted(alpha_stack)) # capitals go before lowercase, capitals come first in ascii"
   ]
  },
  {
   "cell_type": "markdown",
   "id": "a6b7b2a8-8d87-4a6e-9f11-b807ce2b18e9",
   "metadata": {},
   "source": [
    "## 3.2 Tupules + Sets + Dictionaries "
   ]
  },
  {
   "cell_type": "code",
   "execution_count": 122,
   "id": "8c4f6a5d-d1b8-4a57-acf8-3766afd76746",
   "metadata": {},
   "outputs": [
    {
     "data": {
      "text/plain": [
       "(1, 2, 3)"
      ]
     },
     "execution_count": 122,
     "metadata": {},
     "output_type": "execute_result"
    }
   ],
   "source": [
    "t = 1, 2, 3\n",
    "t\n",
    "# tupules are non-modifiable. "
   ]
  },
  {
   "cell_type": "code",
   "execution_count": 131,
   "id": "eeb77066-9cc9-4b28-aba3-6e53cdfca72f",
   "metadata": {},
   "outputs": [
    {
     "name": "stdout",
     "output_type": "stream",
     "text": [
      "| gives you all elements from both sets, no duplicates: {1, 2, 3, 4}\n",
      "& gives you the elements that appear in both sets: {1}\n",
      "a - b gives you the elements are only in a: {2, 3}\n"
     ]
    }
   ],
   "source": [
    "# a set = unordered, no duplicate eleements \n",
    "s = {1, 2, 3, 3}\n",
    "s # removes the duplicate elements\n",
    "\n",
    "# new set\n",
    "s2 = {1, 4}\n",
    "\n",
    "# intersection \n",
    "print(\"| gives you all elements from both sets, no duplicates:\", (s|s2))\n",
    "print(\"& gives you the elements that appear in both sets:\", (s&s2))\n",
    "print(\"a - b gives you the elements are only in a:\", (s-s2))"
   ]
  },
  {
   "cell_type": "code",
   "execution_count": 325,
   "id": "cbbcbfdc-084f-43ad-b31a-bd2d423c831e",
   "metadata": {},
   "outputs": [
    {
     "name": "stdout",
     "output_type": "stream",
     "text": [
      "value\n",
      "['key', 'new key']\n",
      ".items() gives you key, value tupules in a dict_items list dict_items([('key', 'new value'), ('new key', 'value3')])\n"
     ]
    }
   ],
   "source": [
    "# dictionaries - key value pairs \n",
    "# keys = any immutable type, values are any type \n",
    "\n",
    "d = {'key': 'value', 'key2': 'value'} \n",
    "print(d['key2'])\n",
    "\n",
    "# try to access key not in dictionary => error. \n",
    "# check if a key is present \n",
    "'fj' in d # false \n",
    "\n",
    "# add a value \n",
    "d['new key'] = 'value3'\n",
    "d\n",
    "# update an old key \n",
    "d['key'] = 'new value'\n",
    "d\n",
    "\n",
    "# delete from a dictionary\n",
    "del d['key2']\n",
    "d\n",
    "\n",
    "# size \n",
    "len(d)\n",
    "\n",
    "# What all the keys are. \n",
    "list(d.keys()) # all the keys as a list\n",
    "d.keys() # it's own data type dict_keys(['key', 'new key'])\n",
    "\n",
    "print(sorted(d.keys()))\n",
    "\n",
    "print(\".items() gives you key, value tupules in a dict_items list\", d.items()) "
   ]
  },
  {
   "cell_type": "markdown",
   "id": "03c14aea-bfd8-449d-8263-5da2102f0bb0",
   "metadata": {
    "jp-MarkdownHeadingCollapsed": true
   },
   "source": [
    "## Summary: Operations"
   ]
  },
  {
   "cell_type": "code",
   "execution_count": 209,
   "id": "3f7993e6-c8e0-4c07-88f1-21af512ca1ec",
   "metadata": {},
   "outputs": [
    {
     "name": "stdout",
     "output_type": "stream",
     "text": [
      "h\n",
      "True\n",
      "hllo\n",
      "hallo\n",
      "hallos\n",
      "hlos\n",
      "hislos\n",
      "hislossss\n",
      "hislos\n"
     ]
    }
   ],
   "source": [
    "# strings \n",
    "s = 'hello' \n",
    "\n",
    "# access element \n",
    "print(s[0]) \n",
    "\n",
    "# membership \n",
    "print('h' in s) \n",
    "\n",
    "# remove element \n",
    "i = s.find('e')\n",
    "n = s[:i] + s[i+1:]\n",
    "print(n)\n",
    "\n",
    "# change element \n",
    "i = s.find('e')\n",
    "s = s[:i] + 'a' + s[i+1:]\n",
    "print(s)\n",
    "\n",
    "# add element \n",
    "s = s + 's'\n",
    "print(s)\n",
    "\n",
    "# remove consecutive elements\n",
    "i = s.find('a')\n",
    "k = s.find('l') \n",
    "ns = s[:i] + s[k+1:]\n",
    "print(ns) \n",
    "\n",
    "# change consecutive elements \n",
    "i = s.find('a')\n",
    "k = s.find('l') \n",
    "ns = s[:i] + 'is' + s[k+1:]\n",
    "print(ns) \n",
    "\n",
    "# add more than one element \n",
    "print(ns + 'sss') \n",
    "\n",
    "print(ns[:]) # same as ns, used to make a copy"
   ]
  },
  {
   "cell_type": "code",
   "execution_count": 199,
   "id": "305223ef-306b-47d2-9c02-7b912a39ae01",
   "metadata": {},
   "outputs": [
    {
     "name": "stdout",
     "output_type": "stream",
     "text": [
      "1\n",
      "False\n",
      "[2, 3, 4]\n",
      "[4, 3, 4]\n",
      "[4, 3, 4, 4, 5, 6, 7]\n",
      "[4, 3, 4, 5, 6, 7]\n",
      "[4, 3, 'a', 'b', 6, 7]\n",
      "[4, 3, 'a', 'b', 6, 7, 1, 23, 4]\n"
     ]
    }
   ],
   "source": [
    "# lists \n",
    "\n",
    "l = [1, 2, 3, 4] \n",
    "\n",
    "# access element \n",
    "print(l[0]) \n",
    "\n",
    "# membership \n",
    "print('str' in l) \n",
    "\n",
    "# remove element \n",
    "del l[0] \n",
    "print(l)\n",
    "\n",
    "# change element \n",
    "\n",
    "l[0] = 4\n",
    "print(l)\n",
    "\n",
    "# add element \n",
    "l.append(4)\n",
    "l = l + [5, 6, 7] \n",
    "print(l) \n",
    "\n",
    "# remove consecutive elements\n",
    "del l[2:3] # [2, 3) \n",
    "print(l) \n",
    "\n",
    "# change consecutive elements\n",
    "l[2:4] = ['a', 'b']\n",
    "print(l)\n",
    "\n",
    "# add more than one element \n",
    "l = l + [1, 23, 4]\n",
    "print(l)"
   ]
  },
  {
   "cell_type": "code",
   "execution_count": 207,
   "id": "b46ac9e9-3884-407a-bfc2-38dd566c7709",
   "metadata": {},
   "outputs": [
    {
     "name": "stdout",
     "output_type": "stream",
     "text": [
      "3\n",
      "False\n",
      "True\n",
      "{'b': 4}\n",
      "{'b': 8}\n",
      "{'b': 8, 'c': 9}\n",
      "{}\n",
      "{'key': 3, 'another key': 4}\n"
     ]
    }
   ],
   "source": [
    "# dictionaries \n",
    "\n",
    "d = {'a': 3, 'b': 4} \n",
    "\n",
    "# access element\n",
    "print(d['a'])\n",
    "\n",
    "# membership (of keys)\n",
    "print(3 in d) \n",
    "vals = list(d.values())\n",
    "print(3 in vals)\n",
    "\n",
    "# remove element \n",
    "del d['a']\n",
    "print(d)\n",
    "\n",
    "# change element \n",
    "d['b'] = 8\n",
    "print(d)\n",
    "\n",
    "# add element \n",
    "d['c'] = 9 \n",
    "print(d) \n",
    "\n",
    "# remove consecutive elements\n",
    "# not possible \n",
    "d.clear() # clears all\n",
    "d\n",
    "print(d)\n",
    "\n",
    "# change consecutive elements \n",
    "# not possible \n",
    "\n",
    "# add more than one element \n",
    "d.update( {'key': 3, 'another key':4} )\n",
    "print(d)"
   ]
  },
  {
   "cell_type": "markdown",
   "id": "fff52b29-32d5-4a2b-bf31-d016c48fd8e9",
   "metadata": {
    "jp-MarkdownHeadingCollapsed": true
   },
   "source": [
    "## 4.1 and 4.2"
   ]
  },
  {
   "cell_type": "raw",
   "id": "bde913c2-d8bf-46fa-b4a1-88487bc6abb6",
   "metadata": {},
   "source": [
    "# different boolean types \n",
    "\n",
    "if 'n' in dna: \n",
    "\n",
    "membership operators - checking if something contains something else. \n",
    "in \n",
    "not in \n",
    "\n",
    "identity operators - checking if they are the same object \n",
    "is \n",
    "is not \n",
    "\n",
    "equals operator - checks if they have the same composition \n",
    "== \n",
    ">= \n",
    "<= \n",
    "> \n",
    "< \n",
    "...\n",
    "\n",
    "and, or, not \n",
    "\n",
    "loops that go over lists and strings \n",
    "\n",
    "for m in motifs: \n",
    "\n",
    "for i in range(start, stop, step): [start: stop)\n",
    "\n",
    "for i in (range(len(protein)): for i in the whole protein "
   ]
  },
  {
   "cell_type": "code",
   "execution_count": 211,
   "id": "af3b776f-5217-428f-93aa-b0e22b4524ea",
   "metadata": {},
   "outputs": [
    {
     "name": "stdout",
     "output_type": "stream",
     "text": [
      "a\n",
      "a\n",
      "c\n",
      "f\n",
      "t\n",
      "e\n",
      "g\n"
     ]
    }
   ],
   "source": [
    "# can access in a string like this \n",
    "s = 'aacfteg'\n",
    "for i in s:\n",
    "    print(i)"
   ]
  },
  {
   "cell_type": "markdown",
   "id": "b7e85649-69a1-4f4b-ba9a-99309fc791a0",
   "metadata": {},
   "source": [
    "## Doing Some Practice Functions "
   ]
  },
  {
   "cell_type": "code",
   "execution_count": 225,
   "id": "1892b765-3446-45e8-9c8f-cea7e2e8099f",
   "metadata": {},
   "outputs": [
    {
     "name": "stdout",
     "output_type": "stream",
     "text": [
      "True\n",
      "False\n",
      "True\n"
     ]
    }
   ],
   "source": [
    "# check if a DNA sequuence contains in frame stop codon \n",
    "\n",
    "def has_inframe_stop(dna):\n",
    "    \"\"\" checks if a DNA sequuence contains in frame stop codon \"\"\"\n",
    "    stop_codons = ['TAA', 'TAG', 'TGA'] \n",
    "\n",
    "    \"\"\" goes through the string from the start to end, skipping three each time \"\"\" \n",
    "    for i in range(0, len(dna), 3): \n",
    "        if dna[i:i+3] in stop_codons:\n",
    "            return True\n",
    "    return False \n",
    "    \n",
    "# overloaded allows user to specify reading frame \n",
    "def has_inframe_stop(dna, frame = 0):\n",
    "    \"\"\" checks if a DNA sequuence contains in frame stop codon \"\"\"\n",
    "    stop_codons = ['TAA', 'TAG', 'TGA'] \n",
    "\n",
    "    \"\"\" goes through the string from the start to end, skipping three each time \"\"\" \n",
    "    for i in range(frame, len(dna), 3): \n",
    "        if dna[i:i+3] in stop_codons:\n",
    "            return True\n",
    "    return False \n",
    "\n",
    "\n",
    "dna = 'ATCTAGG' # contains stop. UAG\n",
    "print(has_inframe_stop(dna))\n",
    "\n",
    "dna = 'ATAA' # out of frame\n",
    "print(has_inframe_stop(dna))\n",
    "print(has_inframe_stop(dna, 1))"
   ]
  },
  {
   "cell_type": "code",
   "execution_count": 247,
   "id": "4ca43017-4fcf-4cf5-bb05-0d48b5c6b966",
   "metadata": {},
   "outputs": [
    {
     "name": "stdout",
     "output_type": "stream",
     "text": [
      "cgta\n"
     ]
    }
   ],
   "source": [
    "# reversing a string using extended slices. \n",
    "\n",
    "str = 'atgc' \n",
    "#print(str[0:3:2]) # 0 to 3 slice, skipping two indices at a time \n",
    "\n",
    "print(str[::-1]) # whole string, going backwards"
   ]
  },
  {
   "cell_type": "code",
   "execution_count": 251,
   "id": "6417561a-b175-462f-837f-a8325399d43f",
   "metadata": {},
   "outputs": [
    {
     "data": {
      "text/plain": [
       "'tagc'"
      ]
     },
     "execution_count": 251,
     "metadata": {},
     "output_type": "execute_result"
    }
   ],
   "source": [
    "# a function that returns a complement \n",
    "complements = { 'a':'t', 't':'a', 'g':'c', 'c':'g' } \n",
    "\n",
    "def complement(dna):\n",
    "    reverse_complement_list = []\n",
    "    for letter in dna:\n",
    "        complement = complements[letter]\n",
    "        reverse_complement_list += [complement]\n",
    "    # join method joins the list with spaces in between of whatever specified before the dot. \n",
    "    return ''.join(reverse_complement_list)\n",
    "\n",
    "complement('atcg')"
   ]
  },
  {
   "cell_type": "code",
   "execution_count": 259,
   "id": "f72be563-1f59-4904-b1fa-25534e62e980",
   "metadata": {},
   "outputs": [
    {
     "data": {
      "text/plain": [
       "'tagc'"
      ]
     },
     "execution_count": 259,
     "metadata": {},
     "output_type": "execute_result"
    }
   ],
   "source": [
    "# list comprehensions \n",
    "\n",
    "dna = 'atcg'\n",
    "new_list = [print(\"invalid sequence\") for d in dna if d not in complements]\n",
    "\n",
    "# using list comprehensions to rewrite the previous functions \n",
    "def complement(dna):\n",
    "    return ''.join([complements[base] for base in dna])\n",
    "\n",
    "complement(dna) # works! "
   ]
  },
  {
   "cell_type": "code",
   "execution_count": 261,
   "id": "96044dd7-9f82-4206-8726-0e1206ea09ce",
   "metadata": {},
   "outputs": [
    {
     "data": {
      "text/plain": [
       "['a', 'cg']"
      ]
     },
     "execution_count": 261,
     "metadata": {},
     "output_type": "execute_result"
    }
   ],
   "source": [
    "# split and join \n",
    "dna.split('t') # splits by character"
   ]
  },
  {
   "cell_type": "code",
   "execution_count": 262,
   "id": "5de98372-9c5a-449b-bfdd-38bd8b91ad2f",
   "metadata": {},
   "outputs": [],
   "source": [
    "# function with variable arguments *args "
   ]
  },
  {
   "cell_type": "markdown",
   "id": "b6028cf6-a32a-41f0-b45a-3e92498eddbf",
   "metadata": {},
   "source": [
    "## Reading and Writing Files \n",
    "\n",
    "Basic methods \n",
    "\n",
    "file = open('filename', 'mode') by default opens in read mode.\n",
    "Throws an IOError if the file opens incorrectly\n",
    "\n",
    "file.write() allows you to write something to a file and returns number of characters you wrote \n",
    "\n",
    "file.readline() allows you to read one line \n",
    "file.read() allows you to read the rest of the lines in a file\n",
    "\n",
    "file.seek(pos) moves your pointer to that position, if you move to 0, the cursor is just before \n",
    "\n",
    "file.close() closes it "
   ]
  },
  {
   "cell_type": "code",
   "execution_count": 309,
   "id": "af616e61-a411-4c12-ac45-a9c8495ccfcc",
   "metadata": {},
   "outputs": [
    {
     "name": "stdout",
     "output_type": "stream",
     "text": [
      "hey \n",
      "\n",
      "hey\n",
      "6\n"
     ]
    }
   ],
   "source": [
    "# default is reading from a file\n",
    "\n",
    "try:\n",
    "    r = open('myfile.txt') # opens in read mode by default\n",
    "    a = open('myfile.txt', 'a') # append mode\n",
    "    w = open('myfile.txt', 'w') # overwrites anything already there\n",
    "except IOError:\n",
    "    print(\"file not found\")\n",
    "\n",
    "# read from file\n",
    "\n",
    "a.write(\"hey \\nhey\")\n",
    "a.close()\n",
    "\n",
    "# only r is readable\n",
    "for line in r:\n",
    "    print(line)\n",
    "    # or r.read()\n",
    "\n",
    "r.seek(0)\n",
    "r.readline() # only one file\n",
    "r.read() #reads the entire rest of the file with newline chars\n",
    "\n",
    "\n",
    "# write into a file\n",
    "f = open('myfile.txt', 'a')\n",
    "var = f.write('string')\n",
    "print(var) # wrote six chars\n",
    "\n",
    "f.close() # close the file."
   ]
  },
  {
   "cell_type": "markdown",
   "id": "52791229-238d-4e31-b45e-7d6512d1206b",
   "metadata": {},
   "source": [
    "## FASTA files\n",
    "\n",
    "\\> header\n",
    "\n",
    "sequence"
   ]
  },
  {
   "cell_type": "code",
   "execution_count": 329,
   "id": "e48bdcdc-0056-4951-9fb2-d698064f49e2",
   "metadata": {},
   "outputs": [],
   "source": [
    "# build a dictionary containing all sequences from a fasta file. \n",
    "\n",
    "try:\n",
    "    fasta = open('sequence.fasta')\n",
    "except IOError:\n",
    "    print(\"file not found\")\n",
    "\n",
    "dict_fasta = {}\n",
    "for line in fasta:\n",
    "    line = line.rstrip() # strip off the \\n at the end (right strip)\n",
    "\n",
    "    # handle the case of the read in line being empty \n",
    "    if line == '':\n",
    "        continue\n",
    "        \n",
    "    if line[0] == '>': # we're at a header\n",
    "        words = line.split() # split the header by whitespaces\n",
    "        name = words[0][1:] # first word except > \n",
    "        dict_fasta[name] = '' # set the dict entry to empty\n",
    "    else: \n",
    "        # add to the dictionary entry\n",
    "        dict_fasta[name] = dict_fasta[name] + line\n",
    "\n",
    "#print(dict_fasta)\n",
    "\n",
    "        # or this\n",
    "#for name, seq in dict_fasta.items():\n",
    "    #print(name, seq)"
   ]
  },
  {
   "cell_type": "markdown",
   "id": "209bf07e-29ae-46f3-905e-52b799ed3982",
   "metadata": {},
   "source": [
    "## Command Line Arguments \n",
    "doing this in a python file :D \n",
    "\n",
    "processfasta.py"
   ]
  },
  {
   "cell_type": "markdown",
   "id": "baa49a31-5145-437a-a591-949a8fbffac5",
   "metadata": {},
   "source": [
    "## Using the System Environment\n",
    "\n",
    "stdin = stream data going into a program \n",
    "\n",
    "stdout = stream data going out of a program \n",
    "\n",
    "stderror = output error message \n",
    "\n",
    "To do tommorow: \n",
    "\n",
    "1. Read through python tutor's explanation of sys.stdin, stdout, stderror\n",
    "2. Understand the subprocess module, and run some example with it: run prokka for example from a python script!\n",
    "3. Review what a python package/module is and how you can create one for yourself."
   ]
  }
 ],
 "metadata": {
  "kernelspec": {
   "display_name": "Python 3 (ipykernel)",
   "language": "python",
   "name": "python3"
  },
  "language_info": {
   "codemirror_mode": {
    "name": "ipython",
    "version": 3
   },
   "file_extension": ".py",
   "mimetype": "text/x-python",
   "name": "python",
   "nbconvert_exporter": "python",
   "pygments_lexer": "ipython3",
   "version": "3.12.0"
  }
 },
 "nbformat": 4,
 "nbformat_minor": 5
}
