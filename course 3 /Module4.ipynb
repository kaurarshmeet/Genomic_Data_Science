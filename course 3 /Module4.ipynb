{
 "cells": [
  {
   "cell_type": "markdown",
   "metadata": {},
   "source": [
    "# Module 4: Assembly"
   ]
  },
  {
   "cell_type": "markdown",
   "metadata": {},
   "source": [
    "How do we solve the assembly problem with an algo? \n",
    "\n",
    "- shortest common superstring problem \n",
    "    - hard to solve quickly\n",
    "    - one solution is fast, comes at a cost\n",
    "\n",
    "- when a genome is repetetive, any algorithm will make mistakes \n",
    "- we'll learn DeBruin graph alrightms "
   ]
  },
  {
   "cell_type": "markdown",
   "metadata": {},
   "source": [
    "## Lecture: The shortest common superstring problem"
   ]
  },
  {
   "cell_type": "markdown",
   "metadata": {},
   "source": [
    "The shortest common superstring (SCS) problem: given a set of strings (S), we'd like to get the shortest possible string containing the all the strings in S\n",
    "\n",
    "Fig 1\n",
    "<img src=\"/Users/arshmeetkaur/Genomic_Data_Science/course 3 /images/SCS.png\" alt=\"Local Image\" width=\"500\">\n",
    "\n",
    "Why is the SCS problem useful? If you give it all reads and it finds the shortest common superstring, the resulting superstring is the assembled genome. This assembled genome is the \"most parsimonious\", \"most likely\" genome. \n",
    "\n",
    "Downsides of SCS: \n",
    "- Not tractable. NP-complete. No algorithms which solve it efficiently. \n",
    "\n",
    "Algorithm for SCS problem: \n",
    "\n",
    "Fig. 2 \n",
    "<img src=\"/Users/arshmeetkaur/Genomic_Data_Science/course 3 /images/SCS_algo.png\" alt=\"Local Image\" width=\"500\">\n",
    "\n",
    "Assume Set S = input strings of same length. \n",
    "\n",
    "Repeat the following steps for each possible order:\n",
    "1. place string in set S in some possible order\n",
    "2. find the overlap of the current string with the superstring which is being built. Only add characters not overlapping with the end of the superstring. \n",
    "- pick the shortest superstring from all possible orders. \n",
    "- if S contains n strings, n! orderings possible, very bad time complexity\n",
    "\n",
    "- the algorithm will always report a correct shortest common superstring value."
   ]
  },
  {
   "cell_type": "markdown",
   "metadata": {},
   "source": [
    "## Practical: Implementing shortest common superstring"
   ]
  },
  {
   "cell_type": "code",
   "execution_count": 78,
   "metadata": {},
   "outputs": [],
   "source": [
    "from modules.all_functions import *\n",
    "import itertools\n",
    "\n",
    "\"\"\" My initial thoughts/algorithm: \"\"\"\n",
    "\n",
    "def SCS(ss): \n",
    "    \"\"\" Takes a set of strings (ss) and returns the shortest common superstring\n",
    "    containing all of them.\n",
    "    All reads in this set shiould be the same length. \"\"\"\n",
    "    \n",
    "    all_supstrings = []\n",
    "    \n",
    "    # for each possible ordering, generate the shortest possible substring \n",
    "    for ordering in itertools.permutations(ss): \n",
    "\n",
    "        superstring = '' # initialize empty supersting \n",
    "        # in each ordering, look at one sequence at a time. \n",
    "        for read in ordering: \n",
    "            last_bit_superstring = superstring[-len(read):]\n",
    "            # for each sequence, search for one character at the end of the string\n",
    "            for i in range(len(read)):\n",
    "                # if the read character is already there, skip \n",
    "                if read[i] == last_bit_superstring[i]:\n",
    "                    continue \n",
    "                # if the read character is not already there, add it. \n",
    "                superstring += read[i]\n",
    "        all_supstrings += [superstring] # add the current superstring to the list.\n",
    "\n",
    "    return min(all_supstrings)"
   ]
  },
  {
   "cell_type": "markdown",
   "metadata": {},
   "source": [
    "Critique: initial thought was wrong and cause index problems\n",
    "\n",
    "Doesn't work for the case where \n",
    "act\n",
    "xxxac \n",
    "you'd be comparing xac to act and that won't work. "
   ]
  },
  {
   "cell_type": "code",
   "execution_count": 79,
   "metadata": {},
   "outputs": [],
   "source": [
    "def scs(ss): \n",
    "    superstring = None\n",
    "    # for each possible ordering, generate the shortest possible substring \n",
    "    for ordering in itertools.permutations(ss): \n",
    "        # initialize the superstring with the first string in the list\n",
    "        current_superstring = ordering[0] \n",
    "        # for every overlapping pair (including first string in the list )\n",
    "        for i in range(len(ss)-1):\n",
    "            read, next_read = ordering[i], ordering[i+1]\n",
    "            # find overlap length between the current string and the next string\n",
    "            olen = overlap(read, next_read, min_length=1)\n",
    "            # add hte non-overlapping bit. \n",
    "            current_superstring += next_read[olen:]\n",
    "        if superstring == None or len(superstring) > len(current_superstring):\n",
    "            superstring = current_superstring\n",
    "    return superstring"
   ]
  },
  {
   "cell_type": "code",
   "execution_count": 80,
   "metadata": {},
   "outputs": [
    {
     "data": {
      "text/plain": [
       "'GACACGGTACGAGCTTCGGA'"
      ]
     },
     "execution_count": 80,
     "metadata": {},
     "output_type": "execute_result"
    }
   ],
   "source": [
    "scs(['ACGGTACGAGC', 'GAGCTTCGGA', 'GACACGG'])"
   ]
  },
  {
   "cell_type": "markdown",
   "metadata": {},
   "source": [
    "## Lecture: Greedy shortest common superstring"
   ]
  },
  {
   "cell_type": "markdown",
   "metadata": {},
   "source": [
    "- downside of SCS: no efficient solutions (solution we just saw was very slow). \n",
    "\n",
    "- look at faster alt: greedy shortest common superstring \n",
    "    - greedy - at each superstring, the algorithm makes a choice that results in the shortest superstring. By using a greedy algo, we cannot ensure we always get the correct solution.\n",
    "\n",
    "- algorithm proceeds in rounds. in each round, pick the longest remaining overlap in the overlap map. \n",
    " - the longer the overlap between strings, the shorter the superstring. \n",
    "\n",
    "Fig 1. \n",
    "<img src=\"/Users/arshmeetkaur/Genomic_Data_Science/course 3 /images/greedy_map.png\" alt=\"Local Image\" width=\"500\">\n",
    "\n",
    "1. locate the edge corresponding to the longest overlap. If there is a tie, pick an edge at random \n",
    "\n",
    "Fig 2. \n",
    "<img src=\"/Users/arshmeetkaur/Genomic_Data_Science/course 3 /images/merging_nodes.png\" alt=\"Local Image\" width=\"500\">\n",
    "\n",
    "2. Merge these two nodes \n",
    "\n",
    "Repeat steps 1 and 2 over and over again. \n",
    "\n",
    "If theres a case where we end up with two non-overlapping nodes where edge = 0, concatenate the strings. \n",
    "\n",
    "Pros: Fast\n",
    "Cons: Not always accurate. \n",
    "\n",
    "Fig 3. Not always accurate \n",
    "<img src=\"/Users/arshmeetkaur/Genomic_Data_Science/course 3 /images/mistakes.png\" alt=\"Local Image\" width=\"500\">"
   ]
  },
  {
   "cell_type": "markdown",
   "metadata": {},
   "source": [
    "## Practical: Implementing greedy shortest common superstring"
   ]
  },
  {
   "cell_type": "code",
   "execution_count": 81,
   "metadata": {},
   "outputs": [],
   "source": [
    "def pick_max_overlap(reads, k):\n",
    "    \"\"\" Find the pair of reads with maximum overlap. \"\"\"\n",
    "    reada, readb = None, None\n",
    "    best_olen = 0 \n",
    "\n",
    "    # for each pair of reads possible, calculate overlap between them\n",
    "    # store the reads if they have longest overlap \n",
    "    for a,b in itertools.permutations(reads, 2):\n",
    "        olen = overlap(a, b, min_length=k)\n",
    "        if olen > best_olen:\n",
    "            reada, readb = a, b\n",
    "            best_olen = olen \n",
    "    return reada, readb, best_olen"
   ]
  },
  {
   "cell_type": "code",
   "execution_count": 82,
   "metadata": {},
   "outputs": [],
   "source": [
    "def greedy_scs(reads, k): \n",
    "    read_a, read_b, olen = pick_max_overlap(reads, k)\n",
    "    while olen > 0:\n",
    "        # remove read a and b\n",
    "        reads.remove(read_a)\n",
    "        reads.remove(read_b)\n",
    "        # put back a read which contains both of them \n",
    "        reads.append(read_a + read_b[olen:])\n",
    "\n",
    "        # next iteration = reset the new most overlapping reads\n",
    "        read_a, read_b, olen = pick_max_overlap(reads, k)\n",
    "    return ''.join(reads) # return as one string, also concatenates any nodes with overalp 0/"
   ]
  },
  {
   "cell_type": "code",
   "execution_count": 83,
   "metadata": {},
   "outputs": [
    {
     "data": {
      "text/plain": [
       "'CABCA'"
      ]
     },
     "execution_count": 83,
     "metadata": {},
     "output_type": "execute_result"
    }
   ],
   "source": [
    "greedy_scs(['ABC', 'BCA', 'CAB'], 2)"
   ]
  },
  {
   "cell_type": "code",
   "execution_count": 84,
   "metadata": {},
   "outputs": [
    {
     "data": {
      "text/plain": [
       "'CDBCABCDA'"
      ]
     },
     "execution_count": 84,
     "metadata": {},
     "output_type": "execute_result"
    }
   ],
   "source": [
    "greedy_scs(['ABCD', 'CDBC', 'BCDA'], 1)"
   ]
  },
  {
   "cell_type": "code",
   "execution_count": 85,
   "metadata": {},
   "outputs": [
    {
     "data": {
      "text/plain": [
       "'ABCDBCDA'"
      ]
     },
     "execution_count": 85,
     "metadata": {},
     "output_type": "execute_result"
    }
   ],
   "source": [
    "scs(['ABCD', 'CDBC', 'BCDA'])"
   ]
  },
  {
   "cell_type": "markdown",
   "metadata": {},
   "source": [
    "## Lecture: Third law of assembly: repeats are bad"
   ]
  },
  {
   "cell_type": "markdown",
   "metadata": {},
   "source": [
    "- most frustrating! \n",
    "\n",
    "Third law of assembly: shortest common superstring is not the correct genome if the genome is repetitive. \n",
    "- repeated elements get collapsed down into just one copy. \n",
    "- so repetive elements cause ambiguity \n",
    "- the way repeats fail algorithms is different based on the algorithms. \n",
    "- about half the genome is covered by repeated sequences.\n",
    "- summary: scs and greedy_scs need alternative algorithms "
   ]
  },
  {
   "cell_type": "markdown",
   "metadata": {},
   "source": [
    "## Lecture: De Bruijn graphs and Eulerian walks"
   ]
  },
  {
   "cell_type": "markdown",
   "metadata": {},
   "source": [
    "alternative algorithm: de brujin graph \n",
    "\n",
    "Fig. 1 - De Brujin Graph \n",
    "\n",
    "<img src=\"/Users/arshmeetkaur/Genomic_Data_Science/course 3 /images/deb.png\" alt=\"Local Image\" width=\"500\">\n",
    "- make nodes for each distinct phrases, directions indicate the sequence of these words. \n",
    "- multigraph- multiple edges between a given pair of nodes.\n",
    "\n",
    "Fig. 2 - De Brujin Graph for DNA \n",
    "\n",
    "<img src=\"/Users/arshmeetkaur/Genomic_Data_Science/course 3 /images/dna_deb.png\" alt=\"Local Image\" width=\"500\">\n",
    "- extract all kmers of size k (size of reads) from the genome. \n",
    "- for each kmer, extract the (k-1)mers \n",
    "- add a node for each (k-1)mer (if it doesn't already exist)\n",
    "- make an edge from the first (k-1)mer to the next sequentially \n",
    "\n",
    "- each kmer in the genome corresponds to an edge in the graph \n",
    "- one node per distinct (k-1)mer\n",
    "\n",
    "Fig 3. Reconstruct genome from the debrujin graph using the Eulerian Walk \n",
    "\n",
    "<img src=\"/Users/arshmeetkaur/Genomic_Data_Science/course 3 /images/e_walk.png\" alt=\"Local Image\" width=\"500\">\n",
    "- start at a node, follow the edges as you go. \n",
    "- Eulerian Walk: Crosses each edgge exactly once in the walkthrough "
   ]
  },
  {
   "cell_type": "markdown",
   "metadata": {},
   "source": [
    "## Practical: Building a De Bruijn graph"
   ]
  },
  {
   "cell_type": "code",
   "execution_count": 86,
   "metadata": {},
   "outputs": [],
   "source": [
    "def de_bruijn_ize(seq, k):\n",
    "    edges = [] \n",
    "    nodes = set() # no duplicates \n",
    "\n",
    "    # build all kmers of the given string. \n",
    "    for i in range(len(seq)-k): \n",
    "        # append a tupule of both of the (k-1)mers, [0] is right, [1] is left, indicating direction by sequence.\n",
    "        # (a, b) means a points to b\n",
    "        edges.append((seq[i:i+k-1], seq[i+1:i+k]))\n",
    "        # add the (k-1)mers to the set of nodes \n",
    "        nodes.add(seq[i:i+k-1])\n",
    "        nodes.add(seq[i+1:i+k])\n",
    "    return nodes, edges "
   ]
  },
  {
   "cell_type": "code",
   "execution_count": 87,
   "metadata": {},
   "outputs": [
    {
     "name": "stdout",
     "output_type": "stream",
     "text": [
      "{'GT', 'TC', 'AC', 'CG', 'GC'}\n"
     ]
    }
   ],
   "source": [
    "nodes, edges = de_bruijn_ize('ACGCGTCG', 3)\n",
    "print(nodes)"
   ]
  },
  {
   "cell_type": "code",
   "execution_count": 88,
   "metadata": {},
   "outputs": [
    {
     "name": "stdout",
     "output_type": "stream",
     "text": [
      "[('AC', 'CG'), ('CG', 'GC'), ('GC', 'CG'), ('CG', 'GT'), ('GT', 'TC')]\n"
     ]
    }
   ],
   "source": [
    "print(edges) # all of these are directionality"
   ]
  },
  {
   "cell_type": "code",
   "execution_count": 89,
   "metadata": {},
   "outputs": [],
   "source": [
    "# eulerian walk \n",
    "\n",
    "def visualize_de_bruijn(st, k):\n",
    "    \"\"\" Visualize a directed multigraph using graphviz \"\"\"\n",
    "    nodes, edges = de_bruijn_ize(st, k)\n",
    "    dot_str = 'digraph \"DeBruijn graph\" {\\n'\n",
    "    for node in nodes:\n",
    "        dot_str += '  %s [label=\"%s\"] ;\\n' % (node, node)\n",
    "    for src, dst in edges:\n",
    "        dot_str += '  %s -> %s ;\\n' % (src, dst)\n",
    "    return dot_str + '}\\n'"
   ]
  },
  {
   "cell_type": "code",
   "execution_count": 90,
   "metadata": {},
   "outputs": [
    {
     "name": "stdout",
     "output_type": "stream",
     "text": [
      "--2024-06-28 15:44:00--  https://raw.github.com/cjdrake/ipython-magic/master/gvmagic.py\n",
      "Resolving raw.github.com (raw.github.com)... 185.199.109.133, 185.199.110.133, 185.199.111.133, ...\n",
      "Connecting to raw.github.com (raw.github.com)|185.199.109.133|:443... connected.\n",
      "HTTP request sent, awaiting response... 301 Moved Permanently\n",
      "Location: https://raw.githubusercontent.com/cjdrake/ipython-magic/master/gvmagic.py [following]\n",
      "--2024-06-28 15:44:01--  https://raw.githubusercontent.com/cjdrake/ipython-magic/master/gvmagic.py\n",
      "Resolving raw.githubusercontent.com (raw.githubusercontent.com)... 185.199.109.133, 185.199.110.133, 185.199.111.133, ...\n",
      "Connecting to raw.githubusercontent.com (raw.githubusercontent.com)|185.199.109.133|:443... connected.\n",
      "HTTP request sent, awaiting response... 200 OK\n",
      "Length: 4988 (4.9K) [text/plain]\n",
      "Saving to: ‘gvmagic.py’\n",
      "\n",
      "gvmagic.py          100%[===================>]   4.87K  --.-KB/s    in 0.001s  \n",
      "\n",
      "2024-06-28 15:44:01 (4.89 MB/s) - ‘gvmagic.py’ saved [4988/4988]\n",
      "\n"
     ]
    }
   ],
   "source": [
    "!wget https://raw.github.com/cjdrake/ipython-magic/master/gvmagic.py"
   ]
  },
  {
   "cell_type": "code",
   "execution_count": 96,
   "metadata": {},
   "outputs": [
    {
     "name": "stdout",
     "output_type": "stream",
     "text": [
      "The gvmagic extension is already loaded. To reload it, use:\n",
      "  %reload_ext gvmagic\n"
     ]
    }
   ],
   "source": [
    "%load_ext gvmagic"
   ]
  },
  {
   "cell_type": "markdown",
   "metadata": {},
   "source": [
    "didn't work so just did this\n",
    "\n",
    "<img src=\"/Users/arshmeetkaur/Genomic_Data_Science/course 3 /images/map.png\" alt=\"Local Image\" width=\"200\">"
   ]
  },
  {
   "cell_type": "markdown",
   "metadata": {},
   "source": [
    "## Lecture: When Eulerian walks go wrong"
   ]
  },
  {
   "cell_type": "markdown",
   "metadata": {},
   "source": [
    "Fig. 1: Does it overcollapse repeats? \n",
    "- Sometimes not: \n",
    "<img src=\"/Users/arshmeetkaur/Genomic_Data_Science/course 3 /images/deb.png\" alt=\"Local Image\" width=\"500\">\n",
    "\n",
    "- We might not get overcollapsed repeats, but that doesn't mean the third law of assembly doesn't show up. It causes some other issues. \n",
    "    \n",
    "    - Repeats cause there to be mutliple Eulerian paths that one can take through the graph. This introduces ambiguity: we don't know which walk through is the correct genome and there can only be one walk that converges to the correct genome sequence. Every other (wrong) walk through is a wrong suffling.\n",
    "    <img src=\"/Users/arshmeetkaur/Genomic_Data_Science/course 3 /images/deb.png\" alt=\"Local Image\" width=\"500\">\n",
    "\n",
    "    - By decreasing kmer length, we increase the chances of repeats and more e-walks. The longer the kmer length, the less ambiguity. \n",
    "    <img src=\"/Users/arshmeetkaur/Genomic_Data_Science/course 3 /images/deb.png\" alt=\"Local Image\" width=\"500\">\n",
    "\n",
    "    - Violations of assumptions about sequencing data,: \n",
    "        - sequencing reads (100s bp) much longer than k-mer length (typical 30-50). \n",
    "        - sequenicing errors and not every section of genome has good coverage \n",
    "        - any errors => end up with a non-eulirean graph (in practice)"
   ]
  },
  {
   "cell_type": "markdown",
   "metadata": {},
   "source": [
    "## Lecture: Assemblers in practice"
   ]
  },
  {
   "cell_type": "markdown",
   "metadata": {},
   "source": [
    "Objective: How do real assemblers deal with repeats and other challenges? \n",
    "\n",
    "Fig. 1 Two types of systems, both are graph-based\n",
    "\n",
    "<img src=\"/Users/arshmeetkaur/Genomic_Data_Science/course 3 /images/deb.png\" alt=\"Local Image\" width=\"500\">\n",
    "\n",
    "Fig. 2 De Bruijin-based assembly \n",
    "\n",
    "<img src=\"/Users/arshmeetkaur/Genomic_Data_Science/course 3 /images/deb.png\" alt=\"Local Image\" width=\"500\">\n",
    "\n",
    "- sequencing error causes these diversions in the graph, dead ends. (fig 3)\n",
    "<img src=\"/Users/arshmeetkaur/Genomic_Data_Science/course 3 /images/deb.png\" alt=\"Local Image\" width=\"500\">\n",
    "\n",
    "- they can contain edged which don't tell us any new information \n",
    "- the green edge is impled by the blue edges (fig 4)\n",
    "<img src=\"/Users/arshmeetkaur/Genomic_Data_Science/course 3 /images/deb.png\" alt=\"Local Image\" width=\"500\">\n",
    "\n",
    "- polyploidy may cause additional \"bubbles\" in the graph: \n",
    "    - one straight line diverges where the read starts differing because of one different base between strands\n",
    "    - you can try to fix this by getting rid of the \"bubbles\" and putting a note there\n",
    "<img src=\"/Users/arshmeetkaur/Genomic_Data_Science/course 3 /images/deb.png\" alt=\"Local Image\" width=\"500\">\n",
    "\n",
    "- repeats cause ambiguity:\n",
    "    - scs: overcollapses repeats\n",
    "    - de bruijn: shuffles around bits of genome between repetive bits. \n",
    "    - how do you deal with it? \n",
    "        - chopping the assembly into peices\n",
    "            - there will be peices of the graph/assembly where there is no ambiguity. Reconstruct those parts. \n",
    "            - for ambiguous parts, we know what sequence was there, just not # of times it was repeated. \n",
    "            - assemble each of these unambiguous peices into contigs. \n",
    "\n",
    "<img src=\"/Users/arshmeetkaur/Genomic_Data_Science/course 3 /images/deb.png\" alt=\"Local Image\" width=\"500\">\n"
   ]
  },
  {
   "cell_type": "markdown",
   "metadata": {},
   "source": []
  }
 ],
 "metadata": {
  "kernelspec": {
   "display_name": "myenv",
   "language": "python",
   "name": "python3"
  },
  "language_info": {
   "codemirror_mode": {
    "name": "ipython",
    "version": 3
   },
   "file_extension": ".py",
   "mimetype": "text/x-python",
   "name": "python",
   "nbconvert_exporter": "python",
   "pygments_lexer": "ipython3",
   "version": "3.12.4"
  }
 },
 "nbformat": 4,
 "nbformat_minor": 2
}
