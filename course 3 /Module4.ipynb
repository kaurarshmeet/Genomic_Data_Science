{
 "cells": [
  {
   "cell_type": "markdown",
   "metadata": {},
   "source": [
    "# Module 4: Assembly"
   ]
  },
  {
   "cell_type": "markdown",
   "metadata": {},
   "source": [
    "How do we solve the assembly problem with an algo? \n",
    "\n",
    "- shortest common superstring problem \n",
    "    - hard to solve quickly\n",
    "    - one solution is fast, comes at a cost\n",
    "\n",
    "- when a genome is repetetive, any algorithm will make mistakes \n",
    "- we'll learn DeBruin graph alrightms "
   ]
  },
  {
   "cell_type": "markdown",
   "metadata": {},
   "source": [
    "## Lecture: The shortest common superstring problem"
   ]
  },
  {
   "cell_type": "markdown",
   "metadata": {},
   "source": [
    "The shortest common superstring (SCS) problem: given a set of strings (S), we'd like to get the shortest possible string containing the all the strings in S\n",
    "\n",
    "Fig 1\n",
    "<img src=\"/Users/arshmeetkaur/Genomic_Data_Science/course 3 /images/SCS.png\" alt=\"Local Image\" width=\"500\">\n",
    "\n",
    "Why is the SCS problem useful? If you give it all reads and it finds the shortest common superstring, the resulting superstring is the assembled genome. This assembled genome is the \"most parsimonious\", \"most likely\" genome. \n",
    "\n",
    "Downsides of SCS: \n",
    "- Not tractable. NP-complete. No algorithms which solve it efficiently. \n",
    "\n",
    "Algorithm for SCS problem: \n",
    "\n",
    "Fig. 2 \n",
    "<img src=\"/Users/arshmeetkaur/Genomic_Data_Science/course 3 /images/SCS_algo.png\" alt=\"Local Image\" width=\"500\">\n",
    "\n",
    "Assume Set S = input strings of same length. \n",
    "\n",
    "Repeat the following steps for each possible order:\n",
    "1. place string in set S in some possible order\n",
    "2. find the overlap of the current string with the superstring which is being built. Only add characters not overlapping with the end of the superstring. \n",
    "- pick the shortest superstring from all possible orders. \n",
    "- if S contains n strings, n! orderings possible, very bad time complexity\n",
    "\n",
    "- the algorithm will always report a correct shortest common superstring value."
   ]
  },
  {
   "cell_type": "markdown",
   "metadata": {},
   "source": [
    "## Practical: Implementing shortest common superstring"
   ]
  },
  {
   "cell_type": "code",
   "execution_count": 29,
   "metadata": {},
   "outputs": [],
   "source": [
    "from modules.all_functions import *\n",
    "import itertools\n",
    "\n",
    "\"\"\" My initial thoughts/algorithm: \"\"\"\n",
    "\n",
    "def SCS(ss): \n",
    "    \"\"\" Takes a set of strings (ss) and returns the shortest common superstring\n",
    "    containing all of them.\n",
    "    All reads in this set shiould be the same length. \"\"\"\n",
    "    \n",
    "    all_supstrings = []\n",
    "    \n",
    "    # for each possible ordering, generate the shortest possible substring \n",
    "    for ordering in itertools.permutations(ss): \n",
    "\n",
    "        superstring = '' # initialize empty supersting \n",
    "        # in each ordering, look at one sequence at a time. \n",
    "        for read in ordering: \n",
    "            last_bit_superstring = superstring[-len(read):]\n",
    "            # for each sequence, search for one character at the end of the string\n",
    "            for i in range(len(read)):\n",
    "                # if the read character is already there, skip \n",
    "                if read[i] == last_bit_superstring[i]:\n",
    "                    continue \n",
    "                # if the read character is not already there, add it. \n",
    "                superstring += read[i]\n",
    "        all_supstrings += [superstring] # add the current superstring to the list.\n",
    "\n",
    "    return min(all_supstrings)"
   ]
  },
  {
   "cell_type": "markdown",
   "metadata": {},
   "source": [
    "Critique: initial thought was wrong and cause index problems\n",
    "\n",
    "Doesn't work for the case where \n",
    "act\n",
    "xxxac \n",
    "you'd be comparing xac to act and that won't work. "
   ]
  },
  {
   "cell_type": "code",
   "execution_count": 37,
   "metadata": {},
   "outputs": [],
   "source": [
    "def scs(ss): \n",
    "    superstring = None\n",
    "    # for each possible ordering, generate the shortest possible substring \n",
    "    for ordering in itertools.permutations(ss): \n",
    "        # initialize the superstring with the first string in the list\n",
    "        current_superstring = ordering[0] \n",
    "        # for every overlapping pair (including first string in the list )\n",
    "        for i in range(len(ss)-1):\n",
    "            read, next_read = ordering[i], ordering[i+1]\n",
    "            # find overlap length between the current string and the next string\n",
    "            olen = overlap(read, next_read, min_length=1)\n",
    "            # add hte non-overlapping bit. \n",
    "            current_superstring += next_read[olen:]\n",
    "        if superstring == None or len(superstring) > len(current_superstring):\n",
    "            superstring = current_superstring\n",
    "    return superstring"
   ]
  },
  {
   "cell_type": "code",
   "execution_count": 40,
   "metadata": {},
   "outputs": [
    {
     "data": {
      "text/plain": [
       "'GACACGGTACGAGCTTCGGA'"
      ]
     },
     "execution_count": 40,
     "metadata": {},
     "output_type": "execute_result"
    }
   ],
   "source": [
    "scs(['ACGGTACGAGC', 'GAGCTTCGGA', 'GACACGG'])"
   ]
  },
  {
   "cell_type": "markdown",
   "metadata": {},
   "source": [
    "## Lecture: Greedy shortest common superstring"
   ]
  },
  {
   "cell_type": "markdown",
   "metadata": {},
   "source": [
    "- downside of SCS: no efficient solutions (solution we just saw was very slow). \n",
    "\n",
    "- look at faster alt: greedy shortest common superstring \n",
    "    - greedy - at each superstring, the algorithm makes a choice that results in the shortest superstring. By using a greedy algo, we cannot ensure we always get the correct solution.\n",
    "\n",
    "- algorithm proceeds in rounds. in each round, pick the longest remaining overlap in the overlap map. \n",
    " - the longer the overlap between strings, the shorter the superstring. \n",
    "\n",
    "Fig 1. \n",
    "<img src=\"/Users/arshmeetkaur/Genomic_Data_Science/course 3 /images/greedy_map.png\" alt=\"Local Image\" width=\"500\">\n",
    "\n",
    "1. locate the edge corresponding to the longest overlap. If there is a tie, pick an edge at random \n",
    "\n",
    "Fig 2. \n",
    "<img src=\"/Users/arshmeetkaur/Genomic_Data_Science/course 3 /images/merging_nodes.png\" alt=\"Local Image\" width=\"500\">\n",
    "\n",
    "2. Merge these two nodes \n",
    "\n",
    "Repeat steps 1 and 2 over and over again. \n",
    "\n",
    "If theres a case where we end up with two non-overlapping nodes where edge = 0, concatenate the strings. \n",
    "\n",
    "Pros: Fast\n",
    "Cons: Not always accurate. \n",
    "\n",
    "Fig 3. Not always accurate \n",
    "<img src=\"/Users/arshmeetkaur/Genomic_Data_Science/course 3 /images/mistakes.png\" alt=\"Local Image\" width=\"500\">"
   ]
  },
  {
   "cell_type": "markdown",
   "metadata": {},
   "source": [
    "## Practical: Implementing greedy shortest common superstring"
   ]
  },
  {
   "cell_type": "markdown",
   "metadata": {},
   "source": [
    "1. find two reads, max overlap\n"
   ]
  },
  {
   "cell_type": "code",
   "execution_count": 46,
   "metadata": {},
   "outputs": [],
   "source": [
    "def pick_max_overlap(reads, k):\n",
    "    \"\"\" Find the pair of reads with maximum overlap. \"\"\"\n",
    "    reada, readb = None, None\n",
    "    best_olen = 0 \n",
    "\n",
    "    # for each pair of reads possible, calculate overlap between them\n",
    "    # store the reads if they have longest overlap \n",
    "    for a,b in itertools.permutations(reads, 2):\n",
    "        olen = overlap(a, b, min_length=k)\n",
    "        if olen > best_olen:\n",
    "            reada, readb = a, b\n",
    "            best_olen = olen \n",
    "    return reada, readb, best_olen"
   ]
  },
  {
   "cell_type": "code",
   "execution_count": 49,
   "metadata": {},
   "outputs": [],
   "source": [
    "def greedy_scs(reads, k): \n",
    "    read_a, read_b, olen = pick_max_overlap(reads, k)\n",
    "    while olen > 0:\n",
    "        # remove read a and b\n",
    "        reads.remove(read_a)\n",
    "        reads.remove(read_b)\n",
    "        # put back a read which contains both of them \n",
    "        reads.append(read_a + read_b[olen:])\n",
    "\n",
    "        # next iteration = reset the new most overlapping reads\n",
    "        read_a, read_b, olen = pick_max_overlap(reads, k)\n",
    "    return ''.join(reads) # return as one string, also concatenates any nodes with overalp 0/"
   ]
  },
  {
   "cell_type": "code",
   "execution_count": 50,
   "metadata": {},
   "outputs": [
    {
     "data": {
      "text/plain": [
       "'CABCA'"
      ]
     },
     "execution_count": 50,
     "metadata": {},
     "output_type": "execute_result"
    }
   ],
   "source": [
    "greedy_scs(['ABC', 'BCA', 'CAB'], 2)"
   ]
  },
  {
   "cell_type": "code",
   "execution_count": 52,
   "metadata": {},
   "outputs": [
    {
     "data": {
      "text/plain": [
       "'CDBCABCDA'"
      ]
     },
     "execution_count": 52,
     "metadata": {},
     "output_type": "execute_result"
    }
   ],
   "source": [
    "greedy_scs(['ABCD', 'CDBC', 'BCDA'], 1)"
   ]
  },
  {
   "cell_type": "code",
   "execution_count": 54,
   "metadata": {},
   "outputs": [
    {
     "data": {
      "text/plain": [
       "'ABCDBCDA'"
      ]
     },
     "execution_count": 54,
     "metadata": {},
     "output_type": "execute_result"
    }
   ],
   "source": [
    "scs(['ABCD', 'CDBC', 'BCDA'])"
   ]
  },
  {
   "cell_type": "markdown",
   "metadata": {},
   "source": [
    "## Lecture: Third law of assembly: repeats are bad"
   ]
  },
  {
   "cell_type": "markdown",
   "metadata": {},
   "source": []
  }
 ],
 "metadata": {
  "kernelspec": {
   "display_name": "myenv",
   "language": "python",
   "name": "python3"
  },
  "language_info": {
   "codemirror_mode": {
    "name": "ipython",
    "version": 3
   },
   "file_extension": ".py",
   "mimetype": "text/x-python",
   "name": "python",
   "nbconvert_exporter": "python",
   "pygments_lexer": "ipython3",
   "version": "3.12.4"
  }
 },
 "nbformat": 4,
 "nbformat_minor": 2
}
